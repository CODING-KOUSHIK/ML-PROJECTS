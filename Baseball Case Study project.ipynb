{
 "cells": [
  {
   "cell_type": "markdown",
   "id": "ce08b5f0",
   "metadata": {},
   "source": [
    "# Project Name:Baseball Case Study project"
   ]
  },
  {
   "cell_type": "markdown",
   "id": "c7104b46",
   "metadata": {},
   "source": [
    "Problem Statement:"
   ]
  },
  {
   "cell_type": "markdown",
   "id": "5765c7b4",
   "metadata": {},
   "source": [
    "This dataset utilizes data from 2014 Major League Baseball seasons in order to develop an algorithm that predicts the number of wins for a given team in the 2015 season based on several different indicators of success. There are 16 different features that will be used as the inputs to the machine learning and the output will be a value that represents the number of wins. "
   ]
  },
  {
   "cell_type": "markdown",
   "id": "e0e15f7a",
   "metadata": {},
   "source": [
    "Input features:"
   ]
  },
  {
   "cell_type": "markdown",
   "id": "449281e6",
   "metadata": {},
   "source": [
    "Runs, At Bats, Hits, Doubles, Triples, Homeruns, Walks, Strikeouts, Stolen Bases, Runs Allowed, Earned Runs, Earned Run Average (ERA), Shutouts, Saves, Complete Games and Errors"
   ]
  },
  {
   "cell_type": "markdown",
   "id": "460eeb17",
   "metadata": {},
   "source": [
    "Output: "
   ]
  },
  {
   "cell_type": "markdown",
   "id": "4b28159a",
   "metadata": {},
   "source": [
    "Number of predicted wins (W)"
   ]
  },
  {
   "cell_type": "code",
   "execution_count": 2,
   "id": "c5cb941f",
   "metadata": {},
   "outputs": [],
   "source": [
    "#import pandas and numpy library\n",
    "import pandas as pd\n",
    "import numpy as np"
   ]
  },
  {
   "cell_type": "code",
   "execution_count": 3,
   "id": "b3597f77",
   "metadata": {},
   "outputs": [],
   "source": [
    "df=pd.read_csv('baseball.csv')"
   ]
  },
  {
   "cell_type": "code",
   "execution_count": 4,
   "id": "b1d63eff",
   "metadata": {},
   "outputs": [
    {
     "data": {
      "text/html": [
       "<div>\n",
       "<style scoped>\n",
       "    .dataframe tbody tr th:only-of-type {\n",
       "        vertical-align: middle;\n",
       "    }\n",
       "\n",
       "    .dataframe tbody tr th {\n",
       "        vertical-align: top;\n",
       "    }\n",
       "\n",
       "    .dataframe thead th {\n",
       "        text-align: right;\n",
       "    }\n",
       "</style>\n",
       "<table border=\"1\" class=\"dataframe\">\n",
       "  <thead>\n",
       "    <tr style=\"text-align: right;\">\n",
       "      <th></th>\n",
       "      <th>W</th>\n",
       "      <th>R</th>\n",
       "      <th>AB</th>\n",
       "      <th>H</th>\n",
       "      <th>2B</th>\n",
       "      <th>3B</th>\n",
       "      <th>HR</th>\n",
       "      <th>BB</th>\n",
       "      <th>SO</th>\n",
       "      <th>SB</th>\n",
       "      <th>RA</th>\n",
       "      <th>ER</th>\n",
       "      <th>ERA</th>\n",
       "      <th>CG</th>\n",
       "      <th>SHO</th>\n",
       "      <th>SV</th>\n",
       "      <th>E</th>\n",
       "    </tr>\n",
       "  </thead>\n",
       "  <tbody>\n",
       "    <tr>\n",
       "      <th>0</th>\n",
       "      <td>95</td>\n",
       "      <td>724</td>\n",
       "      <td>5575</td>\n",
       "      <td>1497</td>\n",
       "      <td>300</td>\n",
       "      <td>42</td>\n",
       "      <td>139</td>\n",
       "      <td>383</td>\n",
       "      <td>973</td>\n",
       "      <td>104</td>\n",
       "      <td>641</td>\n",
       "      <td>601</td>\n",
       "      <td>3.73</td>\n",
       "      <td>2</td>\n",
       "      <td>8</td>\n",
       "      <td>56</td>\n",
       "      <td>88</td>\n",
       "    </tr>\n",
       "    <tr>\n",
       "      <th>1</th>\n",
       "      <td>83</td>\n",
       "      <td>696</td>\n",
       "      <td>5467</td>\n",
       "      <td>1349</td>\n",
       "      <td>277</td>\n",
       "      <td>44</td>\n",
       "      <td>156</td>\n",
       "      <td>439</td>\n",
       "      <td>1264</td>\n",
       "      <td>70</td>\n",
       "      <td>700</td>\n",
       "      <td>653</td>\n",
       "      <td>4.07</td>\n",
       "      <td>2</td>\n",
       "      <td>12</td>\n",
       "      <td>45</td>\n",
       "      <td>86</td>\n",
       "    </tr>\n",
       "    <tr>\n",
       "      <th>2</th>\n",
       "      <td>81</td>\n",
       "      <td>669</td>\n",
       "      <td>5439</td>\n",
       "      <td>1395</td>\n",
       "      <td>303</td>\n",
       "      <td>29</td>\n",
       "      <td>141</td>\n",
       "      <td>533</td>\n",
       "      <td>1157</td>\n",
       "      <td>86</td>\n",
       "      <td>640</td>\n",
       "      <td>584</td>\n",
       "      <td>3.67</td>\n",
       "      <td>11</td>\n",
       "      <td>10</td>\n",
       "      <td>38</td>\n",
       "      <td>79</td>\n",
       "    </tr>\n",
       "    <tr>\n",
       "      <th>3</th>\n",
       "      <td>76</td>\n",
       "      <td>622</td>\n",
       "      <td>5533</td>\n",
       "      <td>1381</td>\n",
       "      <td>260</td>\n",
       "      <td>27</td>\n",
       "      <td>136</td>\n",
       "      <td>404</td>\n",
       "      <td>1231</td>\n",
       "      <td>68</td>\n",
       "      <td>701</td>\n",
       "      <td>643</td>\n",
       "      <td>3.98</td>\n",
       "      <td>7</td>\n",
       "      <td>9</td>\n",
       "      <td>37</td>\n",
       "      <td>101</td>\n",
       "    </tr>\n",
       "    <tr>\n",
       "      <th>4</th>\n",
       "      <td>74</td>\n",
       "      <td>689</td>\n",
       "      <td>5605</td>\n",
       "      <td>1515</td>\n",
       "      <td>289</td>\n",
       "      <td>49</td>\n",
       "      <td>151</td>\n",
       "      <td>455</td>\n",
       "      <td>1259</td>\n",
       "      <td>83</td>\n",
       "      <td>803</td>\n",
       "      <td>746</td>\n",
       "      <td>4.64</td>\n",
       "      <td>7</td>\n",
       "      <td>12</td>\n",
       "      <td>35</td>\n",
       "      <td>86</td>\n",
       "    </tr>\n",
       "    <tr>\n",
       "      <th>5</th>\n",
       "      <td>93</td>\n",
       "      <td>891</td>\n",
       "      <td>5509</td>\n",
       "      <td>1480</td>\n",
       "      <td>308</td>\n",
       "      <td>17</td>\n",
       "      <td>232</td>\n",
       "      <td>570</td>\n",
       "      <td>1151</td>\n",
       "      <td>88</td>\n",
       "      <td>670</td>\n",
       "      <td>609</td>\n",
       "      <td>3.80</td>\n",
       "      <td>7</td>\n",
       "      <td>10</td>\n",
       "      <td>34</td>\n",
       "      <td>88</td>\n",
       "    </tr>\n",
       "    <tr>\n",
       "      <th>6</th>\n",
       "      <td>87</td>\n",
       "      <td>764</td>\n",
       "      <td>5567</td>\n",
       "      <td>1397</td>\n",
       "      <td>272</td>\n",
       "      <td>19</td>\n",
       "      <td>212</td>\n",
       "      <td>554</td>\n",
       "      <td>1227</td>\n",
       "      <td>63</td>\n",
       "      <td>698</td>\n",
       "      <td>652</td>\n",
       "      <td>4.03</td>\n",
       "      <td>3</td>\n",
       "      <td>4</td>\n",
       "      <td>48</td>\n",
       "      <td>93</td>\n",
       "    </tr>\n",
       "    <tr>\n",
       "      <th>7</th>\n",
       "      <td>81</td>\n",
       "      <td>713</td>\n",
       "      <td>5485</td>\n",
       "      <td>1370</td>\n",
       "      <td>246</td>\n",
       "      <td>20</td>\n",
       "      <td>217</td>\n",
       "      <td>418</td>\n",
       "      <td>1331</td>\n",
       "      <td>44</td>\n",
       "      <td>693</td>\n",
       "      <td>646</td>\n",
       "      <td>4.05</td>\n",
       "      <td>0</td>\n",
       "      <td>10</td>\n",
       "      <td>43</td>\n",
       "      <td>77</td>\n",
       "    </tr>\n",
       "    <tr>\n",
       "      <th>8</th>\n",
       "      <td>80</td>\n",
       "      <td>644</td>\n",
       "      <td>5485</td>\n",
       "      <td>1383</td>\n",
       "      <td>278</td>\n",
       "      <td>32</td>\n",
       "      <td>167</td>\n",
       "      <td>436</td>\n",
       "      <td>1310</td>\n",
       "      <td>87</td>\n",
       "      <td>642</td>\n",
       "      <td>604</td>\n",
       "      <td>3.74</td>\n",
       "      <td>1</td>\n",
       "      <td>12</td>\n",
       "      <td>60</td>\n",
       "      <td>95</td>\n",
       "    </tr>\n",
       "    <tr>\n",
       "      <th>9</th>\n",
       "      <td>78</td>\n",
       "      <td>748</td>\n",
       "      <td>5640</td>\n",
       "      <td>1495</td>\n",
       "      <td>294</td>\n",
       "      <td>33</td>\n",
       "      <td>161</td>\n",
       "      <td>478</td>\n",
       "      <td>1148</td>\n",
       "      <td>71</td>\n",
       "      <td>753</td>\n",
       "      <td>694</td>\n",
       "      <td>4.31</td>\n",
       "      <td>3</td>\n",
       "      <td>10</td>\n",
       "      <td>40</td>\n",
       "      <td>97</td>\n",
       "    </tr>\n",
       "    <tr>\n",
       "      <th>10</th>\n",
       "      <td>88</td>\n",
       "      <td>751</td>\n",
       "      <td>5511</td>\n",
       "      <td>1419</td>\n",
       "      <td>279</td>\n",
       "      <td>32</td>\n",
       "      <td>172</td>\n",
       "      <td>503</td>\n",
       "      <td>1233</td>\n",
       "      <td>101</td>\n",
       "      <td>733</td>\n",
       "      <td>680</td>\n",
       "      <td>4.24</td>\n",
       "      <td>5</td>\n",
       "      <td>9</td>\n",
       "      <td>45</td>\n",
       "      <td>119</td>\n",
       "    </tr>\n",
       "    <tr>\n",
       "      <th>11</th>\n",
       "      <td>86</td>\n",
       "      <td>729</td>\n",
       "      <td>5459</td>\n",
       "      <td>1363</td>\n",
       "      <td>278</td>\n",
       "      <td>26</td>\n",
       "      <td>230</td>\n",
       "      <td>486</td>\n",
       "      <td>1392</td>\n",
       "      <td>121</td>\n",
       "      <td>618</td>\n",
       "      <td>572</td>\n",
       "      <td>3.57</td>\n",
       "      <td>5</td>\n",
       "      <td>13</td>\n",
       "      <td>39</td>\n",
       "      <td>85</td>\n",
       "    </tr>\n",
       "    <tr>\n",
       "      <th>12</th>\n",
       "      <td>85</td>\n",
       "      <td>661</td>\n",
       "      <td>5417</td>\n",
       "      <td>1331</td>\n",
       "      <td>243</td>\n",
       "      <td>21</td>\n",
       "      <td>176</td>\n",
       "      <td>435</td>\n",
       "      <td>1150</td>\n",
       "      <td>52</td>\n",
       "      <td>675</td>\n",
       "      <td>630</td>\n",
       "      <td>3.94</td>\n",
       "      <td>2</td>\n",
       "      <td>12</td>\n",
       "      <td>46</td>\n",
       "      <td>93</td>\n",
       "    </tr>\n",
       "    <tr>\n",
       "      <th>13</th>\n",
       "      <td>76</td>\n",
       "      <td>656</td>\n",
       "      <td>5544</td>\n",
       "      <td>1379</td>\n",
       "      <td>262</td>\n",
       "      <td>22</td>\n",
       "      <td>198</td>\n",
       "      <td>478</td>\n",
       "      <td>1336</td>\n",
       "      <td>69</td>\n",
       "      <td>726</td>\n",
       "      <td>677</td>\n",
       "      <td>4.16</td>\n",
       "      <td>6</td>\n",
       "      <td>12</td>\n",
       "      <td>45</td>\n",
       "      <td>94</td>\n",
       "    </tr>\n",
       "    <tr>\n",
       "      <th>14</th>\n",
       "      <td>68</td>\n",
       "      <td>694</td>\n",
       "      <td>5600</td>\n",
       "      <td>1405</td>\n",
       "      <td>277</td>\n",
       "      <td>46</td>\n",
       "      <td>146</td>\n",
       "      <td>475</td>\n",
       "      <td>1119</td>\n",
       "      <td>78</td>\n",
       "      <td>729</td>\n",
       "      <td>664</td>\n",
       "      <td>4.14</td>\n",
       "      <td>5</td>\n",
       "      <td>15</td>\n",
       "      <td>28</td>\n",
       "      <td>126</td>\n",
       "    </tr>\n",
       "    <tr>\n",
       "      <th>15</th>\n",
       "      <td>100</td>\n",
       "      <td>647</td>\n",
       "      <td>5484</td>\n",
       "      <td>1386</td>\n",
       "      <td>288</td>\n",
       "      <td>39</td>\n",
       "      <td>137</td>\n",
       "      <td>506</td>\n",
       "      <td>1267</td>\n",
       "      <td>69</td>\n",
       "      <td>525</td>\n",
       "      <td>478</td>\n",
       "      <td>2.94</td>\n",
       "      <td>1</td>\n",
       "      <td>15</td>\n",
       "      <td>62</td>\n",
       "      <td>96</td>\n",
       "    </tr>\n",
       "    <tr>\n",
       "      <th>16</th>\n",
       "      <td>98</td>\n",
       "      <td>697</td>\n",
       "      <td>5631</td>\n",
       "      <td>1462</td>\n",
       "      <td>292</td>\n",
       "      <td>27</td>\n",
       "      <td>140</td>\n",
       "      <td>461</td>\n",
       "      <td>1322</td>\n",
       "      <td>98</td>\n",
       "      <td>596</td>\n",
       "      <td>532</td>\n",
       "      <td>3.21</td>\n",
       "      <td>0</td>\n",
       "      <td>13</td>\n",
       "      <td>54</td>\n",
       "      <td>122</td>\n",
       "    </tr>\n",
       "    <tr>\n",
       "      <th>17</th>\n",
       "      <td>97</td>\n",
       "      <td>689</td>\n",
       "      <td>5491</td>\n",
       "      <td>1341</td>\n",
       "      <td>272</td>\n",
       "      <td>30</td>\n",
       "      <td>171</td>\n",
       "      <td>567</td>\n",
       "      <td>1518</td>\n",
       "      <td>95</td>\n",
       "      <td>608</td>\n",
       "      <td>546</td>\n",
       "      <td>3.36</td>\n",
       "      <td>6</td>\n",
       "      <td>21</td>\n",
       "      <td>48</td>\n",
       "      <td>111</td>\n",
       "    </tr>\n",
       "    <tr>\n",
       "      <th>18</th>\n",
       "      <td>68</td>\n",
       "      <td>655</td>\n",
       "      <td>5480</td>\n",
       "      <td>1378</td>\n",
       "      <td>274</td>\n",
       "      <td>34</td>\n",
       "      <td>145</td>\n",
       "      <td>412</td>\n",
       "      <td>1299</td>\n",
       "      <td>84</td>\n",
       "      <td>737</td>\n",
       "      <td>682</td>\n",
       "      <td>4.28</td>\n",
       "      <td>1</td>\n",
       "      <td>7</td>\n",
       "      <td>40</td>\n",
       "      <td>116</td>\n",
       "    </tr>\n",
       "    <tr>\n",
       "      <th>19</th>\n",
       "      <td>64</td>\n",
       "      <td>640</td>\n",
       "      <td>5571</td>\n",
       "      <td>1382</td>\n",
       "      <td>257</td>\n",
       "      <td>27</td>\n",
       "      <td>167</td>\n",
       "      <td>496</td>\n",
       "      <td>1255</td>\n",
       "      <td>134</td>\n",
       "      <td>754</td>\n",
       "      <td>700</td>\n",
       "      <td>4.33</td>\n",
       "      <td>2</td>\n",
       "      <td>8</td>\n",
       "      <td>35</td>\n",
       "      <td>90</td>\n",
       "    </tr>\n",
       "    <tr>\n",
       "      <th>20</th>\n",
       "      <td>90</td>\n",
       "      <td>683</td>\n",
       "      <td>5527</td>\n",
       "      <td>1351</td>\n",
       "      <td>295</td>\n",
       "      <td>17</td>\n",
       "      <td>177</td>\n",
       "      <td>488</td>\n",
       "      <td>1290</td>\n",
       "      <td>51</td>\n",
       "      <td>613</td>\n",
       "      <td>557</td>\n",
       "      <td>3.43</td>\n",
       "      <td>1</td>\n",
       "      <td>14</td>\n",
       "      <td>50</td>\n",
       "      <td>88</td>\n",
       "    </tr>\n",
       "    <tr>\n",
       "      <th>21</th>\n",
       "      <td>83</td>\n",
       "      <td>703</td>\n",
       "      <td>5428</td>\n",
       "      <td>1363</td>\n",
       "      <td>265</td>\n",
       "      <td>13</td>\n",
       "      <td>177</td>\n",
       "      <td>539</td>\n",
       "      <td>1344</td>\n",
       "      <td>57</td>\n",
       "      <td>635</td>\n",
       "      <td>577</td>\n",
       "      <td>3.62</td>\n",
       "      <td>4</td>\n",
       "      <td>13</td>\n",
       "      <td>41</td>\n",
       "      <td>90</td>\n",
       "    </tr>\n",
       "    <tr>\n",
       "      <th>22</th>\n",
       "      <td>71</td>\n",
       "      <td>613</td>\n",
       "      <td>5463</td>\n",
       "      <td>1420</td>\n",
       "      <td>236</td>\n",
       "      <td>40</td>\n",
       "      <td>120</td>\n",
       "      <td>375</td>\n",
       "      <td>1150</td>\n",
       "      <td>112</td>\n",
       "      <td>678</td>\n",
       "      <td>638</td>\n",
       "      <td>4.02</td>\n",
       "      <td>0</td>\n",
       "      <td>12</td>\n",
       "      <td>35</td>\n",
       "      <td>77</td>\n",
       "    </tr>\n",
       "    <tr>\n",
       "      <th>23</th>\n",
       "      <td>67</td>\n",
       "      <td>573</td>\n",
       "      <td>5420</td>\n",
       "      <td>1361</td>\n",
       "      <td>251</td>\n",
       "      <td>18</td>\n",
       "      <td>100</td>\n",
       "      <td>471</td>\n",
       "      <td>1107</td>\n",
       "      <td>69</td>\n",
       "      <td>760</td>\n",
       "      <td>698</td>\n",
       "      <td>4.41</td>\n",
       "      <td>3</td>\n",
       "      <td>10</td>\n",
       "      <td>44</td>\n",
       "      <td>90</td>\n",
       "    </tr>\n",
       "    <tr>\n",
       "      <th>24</th>\n",
       "      <td>63</td>\n",
       "      <td>626</td>\n",
       "      <td>5529</td>\n",
       "      <td>1374</td>\n",
       "      <td>272</td>\n",
       "      <td>37</td>\n",
       "      <td>130</td>\n",
       "      <td>387</td>\n",
       "      <td>1274</td>\n",
       "      <td>88</td>\n",
       "      <td>809</td>\n",
       "      <td>749</td>\n",
       "      <td>4.69</td>\n",
       "      <td>1</td>\n",
       "      <td>7</td>\n",
       "      <td>35</td>\n",
       "      <td>117</td>\n",
       "    </tr>\n",
       "    <tr>\n",
       "      <th>25</th>\n",
       "      <td>92</td>\n",
       "      <td>667</td>\n",
       "      <td>5385</td>\n",
       "      <td>1346</td>\n",
       "      <td>263</td>\n",
       "      <td>26</td>\n",
       "      <td>187</td>\n",
       "      <td>563</td>\n",
       "      <td>1258</td>\n",
       "      <td>59</td>\n",
       "      <td>595</td>\n",
       "      <td>553</td>\n",
       "      <td>3.44</td>\n",
       "      <td>6</td>\n",
       "      <td>21</td>\n",
       "      <td>47</td>\n",
       "      <td>75</td>\n",
       "    </tr>\n",
       "    <tr>\n",
       "      <th>26</th>\n",
       "      <td>84</td>\n",
       "      <td>696</td>\n",
       "      <td>5565</td>\n",
       "      <td>1486</td>\n",
       "      <td>288</td>\n",
       "      <td>39</td>\n",
       "      <td>136</td>\n",
       "      <td>457</td>\n",
       "      <td>1159</td>\n",
       "      <td>93</td>\n",
       "      <td>627</td>\n",
       "      <td>597</td>\n",
       "      <td>3.72</td>\n",
       "      <td>7</td>\n",
       "      <td>18</td>\n",
       "      <td>41</td>\n",
       "      <td>78</td>\n",
       "    </tr>\n",
       "    <tr>\n",
       "      <th>27</th>\n",
       "      <td>79</td>\n",
       "      <td>720</td>\n",
       "      <td>5649</td>\n",
       "      <td>1494</td>\n",
       "      <td>289</td>\n",
       "      <td>48</td>\n",
       "      <td>154</td>\n",
       "      <td>490</td>\n",
       "      <td>1312</td>\n",
       "      <td>132</td>\n",
       "      <td>713</td>\n",
       "      <td>659</td>\n",
       "      <td>4.04</td>\n",
       "      <td>1</td>\n",
       "      <td>12</td>\n",
       "      <td>44</td>\n",
       "      <td>86</td>\n",
       "    </tr>\n",
       "    <tr>\n",
       "      <th>28</th>\n",
       "      <td>74</td>\n",
       "      <td>650</td>\n",
       "      <td>5457</td>\n",
       "      <td>1324</td>\n",
       "      <td>260</td>\n",
       "      <td>36</td>\n",
       "      <td>148</td>\n",
       "      <td>426</td>\n",
       "      <td>1327</td>\n",
       "      <td>82</td>\n",
       "      <td>731</td>\n",
       "      <td>655</td>\n",
       "      <td>4.09</td>\n",
       "      <td>1</td>\n",
       "      <td>6</td>\n",
       "      <td>41</td>\n",
       "      <td>92</td>\n",
       "    </tr>\n",
       "    <tr>\n",
       "      <th>29</th>\n",
       "      <td>68</td>\n",
       "      <td>737</td>\n",
       "      <td>5572</td>\n",
       "      <td>1479</td>\n",
       "      <td>274</td>\n",
       "      <td>49</td>\n",
       "      <td>186</td>\n",
       "      <td>388</td>\n",
       "      <td>1283</td>\n",
       "      <td>97</td>\n",
       "      <td>844</td>\n",
       "      <td>799</td>\n",
       "      <td>5.04</td>\n",
       "      <td>4</td>\n",
       "      <td>4</td>\n",
       "      <td>36</td>\n",
       "      <td>95</td>\n",
       "    </tr>\n",
       "  </tbody>\n",
       "</table>\n",
       "</div>"
      ],
      "text/plain": [
       "      W    R    AB     H   2B  3B   HR   BB    SO   SB   RA   ER   ERA  CG  \\\n",
       "0    95  724  5575  1497  300  42  139  383   973  104  641  601  3.73   2   \n",
       "1    83  696  5467  1349  277  44  156  439  1264   70  700  653  4.07   2   \n",
       "2    81  669  5439  1395  303  29  141  533  1157   86  640  584  3.67  11   \n",
       "3    76  622  5533  1381  260  27  136  404  1231   68  701  643  3.98   7   \n",
       "4    74  689  5605  1515  289  49  151  455  1259   83  803  746  4.64   7   \n",
       "5    93  891  5509  1480  308  17  232  570  1151   88  670  609  3.80   7   \n",
       "6    87  764  5567  1397  272  19  212  554  1227   63  698  652  4.03   3   \n",
       "7    81  713  5485  1370  246  20  217  418  1331   44  693  646  4.05   0   \n",
       "8    80  644  5485  1383  278  32  167  436  1310   87  642  604  3.74   1   \n",
       "9    78  748  5640  1495  294  33  161  478  1148   71  753  694  4.31   3   \n",
       "10   88  751  5511  1419  279  32  172  503  1233  101  733  680  4.24   5   \n",
       "11   86  729  5459  1363  278  26  230  486  1392  121  618  572  3.57   5   \n",
       "12   85  661  5417  1331  243  21  176  435  1150   52  675  630  3.94   2   \n",
       "13   76  656  5544  1379  262  22  198  478  1336   69  726  677  4.16   6   \n",
       "14   68  694  5600  1405  277  46  146  475  1119   78  729  664  4.14   5   \n",
       "15  100  647  5484  1386  288  39  137  506  1267   69  525  478  2.94   1   \n",
       "16   98  697  5631  1462  292  27  140  461  1322   98  596  532  3.21   0   \n",
       "17   97  689  5491  1341  272  30  171  567  1518   95  608  546  3.36   6   \n",
       "18   68  655  5480  1378  274  34  145  412  1299   84  737  682  4.28   1   \n",
       "19   64  640  5571  1382  257  27  167  496  1255  134  754  700  4.33   2   \n",
       "20   90  683  5527  1351  295  17  177  488  1290   51  613  557  3.43   1   \n",
       "21   83  703  5428  1363  265  13  177  539  1344   57  635  577  3.62   4   \n",
       "22   71  613  5463  1420  236  40  120  375  1150  112  678  638  4.02   0   \n",
       "23   67  573  5420  1361  251  18  100  471  1107   69  760  698  4.41   3   \n",
       "24   63  626  5529  1374  272  37  130  387  1274   88  809  749  4.69   1   \n",
       "25   92  667  5385  1346  263  26  187  563  1258   59  595  553  3.44   6   \n",
       "26   84  696  5565  1486  288  39  136  457  1159   93  627  597  3.72   7   \n",
       "27   79  720  5649  1494  289  48  154  490  1312  132  713  659  4.04   1   \n",
       "28   74  650  5457  1324  260  36  148  426  1327   82  731  655  4.09   1   \n",
       "29   68  737  5572  1479  274  49  186  388  1283   97  844  799  5.04   4   \n",
       "\n",
       "    SHO  SV    E  \n",
       "0     8  56   88  \n",
       "1    12  45   86  \n",
       "2    10  38   79  \n",
       "3     9  37  101  \n",
       "4    12  35   86  \n",
       "5    10  34   88  \n",
       "6     4  48   93  \n",
       "7    10  43   77  \n",
       "8    12  60   95  \n",
       "9    10  40   97  \n",
       "10    9  45  119  \n",
       "11   13  39   85  \n",
       "12   12  46   93  \n",
       "13   12  45   94  \n",
       "14   15  28  126  \n",
       "15   15  62   96  \n",
       "16   13  54  122  \n",
       "17   21  48  111  \n",
       "18    7  40  116  \n",
       "19    8  35   90  \n",
       "20   14  50   88  \n",
       "21   13  41   90  \n",
       "22   12  35   77  \n",
       "23   10  44   90  \n",
       "24    7  35  117  \n",
       "25   21  47   75  \n",
       "26   18  41   78  \n",
       "27   12  44   86  \n",
       "28    6  41   92  \n",
       "29    4  36   95  "
      ]
     },
     "execution_count": 4,
     "metadata": {},
     "output_type": "execute_result"
    }
   ],
   "source": [
    "df"
   ]
  },
  {
   "cell_type": "markdown",
   "id": "a1f5b2d3",
   "metadata": {},
   "source": [
    "# About Data:"
   ]
  },
  {
   "cell_type": "markdown",
   "id": "3b65b221",
   "metadata": {},
   "source": [
    "R: Runs,\n",
    "\n",
    "AB: At Bats\n",
    "\n",
    "H: Hits\n",
    "\n",
    "2B: Doubles\n",
    "\n",
    "3B: Triples\n",
    "\n",
    "HR: Homeruns\n",
    "\n",
    "BB: Walks\n",
    "\n",
    "SO: Strikeouts\n",
    "\n",
    "SB: Stolen Bases\n",
    "\n",
    "RA: Runs Allowed\n",
    "\n",
    "ER: Earned Runs\n",
    "\n",
    "ERA: Earned Run Average (ERA)\n",
    "\n",
    "CG: Shutouts\n",
    "\n",
    "SV: Saves,\n",
    "\n",
    "SV: Complete Games\n",
    "\n",
    "E: Errors\n",
    "\n",
    "W: Win"
   ]
  },
  {
   "cell_type": "code",
   "execution_count": 5,
   "id": "01db9799",
   "metadata": {},
   "outputs": [
    {
     "data": {
      "text/plain": [
       "W      0\n",
       "R      0\n",
       "AB     0\n",
       "H      0\n",
       "2B     0\n",
       "3B     0\n",
       "HR     0\n",
       "BB     0\n",
       "SO     0\n",
       "SB     0\n",
       "RA     0\n",
       "ER     0\n",
       "ERA    0\n",
       "CG     0\n",
       "SHO    0\n",
       "SV     0\n",
       "E      0\n",
       "dtype: int64"
      ]
     },
     "execution_count": 5,
     "metadata": {},
     "output_type": "execute_result"
    }
   ],
   "source": [
    "#Checking null values in our dataset\n",
    "df.isnull().sum()"
   ]
  },
  {
   "cell_type": "markdown",
   "id": "6899046c",
   "metadata": {},
   "source": [
    "we observed from the above code there is no null value in our DataFrame."
   ]
  },
  {
   "cell_type": "code",
   "execution_count": 6,
   "id": "d09ab91f",
   "metadata": {},
   "outputs": [
    {
     "data": {
      "text/plain": [
       "(30, 17)"
      ]
     },
     "execution_count": 6,
     "metadata": {},
     "output_type": "execute_result"
    }
   ],
   "source": [
    "#checking shape of of the DataFrame\n",
    "df.shape"
   ]
  },
  {
   "cell_type": "markdown",
   "id": "a5ef679c",
   "metadata": {},
   "source": [
    "we see that our dataframe has 17 columns and 30 rows.So, we need to predict the number of wins by 16 types of data and each column contains 30 data."
   ]
  },
  {
   "cell_type": "code",
   "execution_count": 7,
   "id": "39d08e30",
   "metadata": {},
   "outputs": [
    {
     "name": "stdout",
     "output_type": "stream",
     "text": [
      "<class 'pandas.core.frame.DataFrame'>\n",
      "RangeIndex: 30 entries, 0 to 29\n",
      "Data columns (total 17 columns):\n",
      " #   Column  Non-Null Count  Dtype  \n",
      "---  ------  --------------  -----  \n",
      " 0   W       30 non-null     int64  \n",
      " 1   R       30 non-null     int64  \n",
      " 2   AB      30 non-null     int64  \n",
      " 3   H       30 non-null     int64  \n",
      " 4   2B      30 non-null     int64  \n",
      " 5   3B      30 non-null     int64  \n",
      " 6   HR      30 non-null     int64  \n",
      " 7   BB      30 non-null     int64  \n",
      " 8   SO      30 non-null     int64  \n",
      " 9   SB      30 non-null     int64  \n",
      " 10  RA      30 non-null     int64  \n",
      " 11  ER      30 non-null     int64  \n",
      " 12  ERA     30 non-null     float64\n",
      " 13  CG      30 non-null     int64  \n",
      " 14  SHO     30 non-null     int64  \n",
      " 15  SV      30 non-null     int64  \n",
      " 16  E       30 non-null     int64  \n",
      "dtypes: float64(1), int64(16)\n",
      "memory usage: 4.1 KB\n"
     ]
    }
   ],
   "source": [
    "#Checking information of the columns\n",
    "df.info()"
   ]
  },
  {
   "cell_type": "markdown",
   "id": "98a09200",
   "metadata": {},
   "source": [
    "We noticed from the code above that all columns except \"ERA\" are integer types and \"ERA\" is the float type."
   ]
  },
  {
   "cell_type": "code",
   "execution_count": 8,
   "id": "0dbbb30c",
   "metadata": {},
   "outputs": [
    {
     "data": {
      "text/html": [
       "<div>\n",
       "<style scoped>\n",
       "    .dataframe tbody tr th:only-of-type {\n",
       "        vertical-align: middle;\n",
       "    }\n",
       "\n",
       "    .dataframe tbody tr th {\n",
       "        vertical-align: top;\n",
       "    }\n",
       "\n",
       "    .dataframe thead th {\n",
       "        text-align: right;\n",
       "    }\n",
       "</style>\n",
       "<table border=\"1\" class=\"dataframe\">\n",
       "  <thead>\n",
       "    <tr style=\"text-align: right;\">\n",
       "      <th></th>\n",
       "      <th>W</th>\n",
       "      <th>R</th>\n",
       "      <th>AB</th>\n",
       "      <th>H</th>\n",
       "      <th>2B</th>\n",
       "      <th>3B</th>\n",
       "      <th>HR</th>\n",
       "      <th>BB</th>\n",
       "      <th>SO</th>\n",
       "      <th>SB</th>\n",
       "      <th>RA</th>\n",
       "      <th>ER</th>\n",
       "      <th>ERA</th>\n",
       "      <th>CG</th>\n",
       "      <th>SHO</th>\n",
       "      <th>SV</th>\n",
       "      <th>E</th>\n",
       "    </tr>\n",
       "  </thead>\n",
       "  <tbody>\n",
       "    <tr>\n",
       "      <th>count</th>\n",
       "      <td>30.000000</td>\n",
       "      <td>30.000000</td>\n",
       "      <td>30.000000</td>\n",
       "      <td>30.000000</td>\n",
       "      <td>30.000000</td>\n",
       "      <td>30.000000</td>\n",
       "      <td>30.000000</td>\n",
       "      <td>30.000000</td>\n",
       "      <td>30.00000</td>\n",
       "      <td>30.000000</td>\n",
       "      <td>30.000000</td>\n",
       "      <td>30.000000</td>\n",
       "      <td>30.000000</td>\n",
       "      <td>30.000000</td>\n",
       "      <td>30.000000</td>\n",
       "      <td>30.000000</td>\n",
       "      <td>30.000000</td>\n",
       "    </tr>\n",
       "    <tr>\n",
       "      <th>mean</th>\n",
       "      <td>80.966667</td>\n",
       "      <td>688.233333</td>\n",
       "      <td>5516.266667</td>\n",
       "      <td>1403.533333</td>\n",
       "      <td>274.733333</td>\n",
       "      <td>31.300000</td>\n",
       "      <td>163.633333</td>\n",
       "      <td>469.100000</td>\n",
       "      <td>1248.20000</td>\n",
       "      <td>83.500000</td>\n",
       "      <td>688.233333</td>\n",
       "      <td>635.833333</td>\n",
       "      <td>3.956333</td>\n",
       "      <td>3.466667</td>\n",
       "      <td>11.300000</td>\n",
       "      <td>43.066667</td>\n",
       "      <td>94.333333</td>\n",
       "    </tr>\n",
       "    <tr>\n",
       "      <th>std</th>\n",
       "      <td>10.453455</td>\n",
       "      <td>58.761754</td>\n",
       "      <td>70.467372</td>\n",
       "      <td>57.140923</td>\n",
       "      <td>18.095405</td>\n",
       "      <td>10.452355</td>\n",
       "      <td>31.823309</td>\n",
       "      <td>57.053725</td>\n",
       "      <td>103.75947</td>\n",
       "      <td>22.815225</td>\n",
       "      <td>72.108005</td>\n",
       "      <td>70.140786</td>\n",
       "      <td>0.454089</td>\n",
       "      <td>2.763473</td>\n",
       "      <td>4.120177</td>\n",
       "      <td>7.869335</td>\n",
       "      <td>13.958889</td>\n",
       "    </tr>\n",
       "    <tr>\n",
       "      <th>min</th>\n",
       "      <td>63.000000</td>\n",
       "      <td>573.000000</td>\n",
       "      <td>5385.000000</td>\n",
       "      <td>1324.000000</td>\n",
       "      <td>236.000000</td>\n",
       "      <td>13.000000</td>\n",
       "      <td>100.000000</td>\n",
       "      <td>375.000000</td>\n",
       "      <td>973.00000</td>\n",
       "      <td>44.000000</td>\n",
       "      <td>525.000000</td>\n",
       "      <td>478.000000</td>\n",
       "      <td>2.940000</td>\n",
       "      <td>0.000000</td>\n",
       "      <td>4.000000</td>\n",
       "      <td>28.000000</td>\n",
       "      <td>75.000000</td>\n",
       "    </tr>\n",
       "    <tr>\n",
       "      <th>25%</th>\n",
       "      <td>74.000000</td>\n",
       "      <td>651.250000</td>\n",
       "      <td>5464.000000</td>\n",
       "      <td>1363.000000</td>\n",
       "      <td>262.250000</td>\n",
       "      <td>23.000000</td>\n",
       "      <td>140.250000</td>\n",
       "      <td>428.250000</td>\n",
       "      <td>1157.50000</td>\n",
       "      <td>69.000000</td>\n",
       "      <td>636.250000</td>\n",
       "      <td>587.250000</td>\n",
       "      <td>3.682500</td>\n",
       "      <td>1.000000</td>\n",
       "      <td>9.000000</td>\n",
       "      <td>37.250000</td>\n",
       "      <td>86.000000</td>\n",
       "    </tr>\n",
       "    <tr>\n",
       "      <th>50%</th>\n",
       "      <td>81.000000</td>\n",
       "      <td>689.000000</td>\n",
       "      <td>5510.000000</td>\n",
       "      <td>1382.500000</td>\n",
       "      <td>275.500000</td>\n",
       "      <td>31.000000</td>\n",
       "      <td>158.500000</td>\n",
       "      <td>473.000000</td>\n",
       "      <td>1261.50000</td>\n",
       "      <td>83.500000</td>\n",
       "      <td>695.500000</td>\n",
       "      <td>644.500000</td>\n",
       "      <td>4.025000</td>\n",
       "      <td>3.000000</td>\n",
       "      <td>12.000000</td>\n",
       "      <td>42.000000</td>\n",
       "      <td>91.000000</td>\n",
       "    </tr>\n",
       "    <tr>\n",
       "      <th>75%</th>\n",
       "      <td>87.750000</td>\n",
       "      <td>718.250000</td>\n",
       "      <td>5570.000000</td>\n",
       "      <td>1451.500000</td>\n",
       "      <td>288.750000</td>\n",
       "      <td>39.000000</td>\n",
       "      <td>177.000000</td>\n",
       "      <td>501.250000</td>\n",
       "      <td>1311.50000</td>\n",
       "      <td>96.500000</td>\n",
       "      <td>732.500000</td>\n",
       "      <td>679.250000</td>\n",
       "      <td>4.220000</td>\n",
       "      <td>5.750000</td>\n",
       "      <td>13.000000</td>\n",
       "      <td>46.750000</td>\n",
       "      <td>96.750000</td>\n",
       "    </tr>\n",
       "    <tr>\n",
       "      <th>max</th>\n",
       "      <td>100.000000</td>\n",
       "      <td>891.000000</td>\n",
       "      <td>5649.000000</td>\n",
       "      <td>1515.000000</td>\n",
       "      <td>308.000000</td>\n",
       "      <td>49.000000</td>\n",
       "      <td>232.000000</td>\n",
       "      <td>570.000000</td>\n",
       "      <td>1518.00000</td>\n",
       "      <td>134.000000</td>\n",
       "      <td>844.000000</td>\n",
       "      <td>799.000000</td>\n",
       "      <td>5.040000</td>\n",
       "      <td>11.000000</td>\n",
       "      <td>21.000000</td>\n",
       "      <td>62.000000</td>\n",
       "      <td>126.000000</td>\n",
       "    </tr>\n",
       "  </tbody>\n",
       "</table>\n",
       "</div>"
      ],
      "text/plain": [
       "                W           R           AB            H          2B  \\\n",
       "count   30.000000   30.000000    30.000000    30.000000   30.000000   \n",
       "mean    80.966667  688.233333  5516.266667  1403.533333  274.733333   \n",
       "std     10.453455   58.761754    70.467372    57.140923   18.095405   \n",
       "min     63.000000  573.000000  5385.000000  1324.000000  236.000000   \n",
       "25%     74.000000  651.250000  5464.000000  1363.000000  262.250000   \n",
       "50%     81.000000  689.000000  5510.000000  1382.500000  275.500000   \n",
       "75%     87.750000  718.250000  5570.000000  1451.500000  288.750000   \n",
       "max    100.000000  891.000000  5649.000000  1515.000000  308.000000   \n",
       "\n",
       "              3B          HR          BB          SO          SB          RA  \\\n",
       "count  30.000000   30.000000   30.000000    30.00000   30.000000   30.000000   \n",
       "mean   31.300000  163.633333  469.100000  1248.20000   83.500000  688.233333   \n",
       "std    10.452355   31.823309   57.053725   103.75947   22.815225   72.108005   \n",
       "min    13.000000  100.000000  375.000000   973.00000   44.000000  525.000000   \n",
       "25%    23.000000  140.250000  428.250000  1157.50000   69.000000  636.250000   \n",
       "50%    31.000000  158.500000  473.000000  1261.50000   83.500000  695.500000   \n",
       "75%    39.000000  177.000000  501.250000  1311.50000   96.500000  732.500000   \n",
       "max    49.000000  232.000000  570.000000  1518.00000  134.000000  844.000000   \n",
       "\n",
       "               ER        ERA         CG        SHO         SV           E  \n",
       "count   30.000000  30.000000  30.000000  30.000000  30.000000   30.000000  \n",
       "mean   635.833333   3.956333   3.466667  11.300000  43.066667   94.333333  \n",
       "std     70.140786   0.454089   2.763473   4.120177   7.869335   13.958889  \n",
       "min    478.000000   2.940000   0.000000   4.000000  28.000000   75.000000  \n",
       "25%    587.250000   3.682500   1.000000   9.000000  37.250000   86.000000  \n",
       "50%    644.500000   4.025000   3.000000  12.000000  42.000000   91.000000  \n",
       "75%    679.250000   4.220000   5.750000  13.000000  46.750000   96.750000  \n",
       "max    799.000000   5.040000  11.000000  21.000000  62.000000  126.000000  "
      ]
     },
     "execution_count": 8,
     "metadata": {},
     "output_type": "execute_result"
    }
   ],
   "source": [
    "#checking mean,standard_deviation,minimum value,25th percentile,50th percentile,75th percentile,maximum value by df.describe\n",
    "df.describe()"
   ]
  },
  {
   "cell_type": "markdown",
   "id": "63673ab8",
   "metadata": {},
   "source": [
    "# Exploratory Data Analysis (EDA)"
   ]
  },
  {
   "cell_type": "code",
   "execution_count": 9,
   "id": "c243d4ca",
   "metadata": {},
   "outputs": [],
   "source": [
    "import seaborn as sns\n",
    "import matplotlib.pyplot as plt\n",
    "import warnings \n",
    "warnings.filterwarnings('ignore')"
   ]
  },
  {
   "cell_type": "code",
   "execution_count": 10,
   "id": "a45b0068",
   "metadata": {},
   "outputs": [
    {
     "data": {
      "text/plain": [
       "<AxesSubplot:>"
      ]
     },
     "execution_count": 10,
     "metadata": {},
     "output_type": "execute_result"
    },
    {
     "data": {
      "image/png": "[encoded data removed]",
      "text/plain": [
       "<Figure size 864x504 with 2 Axes>"
      ]
     },
     "metadata": {
      "needs_background": "light"
     },
     "output_type": "display_data"
    }
   ],
   "source": [
    "#Checking null values using heatmap\n",
    "plt.figure(figsize=(12,7))\n",
    "sns.heatmap(df.isnull())"
   ]
  },
  {
   "cell_type": "markdown",
   "id": "6d3f47e6",
   "metadata": {},
   "source": [
    "From the heatmap we can see that there is no null value in the dataset"
   ]
  },
  {
   "cell_type": "code",
   "execution_count": 11,
   "id": "f37a8f2a",
   "metadata": {},
   "outputs": [
    {
     "data": {
      "text/plain": [
       "W      0.047089\n",
       "R      1.200786\n",
       "AB     0.183437\n",
       "H      0.670254\n",
       "2B    -0.230650\n",
       "3B     0.129502\n",
       "HR     0.516441\n",
       "BB     0.158498\n",
       "SO    -0.156065\n",
       "SB     0.479893\n",
       "RA     0.045734\n",
       "ER     0.058710\n",
       "ERA    0.053331\n",
       "CG     0.736845\n",
       "SHO    0.565790\n",
       "SV     0.657524\n",
       "E      0.890132\n",
       "dtype: float64"
      ]
     },
     "execution_count": 11,
     "metadata": {},
     "output_type": "execute_result"
    }
   ],
   "source": [
    "#checking skewness of every column\n",
    "df.skew()"
   ]
  },
  {
   "cell_type": "markdown",
   "id": "0e7f0478",
   "metadata": {},
   "source": [
    "we see that [\"R\",\"H\",\"HR\",\"CG\",\"SHO\",\"SV\",\"E\"] columns present skewness more than 0.5"
   ]
  },
  {
   "cell_type": "code",
   "execution_count": 12,
   "id": "971c9b78",
   "metadata": {},
   "outputs": [
    {
     "data": {
      "text/plain": [
       "<AxesSubplot:xlabel='R', ylabel='Density'>"
      ]
     },
     "execution_count": 12,
     "metadata": {},
     "output_type": "execute_result"
    },
    {
     "data": {
      "image/png": "[encoded data removed]",
      "text/plain": [
       "<Figure size 864x504 with 1 Axes>"
      ]
     },
     "metadata": {
      "needs_background": "light"
     },
     "output_type": "display_data"
    }
   ],
   "source": [
    "#checking distribution curve of \"R\" column\n",
    "plt.figure(figsize=(12,7))\n",
    "sns.distplot(df[\"R\"])"
   ]
  },
  {
   "cell_type": "markdown",
   "id": "8613a948",
   "metadata": {},
   "source": [
    "we can see from the curve that some skewness are present in the \"R\" column."
   ]
  },
  {
   "cell_type": "code",
   "execution_count": 13,
   "id": "3f695cff",
   "metadata": {},
   "outputs": [
    {
     "data": {
      "text/plain": [
       "<AxesSubplot:xlabel='AB', ylabel='Density'>"
      ]
     },
     "execution_count": 13,
     "metadata": {},
     "output_type": "execute_result"
    },
    {
     "data": {
      "image/png": "[encoded data removed]",
      "text/plain": [
       "<Figure size 864x504 with 1 Axes>"
      ]
     },
     "metadata": {
      "needs_background": "light"
     },
     "output_type": "display_data"
    }
   ],
   "source": [
    "#checking distribution curve of \"AB\" column\n",
    "plt.figure(figsize=(12,7))\n",
    "sns.distplot(df[\"AB\"])"
   ]
  },
  {
   "cell_type": "markdown",
   "id": "2a2f2818",
   "metadata": {},
   "source": [
    "Seems like a normal distribution curve"
   ]
  },
  {
   "cell_type": "code",
   "execution_count": 14,
   "id": "426a8fc2",
   "metadata": {},
   "outputs": [
    {
     "data": {
      "text/plain": [
       "<AxesSubplot:xlabel='H', ylabel='Density'>"
      ]
     },
     "execution_count": 14,
     "metadata": {},
     "output_type": "execute_result"
    },
    {
     "data": {
      "image/png": "[encoded data removed]",
      "text/plain": [
       "<Figure size 864x504 with 1 Axes>"
      ]
     },
     "metadata": {
      "needs_background": "light"
     },
     "output_type": "display_data"
    }
   ],
   "source": [
    "#checking distribution curve of \"H\" column\n",
    "plt.figure(figsize=(12,7))\n",
    "sns.distplot(df[\"H\"])"
   ]
  },
  {
   "cell_type": "markdown",
   "id": "b4880023",
   "metadata": {},
   "source": [
    "we can see from the curve that some skewness are present in the \"R\" column."
   ]
  },
  {
   "cell_type": "code",
   "execution_count": 15,
   "id": "be62d366",
   "metadata": {},
   "outputs": [
    {
     "data": {
      "text/plain": [
       "<AxesSubplot:xlabel='2B', ylabel='Density'>"
      ]
     },
     "execution_count": 15,
     "metadata": {},
     "output_type": "execute_result"
    },
    {
     "data": {
      "image/png": "[encoded data removed]",
      "text/plain": [
       "<Figure size 864x504 with 1 Axes>"
      ]
     },
     "metadata": {
      "needs_background": "light"
     },
     "output_type": "display_data"
    }
   ],
   "source": [
    "#checking distribution curve of \"2B\" column\n",
    "plt.figure(figsize=(12,7))\n",
    "sns.distplot(df[\"2B\"])"
   ]
  },
  {
   "cell_type": "markdown",
   "id": "4df870c5",
   "metadata": {},
   "source": [
    "some skewness present in the curve"
   ]
  },
  {
   "cell_type": "code",
   "execution_count": 16,
   "id": "607189bc",
   "metadata": {},
   "outputs": [
    {
     "data": {
      "text/plain": [
       "<AxesSubplot:xlabel='3B', ylabel='Density'>"
      ]
     },
     "execution_count": 16,
     "metadata": {},
     "output_type": "execute_result"
    },
    {
     "data": {
      "image/png": "[encoded data removed]",
      "text/plain": [
       "<Figure size 864x504 with 1 Axes>"
      ]
     },
     "metadata": {
      "needs_background": "light"
     },
     "output_type": "display_data"
    }
   ],
   "source": [
    "#checking distribution curve of \"3B\" column\n",
    "plt.figure(figsize=(12,7))\n",
    "sns.distplot(df[\"3B\"])"
   ]
  },
  {
   "cell_type": "markdown",
   "id": "022f9b95",
   "metadata": {},
   "source": [
    "seems like a normal distribution curve."
   ]
  },
  {
   "cell_type": "code",
   "execution_count": 17,
   "id": "cc05fa02",
   "metadata": {},
   "outputs": [
    {
     "data": {
      "text/plain": [
       "<AxesSubplot:xlabel='HR', ylabel='Density'>"
      ]
     },
     "execution_count": 17,
     "metadata": {},
     "output_type": "execute_result"
    },
    {
     "data": {
      "image/png": "[encoded data removed]",
      "text/plain": [
       "<Figure size 864x504 with 1 Axes>"
      ]
     },
     "metadata": {
      "needs_background": "light"
     },
     "output_type": "display_data"
    }
   ],
   "source": [
    "#checking distribution curve of \"HR\" column\n",
    "plt.figure(figsize=(12,7))\n",
    "sns.distplot(df[\"HR\"])"
   ]
  },
  {
   "cell_type": "markdown",
   "id": "0e0bfbce",
   "metadata": {},
   "source": [
    "Some skewness present in the right side of the above curve"
   ]
  },
  {
   "cell_type": "code",
   "execution_count": 18,
   "id": "1437e668",
   "metadata": {},
   "outputs": [
    {
     "data": {
      "text/plain": [
       "<AxesSubplot:xlabel='BB', ylabel='Density'>"
      ]
     },
     "execution_count": 18,
     "metadata": {},
     "output_type": "execute_result"
    },
    {
     "data": {
      "image/png": "[encoded data removed]",
      "text/plain": [
       "<Figure size 864x504 with 1 Axes>"
      ]
     },
     "metadata": {
      "needs_background": "light"
     },
     "output_type": "display_data"
    }
   ],
   "source": [
    "#checking distribution curve of \"BB\" column\n",
    "plt.figure(figsize=(12,7))\n",
    "sns.distplot(df[\"BB\"])"
   ]
  },
  {
   "cell_type": "markdown",
   "id": "f2bf3954",
   "metadata": {},
   "source": [
    "In the plot above we can see that the skewness of the right side exists more than the left side."
   ]
  },
  {
   "cell_type": "code",
   "execution_count": 19,
   "id": "b91e23e9",
   "metadata": {},
   "outputs": [
    {
     "data": {
      "text/plain": [
       "<AxesSubplot:xlabel='SO', ylabel='Density'>"
      ]
     },
     "execution_count": 19,
     "metadata": {},
     "output_type": "execute_result"
    },
    {
     "data": {
      "image/png": "[encoded data removed]",
      "text/plain": [
       "<Figure size 864x504 with 1 Axes>"
      ]
     },
     "metadata": {
      "needs_background": "light"
     },
     "output_type": "display_data"
    }
   ],
   "source": [
    "#checking distribution curve of \"SO\" column\n",
    "plt.figure(figsize=(12,7))\n",
    "sns.distplot(df[\"SO\"])"
   ]
  },
  {
   "cell_type": "markdown",
   "id": "615faab9",
   "metadata": {},
   "source": [
    "we can see from the above plot that there is heavy skewness present in both side."
   ]
  },
  {
   "cell_type": "code",
   "execution_count": 20,
   "id": "96db4ecf",
   "metadata": {},
   "outputs": [
    {
     "data": {
      "text/plain": [
       "<AxesSubplot:xlabel='SB', ylabel='Density'>"
      ]
     },
     "execution_count": 20,
     "metadata": {},
     "output_type": "execute_result"
    },
    {
     "data": {
      "image/png": "[encoded data removed]",
      "text/plain": [
       "<Figure size 864x504 with 1 Axes>"
      ]
     },
     "metadata": {
      "needs_background": "light"
     },
     "output_type": "display_data"
    }
   ],
   "source": [
    "#checking distribution curve of \"SB\" column\n",
    "plt.figure(figsize=(12,7))\n",
    "sns.distplot(df[\"SB\"])"
   ]
  },
  {
   "cell_type": "markdown",
   "id": "74a1bfeb",
   "metadata": {},
   "source": [
    "we can see from the above plot that there is some skewness present in the right side."
   ]
  },
  {
   "cell_type": "code",
   "execution_count": 21,
   "id": "fb6cbd64",
   "metadata": {},
   "outputs": [
    {
     "data": {
      "text/plain": [
       "<AxesSubplot:xlabel='RA', ylabel='Density'>"
      ]
     },
     "execution_count": 21,
     "metadata": {},
     "output_type": "execute_result"
    },
    {
     "data": {
      "image/png": "[encoded data removed]",
      "text/plain": [
       "<Figure size 864x504 with 1 Axes>"
      ]
     },
     "metadata": {
      "needs_background": "light"
     },
     "output_type": "display_data"
    }
   ],
   "source": [
    "#checking distribution curve of \"RA\" column\n",
    "plt.figure(figsize=(12,7))\n",
    "sns.distplot(df[\"RA\"])"
   ]
  },
  {
   "cell_type": "markdown",
   "id": "eb4432b5",
   "metadata": {},
   "source": [
    "seems like a normal distribution curve"
   ]
  },
  {
   "cell_type": "code",
   "execution_count": 22,
   "id": "7c4b14f4",
   "metadata": {},
   "outputs": [
    {
     "data": {
      "text/plain": [
       "<AxesSubplot:xlabel='ER', ylabel='Density'>"
      ]
     },
     "execution_count": 22,
     "metadata": {},
     "output_type": "execute_result"
    },
    {
     "data": {
      "image/png": "[encoded data removed]",
      "text/plain": [
       "<Figure size 864x504 with 1 Axes>"
      ]
     },
     "metadata": {
      "needs_background": "light"
     },
     "output_type": "display_data"
    }
   ],
   "source": [
    "#checking distribution curve of \"ER\" column\n",
    "plt.figure(figsize=(12,7))\n",
    "sns.distplot(df[\"ER\"])"
   ]
  },
  {
   "cell_type": "markdown",
   "id": "f7e970d6",
   "metadata": {},
   "source": [
    "in the above plot some skewness present in the right side of the curve."
   ]
  },
  {
   "cell_type": "code",
   "execution_count": 23,
   "id": "06c6ba73",
   "metadata": {},
   "outputs": [
    {
     "data": {
      "text/plain": [
       "<AxesSubplot:xlabel='ERA', ylabel='Density'>"
      ]
     },
     "execution_count": 23,
     "metadata": {},
     "output_type": "execute_result"
    },
    {
     "data": {
      "image/png": "[encoded data removed]",
      "text/plain": [
       "<Figure size 864x504 with 1 Axes>"
      ]
     },
     "metadata": {
      "needs_background": "light"
     },
     "output_type": "display_data"
    }
   ],
   "source": [
    "#checking distribution curve of \"ERA\" column\n",
    "plt.figure(figsize=(12,7))\n",
    "sns.distplot(df[\"ERA\"])"
   ]
  },
  {
   "cell_type": "markdown",
   "id": "9e13a34b",
   "metadata": {},
   "source": [
    "The above curve like a normal distribution curve."
   ]
  },
  {
   "cell_type": "code",
   "execution_count": 24,
   "id": "612b3e78",
   "metadata": {},
   "outputs": [
    {
     "data": {
      "text/plain": [
       "<AxesSubplot:xlabel='CG', ylabel='Density'>"
      ]
     },
     "execution_count": 24,
     "metadata": {},
     "output_type": "execute_result"
    },
    {
     "data": {
      "image/png": "[encoded data removed]",
      "text/plain": [
       "<Figure size 864x504 with 1 Axes>"
      ]
     },
     "metadata": {
      "needs_background": "light"
     },
     "output_type": "display_data"
    }
   ],
   "source": [
    "#checking distribution curve of \"CG\" column\n",
    "plt.figure(figsize=(12,7))\n",
    "sns.distplot(df[\"CG\"])"
   ]
  },
  {
   "cell_type": "markdown",
   "id": "7c998a04",
   "metadata": {},
   "source": [
    "from the above curve we can say that there is heavey skewness present in the right side of the curve."
   ]
  },
  {
   "cell_type": "code",
   "execution_count": 25,
   "id": "eaecf14a",
   "metadata": {},
   "outputs": [
    {
     "data": {
      "text/plain": [
       "<AxesSubplot:xlabel='SHO', ylabel='Density'>"
      ]
     },
     "execution_count": 25,
     "metadata": {},
     "output_type": "execute_result"
    },
    {
     "data": {
      "image/png": "[encoded data removed]",
      "text/plain": [
       "<Figure size 864x504 with 1 Axes>"
      ]
     },
     "metadata": {
      "needs_background": "light"
     },
     "output_type": "display_data"
    }
   ],
   "source": [
    "#checking distribution curve of \"SHO\" column\n",
    "plt.figure(figsize=(12,7))\n",
    "sns.distplot(df[\"SHO\"])"
   ]
  },
  {
   "cell_type": "markdown",
   "id": "72a21828",
   "metadata": {},
   "source": [
    "Analyzing the curve above, we can say that there is some skewness to the right of the curve."
   ]
  },
  {
   "cell_type": "code",
   "execution_count": 26,
   "id": "b312f123",
   "metadata": {},
   "outputs": [
    {
     "data": {
      "text/plain": [
       "<AxesSubplot:xlabel='SV', ylabel='Density'>"
      ]
     },
     "execution_count": 26,
     "metadata": {},
     "output_type": "execute_result"
    },
    {
     "data": {
      "image/png": "[encoded data removed]",
      "text/plain": [
       "<Figure size 864x504 with 1 Axes>"
      ]
     },
     "metadata": {
      "needs_background": "light"
     },
     "output_type": "display_data"
    }
   ],
   "source": [
    "#checking distribution curve of \"SV\" column\n",
    "plt.figure(figsize=(12,7))\n",
    "sns.distplot(df[\"SV\"])"
   ]
  },
  {
   "cell_type": "markdown",
   "id": "61a56092",
   "metadata": {},
   "source": [
    "Analyzing the curve above, we can say that there is some skewness to the right of the curve."
   ]
  },
  {
   "cell_type": "code",
   "execution_count": 27,
   "id": "5b92b3db",
   "metadata": {},
   "outputs": [
    {
     "data": {
      "text/plain": [
       "<AxesSubplot:xlabel='E', ylabel='Density'>"
      ]
     },
     "execution_count": 27,
     "metadata": {},
     "output_type": "execute_result"
    },
    {
     "data": {
      "image/png": "[encoded data removed]",
      "text/plain": [
       "<Figure size 864x504 with 1 Axes>"
      ]
     },
     "metadata": {
      "needs_background": "light"
     },
     "output_type": "display_data"
    }
   ],
   "source": [
    "#checking distribution curve of \"E\" column\n",
    "plt.figure(figsize=(12,7))\n",
    "sns.distplot(df[\"E\"])"
   ]
  },
  {
   "cell_type": "markdown",
   "id": "23e68104",
   "metadata": {},
   "source": [
    "Analyzing the curve above, we can say that there is some skewness to the right of the curve."
   ]
  },
  {
   "cell_type": "code",
   "execution_count": 28,
   "id": "2181c3fb",
   "metadata": {},
   "outputs": [
    {
     "data": {
      "text/plain": [
       "<AxesSubplot:xlabel='W', ylabel='Density'>"
      ]
     },
     "execution_count": 28,
     "metadata": {},
     "output_type": "execute_result"
    },
    {
     "data": {
      "image/png": "[encoded data removed]",
      "text/plain": [
       "<Figure size 864x504 with 1 Axes>"
      ]
     },
     "metadata": {
      "needs_background": "light"
     },
     "output_type": "display_data"
    }
   ],
   "source": [
    "#checking distribution curve of  the target \"W\" column\n",
    "plt.figure(figsize=(12,7))\n",
    "sns.distplot(df[\"W\"])"
   ]
  },
  {
   "cell_type": "markdown",
   "id": "dd1f3741",
   "metadata": {},
   "source": [
    "we see that there is no skewness present in our target column,seems like a normal distribution curve."
   ]
  },
  {
   "cell_type": "code",
   "execution_count": 29,
   "id": "9dfa4902",
   "metadata": {},
   "outputs": [
    {
     "data": {
      "text/html": [
       "<div>\n",
       "<style scoped>\n",
       "    .dataframe tbody tr th:only-of-type {\n",
       "        vertical-align: middle;\n",
       "    }\n",
       "\n",
       "    .dataframe tbody tr th {\n",
       "        vertical-align: top;\n",
       "    }\n",
       "\n",
       "    .dataframe thead th {\n",
       "        text-align: right;\n",
       "    }\n",
       "</style>\n",
       "<table border=\"1\" class=\"dataframe\">\n",
       "  <thead>\n",
       "    <tr style=\"text-align: right;\">\n",
       "      <th></th>\n",
       "      <th>W</th>\n",
       "      <th>R</th>\n",
       "      <th>AB</th>\n",
       "      <th>H</th>\n",
       "      <th>2B</th>\n",
       "      <th>3B</th>\n",
       "      <th>HR</th>\n",
       "      <th>BB</th>\n",
       "      <th>SO</th>\n",
       "      <th>SB</th>\n",
       "      <th>RA</th>\n",
       "      <th>ER</th>\n",
       "      <th>ERA</th>\n",
       "      <th>CG</th>\n",
       "      <th>SHO</th>\n",
       "      <th>SV</th>\n",
       "      <th>E</th>\n",
       "    </tr>\n",
       "  </thead>\n",
       "  <tbody>\n",
       "    <tr>\n",
       "      <th>W</th>\n",
       "      <td>1.000000</td>\n",
       "      <td>0.430751</td>\n",
       "      <td>-0.087947</td>\n",
       "      <td>0.037612</td>\n",
       "      <td>0.427797</td>\n",
       "      <td>-0.251118</td>\n",
       "      <td>0.307407</td>\n",
       "      <td>0.484342</td>\n",
       "      <td>0.111850</td>\n",
       "      <td>-0.157234</td>\n",
       "      <td>-0.812952</td>\n",
       "      <td>-0.809435</td>\n",
       "      <td>-0.819600</td>\n",
       "      <td>0.080533</td>\n",
       "      <td>0.471805</td>\n",
       "      <td>0.666530</td>\n",
       "      <td>-0.089485</td>\n",
       "    </tr>\n",
       "    <tr>\n",
       "      <th>R</th>\n",
       "      <td>0.430751</td>\n",
       "      <td>1.000000</td>\n",
       "      <td>0.319464</td>\n",
       "      <td>0.482856</td>\n",
       "      <td>0.560084</td>\n",
       "      <td>-0.070072</td>\n",
       "      <td>0.671283</td>\n",
       "      <td>0.402452</td>\n",
       "      <td>-0.054726</td>\n",
       "      <td>0.081367</td>\n",
       "      <td>-0.041623</td>\n",
       "      <td>-0.041245</td>\n",
       "      <td>-0.049281</td>\n",
       "      <td>0.232042</td>\n",
       "      <td>-0.103274</td>\n",
       "      <td>-0.096380</td>\n",
       "      <td>-0.023262</td>\n",
       "    </tr>\n",
       "    <tr>\n",
       "      <th>AB</th>\n",
       "      <td>-0.087947</td>\n",
       "      <td>0.319464</td>\n",
       "      <td>1.000000</td>\n",
       "      <td>0.739122</td>\n",
       "      <td>0.453370</td>\n",
       "      <td>0.435422</td>\n",
       "      <td>-0.066983</td>\n",
       "      <td>-0.136414</td>\n",
       "      <td>-0.106022</td>\n",
       "      <td>0.372618</td>\n",
       "      <td>0.316010</td>\n",
       "      <td>0.309686</td>\n",
       "      <td>0.255551</td>\n",
       "      <td>-0.080876</td>\n",
       "      <td>-0.197321</td>\n",
       "      <td>-0.106367</td>\n",
       "      <td>0.316743</td>\n",
       "    </tr>\n",
       "    <tr>\n",
       "      <th>H</th>\n",
       "      <td>0.037612</td>\n",
       "      <td>0.482856</td>\n",
       "      <td>0.739122</td>\n",
       "      <td>1.000000</td>\n",
       "      <td>0.566847</td>\n",
       "      <td>0.478694</td>\n",
       "      <td>-0.090855</td>\n",
       "      <td>-0.118281</td>\n",
       "      <td>-0.398830</td>\n",
       "      <td>0.413444</td>\n",
       "      <td>0.224324</td>\n",
       "      <td>0.252489</td>\n",
       "      <td>0.231172</td>\n",
       "      <td>0.147955</td>\n",
       "      <td>-0.145559</td>\n",
       "      <td>-0.130371</td>\n",
       "      <td>-0.033173</td>\n",
       "    </tr>\n",
       "    <tr>\n",
       "      <th>2B</th>\n",
       "      <td>0.427797</td>\n",
       "      <td>0.560084</td>\n",
       "      <td>0.453370</td>\n",
       "      <td>0.566847</td>\n",
       "      <td>1.000000</td>\n",
       "      <td>0.220490</td>\n",
       "      <td>0.056292</td>\n",
       "      <td>0.302700</td>\n",
       "      <td>-0.150752</td>\n",
       "      <td>0.195027</td>\n",
       "      <td>-0.218160</td>\n",
       "      <td>-0.235531</td>\n",
       "      <td>-0.254854</td>\n",
       "      <td>0.306675</td>\n",
       "      <td>0.057998</td>\n",
       "      <td>0.171576</td>\n",
       "      <td>0.105754</td>\n",
       "    </tr>\n",
       "    <tr>\n",
       "      <th>3B</th>\n",
       "      <td>-0.251118</td>\n",
       "      <td>-0.070072</td>\n",
       "      <td>0.435422</td>\n",
       "      <td>0.478694</td>\n",
       "      <td>0.220490</td>\n",
       "      <td>1.000000</td>\n",
       "      <td>-0.430915</td>\n",
       "      <td>-0.454949</td>\n",
       "      <td>-0.141196</td>\n",
       "      <td>0.457437</td>\n",
       "      <td>0.314125</td>\n",
       "      <td>0.340225</td>\n",
       "      <td>0.330951</td>\n",
       "      <td>-0.065898</td>\n",
       "      <td>-0.041396</td>\n",
       "      <td>-0.142370</td>\n",
       "      <td>0.126678</td>\n",
       "    </tr>\n",
       "    <tr>\n",
       "      <th>HR</th>\n",
       "      <td>0.307407</td>\n",
       "      <td>0.671283</td>\n",
       "      <td>-0.066983</td>\n",
       "      <td>-0.090855</td>\n",
       "      <td>0.056292</td>\n",
       "      <td>-0.430915</td>\n",
       "      <td>1.000000</td>\n",
       "      <td>0.425691</td>\n",
       "      <td>0.359923</td>\n",
       "      <td>-0.136567</td>\n",
       "      <td>-0.103903</td>\n",
       "      <td>-0.085922</td>\n",
       "      <td>-0.090917</td>\n",
       "      <td>0.156502</td>\n",
       "      <td>-0.019119</td>\n",
       "      <td>-0.028540</td>\n",
       "      <td>-0.207597</td>\n",
       "    </tr>\n",
       "    <tr>\n",
       "      <th>BB</th>\n",
       "      <td>0.484342</td>\n",
       "      <td>0.402452</td>\n",
       "      <td>-0.136414</td>\n",
       "      <td>-0.118281</td>\n",
       "      <td>0.302700</td>\n",
       "      <td>-0.454949</td>\n",
       "      <td>0.425691</td>\n",
       "      <td>1.000000</td>\n",
       "      <td>0.233652</td>\n",
       "      <td>-0.098347</td>\n",
       "      <td>-0.416445</td>\n",
       "      <td>-0.452663</td>\n",
       "      <td>-0.459832</td>\n",
       "      <td>0.462478</td>\n",
       "      <td>0.426004</td>\n",
       "      <td>0.099445</td>\n",
       "      <td>-0.075685</td>\n",
       "    </tr>\n",
       "    <tr>\n",
       "      <th>SO</th>\n",
       "      <td>0.111850</td>\n",
       "      <td>-0.054726</td>\n",
       "      <td>-0.106022</td>\n",
       "      <td>-0.398830</td>\n",
       "      <td>-0.150752</td>\n",
       "      <td>-0.141196</td>\n",
       "      <td>0.359923</td>\n",
       "      <td>0.233652</td>\n",
       "      <td>1.000000</td>\n",
       "      <td>0.030968</td>\n",
       "      <td>-0.129745</td>\n",
       "      <td>-0.161612</td>\n",
       "      <td>-0.180368</td>\n",
       "      <td>-0.093418</td>\n",
       "      <td>0.237721</td>\n",
       "      <td>0.126297</td>\n",
       "      <td>0.155133</td>\n",
       "    </tr>\n",
       "    <tr>\n",
       "      <th>SB</th>\n",
       "      <td>-0.157234</td>\n",
       "      <td>0.081367</td>\n",
       "      <td>0.372618</td>\n",
       "      <td>0.413444</td>\n",
       "      <td>0.195027</td>\n",
       "      <td>0.457437</td>\n",
       "      <td>-0.136567</td>\n",
       "      <td>-0.098347</td>\n",
       "      <td>0.030968</td>\n",
       "      <td>1.000000</td>\n",
       "      <td>0.132290</td>\n",
       "      <td>0.143068</td>\n",
       "      <td>0.126063</td>\n",
       "      <td>-0.020783</td>\n",
       "      <td>-0.106563</td>\n",
       "      <td>-0.183418</td>\n",
       "      <td>0.079149</td>\n",
       "    </tr>\n",
       "    <tr>\n",
       "      <th>RA</th>\n",
       "      <td>-0.812952</td>\n",
       "      <td>-0.041623</td>\n",
       "      <td>0.316010</td>\n",
       "      <td>0.224324</td>\n",
       "      <td>-0.218160</td>\n",
       "      <td>0.314125</td>\n",
       "      <td>-0.103903</td>\n",
       "      <td>-0.416445</td>\n",
       "      <td>-0.129745</td>\n",
       "      <td>0.132290</td>\n",
       "      <td>1.000000</td>\n",
       "      <td>0.991018</td>\n",
       "      <td>0.986674</td>\n",
       "      <td>-0.016659</td>\n",
       "      <td>-0.636862</td>\n",
       "      <td>-0.616224</td>\n",
       "      <td>0.198996</td>\n",
       "    </tr>\n",
       "    <tr>\n",
       "      <th>ER</th>\n",
       "      <td>-0.809435</td>\n",
       "      <td>-0.041245</td>\n",
       "      <td>0.309686</td>\n",
       "      <td>0.252489</td>\n",
       "      <td>-0.235531</td>\n",
       "      <td>0.340225</td>\n",
       "      <td>-0.085922</td>\n",
       "      <td>-0.452663</td>\n",
       "      <td>-0.161612</td>\n",
       "      <td>0.143068</td>\n",
       "      <td>0.991018</td>\n",
       "      <td>1.000000</td>\n",
       "      <td>0.997248</td>\n",
       "      <td>-0.020221</td>\n",
       "      <td>-0.630192</td>\n",
       "      <td>-0.589663</td>\n",
       "      <td>0.136921</td>\n",
       "    </tr>\n",
       "    <tr>\n",
       "      <th>ERA</th>\n",
       "      <td>-0.819600</td>\n",
       "      <td>-0.049281</td>\n",
       "      <td>0.255551</td>\n",
       "      <td>0.231172</td>\n",
       "      <td>-0.254854</td>\n",
       "      <td>0.330951</td>\n",
       "      <td>-0.090917</td>\n",
       "      <td>-0.459832</td>\n",
       "      <td>-0.180368</td>\n",
       "      <td>0.126063</td>\n",
       "      <td>0.986674</td>\n",
       "      <td>0.997248</td>\n",
       "      <td>1.000000</td>\n",
       "      <td>-0.009856</td>\n",
       "      <td>-0.630833</td>\n",
       "      <td>-0.607005</td>\n",
       "      <td>0.113137</td>\n",
       "    </tr>\n",
       "    <tr>\n",
       "      <th>CG</th>\n",
       "      <td>0.080533</td>\n",
       "      <td>0.232042</td>\n",
       "      <td>-0.080876</td>\n",
       "      <td>0.147955</td>\n",
       "      <td>0.306675</td>\n",
       "      <td>-0.065898</td>\n",
       "      <td>0.156502</td>\n",
       "      <td>0.462478</td>\n",
       "      <td>-0.093418</td>\n",
       "      <td>-0.020783</td>\n",
       "      <td>-0.016659</td>\n",
       "      <td>-0.020221</td>\n",
       "      <td>-0.009856</td>\n",
       "      <td>1.000000</td>\n",
       "      <td>0.241676</td>\n",
       "      <td>-0.367766</td>\n",
       "      <td>-0.140047</td>\n",
       "    </tr>\n",
       "    <tr>\n",
       "      <th>SHO</th>\n",
       "      <td>0.471805</td>\n",
       "      <td>-0.103274</td>\n",
       "      <td>-0.197321</td>\n",
       "      <td>-0.145559</td>\n",
       "      <td>0.057998</td>\n",
       "      <td>-0.041396</td>\n",
       "      <td>-0.019119</td>\n",
       "      <td>0.426004</td>\n",
       "      <td>0.237721</td>\n",
       "      <td>-0.106563</td>\n",
       "      <td>-0.636862</td>\n",
       "      <td>-0.630192</td>\n",
       "      <td>-0.630833</td>\n",
       "      <td>0.241676</td>\n",
       "      <td>1.000000</td>\n",
       "      <td>0.221639</td>\n",
       "      <td>-0.115716</td>\n",
       "    </tr>\n",
       "    <tr>\n",
       "      <th>SV</th>\n",
       "      <td>0.666530</td>\n",
       "      <td>-0.096380</td>\n",
       "      <td>-0.106367</td>\n",
       "      <td>-0.130371</td>\n",
       "      <td>0.171576</td>\n",
       "      <td>-0.142370</td>\n",
       "      <td>-0.028540</td>\n",
       "      <td>0.099445</td>\n",
       "      <td>0.126297</td>\n",
       "      <td>-0.183418</td>\n",
       "      <td>-0.616224</td>\n",
       "      <td>-0.589663</td>\n",
       "      <td>-0.607005</td>\n",
       "      <td>-0.367766</td>\n",
       "      <td>0.221639</td>\n",
       "      <td>1.000000</td>\n",
       "      <td>-0.025636</td>\n",
       "    </tr>\n",
       "    <tr>\n",
       "      <th>E</th>\n",
       "      <td>-0.089485</td>\n",
       "      <td>-0.023262</td>\n",
       "      <td>0.316743</td>\n",
       "      <td>-0.033173</td>\n",
       "      <td>0.105754</td>\n",
       "      <td>0.126678</td>\n",
       "      <td>-0.207597</td>\n",
       "      <td>-0.075685</td>\n",
       "      <td>0.155133</td>\n",
       "      <td>0.079149</td>\n",
       "      <td>0.198996</td>\n",
       "      <td>0.136921</td>\n",
       "      <td>0.113137</td>\n",
       "      <td>-0.140047</td>\n",
       "      <td>-0.115716</td>\n",
       "      <td>-0.025636</td>\n",
       "      <td>1.000000</td>\n",
       "    </tr>\n",
       "  </tbody>\n",
       "</table>\n",
       "</div>"
      ],
      "text/plain": [
       "            W         R        AB         H        2B        3B        HR  \\\n",
       "W    1.000000  0.430751 -0.087947  0.037612  0.427797 -0.251118  0.307407   \n",
       "R    0.430751  1.000000  0.319464  0.482856  0.560084 -0.070072  0.671283   \n",
       "AB  -0.087947  0.319464  1.000000  0.739122  0.453370  0.435422 -0.066983   \n",
       "H    0.037612  0.482856  0.739122  1.000000  0.566847  0.478694 -0.090855   \n",
       "2B   0.427797  0.560084  0.453370  0.566847  1.000000  0.220490  0.056292   \n",
       "3B  -0.251118 -0.070072  0.435422  0.478694  0.220490  1.000000 -0.430915   \n",
       "HR   0.307407  0.671283 -0.066983 -0.090855  0.056292 -0.430915  1.000000   \n",
       "BB   0.484342  0.402452 -0.136414 -0.118281  0.302700 -0.454949  0.425691   \n",
       "SO   0.111850 -0.054726 -0.106022 -0.398830 -0.150752 -0.141196  0.359923   \n",
       "SB  -0.157234  0.081367  0.372618  0.413444  0.195027  0.457437 -0.136567   \n",
       "RA  -0.812952 -0.041623  0.316010  0.224324 -0.218160  0.314125 -0.103903   \n",
       "ER  -0.809435 -0.041245  0.309686  0.252489 -0.235531  0.340225 -0.085922   \n",
       "ERA -0.819600 -0.049281  0.255551  0.231172 -0.254854  0.330951 -0.090917   \n",
       "CG   0.080533  0.232042 -0.080876  0.147955  0.306675 -0.065898  0.156502   \n",
       "SHO  0.471805 -0.103274 -0.197321 -0.145559  0.057998 -0.041396 -0.019119   \n",
       "SV   0.666530 -0.096380 -0.106367 -0.130371  0.171576 -0.142370 -0.028540   \n",
       "E   -0.089485 -0.023262  0.316743 -0.033173  0.105754  0.126678 -0.207597   \n",
       "\n",
       "           BB        SO        SB        RA        ER       ERA        CG  \\\n",
       "W    0.484342  0.111850 -0.157234 -0.812952 -0.809435 -0.819600  0.080533   \n",
       "R    0.402452 -0.054726  0.081367 -0.041623 -0.041245 -0.049281  0.232042   \n",
       "AB  -0.136414 -0.106022  0.372618  0.316010  0.309686  0.255551 -0.080876   \n",
       "H   -0.118281 -0.398830  0.413444  0.224324  0.252489  0.231172  0.147955   \n",
       "2B   0.302700 -0.150752  0.195027 -0.218160 -0.235531 -0.254854  0.306675   \n",
       "3B  -0.454949 -0.141196  0.457437  0.314125  0.340225  0.330951 -0.065898   \n",
       "HR   0.425691  0.359923 -0.136567 -0.103903 -0.085922 -0.090917  0.156502   \n",
       "BB   1.000000  0.233652 -0.098347 -0.416445 -0.452663 -0.459832  0.462478   \n",
       "SO   0.233652  1.000000  0.030968 -0.129745 -0.161612 -0.180368 -0.093418   \n",
       "SB  -0.098347  0.030968  1.000000  0.132290  0.143068  0.126063 -0.020783   \n",
       "RA  -0.416445 -0.129745  0.132290  1.000000  0.991018  0.986674 -0.016659   \n",
       "ER  -0.452663 -0.161612  0.143068  0.991018  1.000000  0.997248 -0.020221   \n",
       "ERA -0.459832 -0.180368  0.126063  0.986674  0.997248  1.000000 -0.009856   \n",
       "CG   0.462478 -0.093418 -0.020783 -0.016659 -0.020221 -0.009856  1.000000   \n",
       "SHO  0.426004  0.237721 -0.106563 -0.636862 -0.630192 -0.630833  0.241676   \n",
       "SV   0.099445  0.126297 -0.183418 -0.616224 -0.589663 -0.607005 -0.367766   \n",
       "E   -0.075685  0.155133  0.079149  0.198996  0.136921  0.113137 -0.140047   \n",
       "\n",
       "          SHO        SV         E  \n",
       "W    0.471805  0.666530 -0.089485  \n",
       "R   -0.103274 -0.096380 -0.023262  \n",
       "AB  -0.197321 -0.106367  0.316743  \n",
       "H   -0.145559 -0.130371 -0.033173  \n",
       "2B   0.057998  0.171576  0.105754  \n",
       "3B  -0.041396 -0.142370  0.126678  \n",
       "HR  -0.019119 -0.028540 -0.207597  \n",
       "BB   0.426004  0.099445 -0.075685  \n",
       "SO   0.237721  0.126297  0.155133  \n",
       "SB  -0.106563 -0.183418  0.079149  \n",
       "RA  -0.636862 -0.616224  0.198996  \n",
       "ER  -0.630192 -0.589663  0.136921  \n",
       "ERA -0.630833 -0.607005  0.113137  \n",
       "CG   0.241676 -0.367766 -0.140047  \n",
       "SHO  1.000000  0.221639 -0.115716  \n",
       "SV   0.221639  1.000000 -0.025636  \n",
       "E   -0.115716 -0.025636  1.000000  "
      ]
     },
     "execution_count": 29,
     "metadata": {},
     "output_type": "execute_result"
    }
   ],
   "source": [
    "#Checking correlation between each and every column\n",
    "df.corr()"
   ]
  },
  {
   "cell_type": "code",
   "execution_count": 30,
   "id": "5fc0959e",
   "metadata": {},
   "outputs": [
    {
     "data": {
      "text/plain": [
       "<AxesSubplot:>"
      ]
     },
     "execution_count": 30,
     "metadata": {},
     "output_type": "execute_result"
    },
    {
     "data": {
      "image/png": "[encoded data removed]",
      "text/plain": [
       "<Figure size 1440x864 with 2 Axes>"
      ]
     },
     "metadata": {
      "needs_background": "light"
     },
     "output_type": "display_data"
    }
   ],
   "source": [
    "#Checking correlation between each and every column using heatmap\n",
    "plt.figure(figsize=(20,12))\n",
    "sns.heatmap(df.corr(),annot=True)"
   ]
  },
  {
   "cell_type": "code",
   "execution_count": 31,
   "id": "db864763",
   "metadata": {},
   "outputs": [],
   "source": [
    "#we see from the heatmap:\n",
    "    #Target column \"W\" is good correlated with \"R\" , \"BB\" and \"SV\" column.\n",
    "    #Target column \"W\" is highly negative correlation with \"RA\" , \"ER\" and \"ERA\" column.\n",
    "    #There is good correlation between:\n",
    "        #\"W\" and \"SV\" columns\n",
    "        #\"R\" and \"HR\" columns\n",
    "        #\"AB\" and \"H\" columns\n",
    "        #\"2B and \"H\" columns\n",
    "        #\"3B\" and \"H\" columns\n",
    "        #\"BB\" and \"CG\" columns\n",
    "        #\"SO\" and \"Hr\" columns\n",
    "        #\"SB\" and \"3B\" columns\n",
    "        #\"RA\" and \"AB\" columns\n",
    "        #\"ERA\" and \"3B\" columns\n",
    "        #\"SHO\" and \"BB\" columns\n",
    "        #\"SV\" and \"SHO\" columns\n",
    "        #\"E\" and \"AB\" columns"
   ]
  },
  {
   "cell_type": "code",
   "execution_count": 32,
   "id": "eccfdc93",
   "metadata": {},
   "outputs": [
    {
     "data": {
      "text/plain": [
       "<seaborn.axisgrid.FacetGrid at 0x27ab35a4e20>"
      ]
     },
     "execution_count": 32,
     "metadata": {},
     "output_type": "execute_result"
    },
    {
     "data": {
      "image/png": "[encoded data removed]",
      "text/plain": [
       "<Figure size 360x360 with 1 Axes>"
      ]
     },
     "metadata": {
      "needs_background": "light"
     },
     "output_type": "display_data"
    }
   ],
   "source": [
    "sns.relplot(x=\"R\", y=\"W\", data=df)"
   ]
  },
  {
   "cell_type": "markdown",
   "id": "1e36b20f",
   "metadata": {},
   "source": [
    "# Checking Outliers"
   ]
  },
  {
   "cell_type": "code",
   "execution_count": 33,
   "id": "8be0d359",
   "metadata": {},
   "outputs": [
    {
     "data": {
      "text/plain": [
       "<AxesSubplot:xlabel='W'>"
      ]
     },
     "execution_count": 33,
     "metadata": {},
     "output_type": "execute_result"
    },
    {
     "data": {
      "image/png": "[encoded data removed]",
      "text/plain": [
       "<Figure size 432x288 with 1 Axes>"
      ]
     },
     "metadata": {
      "needs_background": "light"
     },
     "output_type": "display_data"
    }
   ],
   "source": [
    "#checking outliers in \"W\" column by box plot\n",
    "sns.boxplot(df[\"W\"])"
   ]
  },
  {
   "cell_type": "markdown",
   "id": "4b7d483e",
   "metadata": {},
   "source": [
    "we see that there is no outliers present in the \"W\" column"
   ]
  },
  {
   "cell_type": "code",
   "execution_count": 34,
   "id": "148f6f78",
   "metadata": {},
   "outputs": [
    {
     "data": {
      "text/plain": [
       "<AxesSubplot:xlabel='R'>"
      ]
     },
     "execution_count": 34,
     "metadata": {},
     "output_type": "execute_result"
    },
    {
     "data": {
      "image/png": "[encoded data removed]",
      "text/plain": [
       "<Figure size 432x288 with 1 Axes>"
      ]
     },
     "metadata": {
      "needs_background": "light"
     },
     "output_type": "display_data"
    }
   ],
   "source": [
    "#checking outliers in \"R\" column by box plot\n",
    "sns.boxplot(df[\"R\"])"
   ]
  },
  {
   "cell_type": "markdown",
   "id": "517a259d",
   "metadata": {},
   "source": [
    "we see that there is one outliers present in the \"R\" column"
   ]
  },
  {
   "cell_type": "code",
   "execution_count": 35,
   "id": "b0a3e6fd",
   "metadata": {},
   "outputs": [
    {
     "data": {
      "text/plain": [
       "<AxesSubplot:xlabel='AB'>"
      ]
     },
     "execution_count": 35,
     "metadata": {},
     "output_type": "execute_result"
    },
    {
     "data": {
      "image/png": "[encoded data removed]",
      "text/plain": [
       "<Figure size 432x288 with 1 Axes>"
      ]
     },
     "metadata": {
      "needs_background": "light"
     },
     "output_type": "display_data"
    }
   ],
   "source": [
    "#checking outliers in \"AB\" column by box plot\n",
    "sns.boxplot(df[\"AB\"])"
   ]
  },
  {
   "cell_type": "code",
   "execution_count": 36,
   "id": "90c65ea8",
   "metadata": {},
   "outputs": [],
   "source": [
    "#we see that there is no outliers present in the \"AB\" column"
   ]
  },
  {
   "cell_type": "code",
   "execution_count": 37,
   "id": "61c9a3cc",
   "metadata": {},
   "outputs": [
    {
     "data": {
      "text/plain": [
       "<AxesSubplot:xlabel='H'>"
      ]
     },
     "execution_count": 37,
     "metadata": {},
     "output_type": "execute_result"
    },
    {
     "data": {
      "image/png": "[encoded data removed]",
      "text/plain": [
       "<Figure size 432x288 with 1 Axes>"
      ]
     },
     "metadata": {
      "needs_background": "light"
     },
     "output_type": "display_data"
    }
   ],
   "source": [
    "#checking outliers in \"H\" column by box plot\n",
    "sns.boxplot(df[\"H\"])"
   ]
  },
  {
   "cell_type": "code",
   "execution_count": 38,
   "id": "dbd6e24a",
   "metadata": {},
   "outputs": [],
   "source": [
    "#we see that there is no outliers present in the \"H\" column"
   ]
  },
  {
   "cell_type": "code",
   "execution_count": 39,
   "id": "e5fa1edc",
   "metadata": {},
   "outputs": [
    {
     "data": {
      "text/plain": [
       "<AxesSubplot:xlabel='2B'>"
      ]
     },
     "execution_count": 39,
     "metadata": {},
     "output_type": "execute_result"
    },
    {
     "data": {
      "image/png": "[encoded data removed]",
      "text/plain": [
       "<Figure size 432x288 with 1 Axes>"
      ]
     },
     "metadata": {
      "needs_background": "light"
     },
     "output_type": "display_data"
    }
   ],
   "source": [
    "#checking outliers in \"2B\" column by box plot\n",
    "sns.boxplot(df[\"2B\"])"
   ]
  },
  {
   "cell_type": "code",
   "execution_count": 40,
   "id": "6e0d7c42",
   "metadata": {},
   "outputs": [],
   "source": [
    "#we see that there is no outliers present in the \"2B\" column"
   ]
  },
  {
   "cell_type": "code",
   "execution_count": 41,
   "id": "b4f8ac1c",
   "metadata": {},
   "outputs": [
    {
     "data": {
      "text/plain": [
       "<AxesSubplot:xlabel='3B'>"
      ]
     },
     "execution_count": 41,
     "metadata": {},
     "output_type": "execute_result"
    },
    {
     "data": {
      "image/png": "[encoded data removed]",
      "text/plain": [
       "<Figure size 432x288 with 1 Axes>"
      ]
     },
     "metadata": {
      "needs_background": "light"
     },
     "output_type": "display_data"
    }
   ],
   "source": [
    "#checking outliers in \"3B\" column by box plot\n",
    "sns.boxplot(df[\"3B\"])"
   ]
  },
  {
   "cell_type": "code",
   "execution_count": 42,
   "id": "67c3a499",
   "metadata": {},
   "outputs": [],
   "source": [
    "#we see that there is no outliers present in the \"3B\" column"
   ]
  },
  {
   "cell_type": "code",
   "execution_count": 43,
   "id": "40e2c373",
   "metadata": {},
   "outputs": [
    {
     "data": {
      "text/plain": [
       "<AxesSubplot:xlabel='HR'>"
      ]
     },
     "execution_count": 43,
     "metadata": {},
     "output_type": "execute_result"
    },
    {
     "data": {
      "image/png": "[encoded data removed]",
      "text/plain": [
       "<Figure size 432x288 with 1 Axes>"
      ]
     },
     "metadata": {
      "needs_background": "light"
     },
     "output_type": "display_data"
    }
   ],
   "source": [
    "#checking outliers in \"HR\" column by box plot\n",
    "sns.boxplot(df[\"HR\"])"
   ]
  },
  {
   "cell_type": "code",
   "execution_count": 44,
   "id": "ee3b4c2e",
   "metadata": {},
   "outputs": [],
   "source": [
    "#we see that there is no outliers present in the \"HR\" column"
   ]
  },
  {
   "cell_type": "code",
   "execution_count": 45,
   "id": "5d78f0dd",
   "metadata": {},
   "outputs": [
    {
     "data": {
      "text/plain": [
       "<AxesSubplot:xlabel='BB'>"
      ]
     },
     "execution_count": 45,
     "metadata": {},
     "output_type": "execute_result"
    },
    {
     "data": {
      "image/png": "[encoded data removed]",
      "text/plain": [
       "<Figure size 432x288 with 1 Axes>"
      ]
     },
     "metadata": {
      "needs_background": "light"
     },
     "output_type": "display_data"
    }
   ],
   "source": [
    "#checking outliers in \"BB\" column by box plot\n",
    "sns.boxplot(df[\"BB\"])"
   ]
  },
  {
   "cell_type": "code",
   "execution_count": 46,
   "id": "54efe7e4",
   "metadata": {},
   "outputs": [],
   "source": [
    "#we see that there is no outliers present in the \"BB\" column"
   ]
  },
  {
   "cell_type": "code",
   "execution_count": 47,
   "id": "b7ec1d8b",
   "metadata": {},
   "outputs": [
    {
     "data": {
      "text/plain": [
       "<AxesSubplot:xlabel='SO'>"
      ]
     },
     "execution_count": 47,
     "metadata": {},
     "output_type": "execute_result"
    },
    {
     "data": {
      "image/png": "[encoded data removed]",
      "text/plain": [
       "<Figure size 432x288 with 1 Axes>"
      ]
     },
     "metadata": {
      "needs_background": "light"
     },
     "output_type": "display_data"
    }
   ],
   "source": [
    "#checking outliers in \"SO\" column by box plot\n",
    "sns.boxplot(df[\"SO\"])"
   ]
  },
  {
   "cell_type": "code",
   "execution_count": 48,
   "id": "23b66e98",
   "metadata": {},
   "outputs": [],
   "source": [
    "#we see that there is no outliers present in the \"SO\" column"
   ]
  },
  {
   "cell_type": "code",
   "execution_count": 49,
   "id": "a96a9e5d",
   "metadata": {},
   "outputs": [
    {
     "data": {
      "text/plain": [
       "<AxesSubplot:xlabel='SB'>"
      ]
     },
     "execution_count": 49,
     "metadata": {},
     "output_type": "execute_result"
    },
    {
     "data": {
      "image/png": "[encoded data removed]",
      "text/plain": [
       "<Figure size 432x288 with 1 Axes>"
      ]
     },
     "metadata": {
      "needs_background": "light"
     },
     "output_type": "display_data"
    }
   ],
   "source": [
    "#checking outliers in \"SB\" column by box plot\n",
    "sns.boxplot(df[\"SB\"])"
   ]
  },
  {
   "cell_type": "code",
   "execution_count": 50,
   "id": "47d603b7",
   "metadata": {},
   "outputs": [],
   "source": [
    "#we see that there is no outliers present in the \"SB\" column"
   ]
  },
  {
   "cell_type": "code",
   "execution_count": 51,
   "id": "ab82c873",
   "metadata": {},
   "outputs": [
    {
     "data": {
      "text/plain": [
       "<AxesSubplot:xlabel='RA'>"
      ]
     },
     "execution_count": 51,
     "metadata": {},
     "output_type": "execute_result"
    },
    {
     "data": {
      "image/png": "[encoded data removed]",
      "text/plain": [
       "<Figure size 432x288 with 1 Axes>"
      ]
     },
     "metadata": {
      "needs_background": "light"
     },
     "output_type": "display_data"
    }
   ],
   "source": [
    "#checking outliers in \"RA\" column by box plot\n",
    "sns.boxplot(df[\"RA\"])"
   ]
  },
  {
   "cell_type": "code",
   "execution_count": 52,
   "id": "4ba4f1cc",
   "metadata": {},
   "outputs": [],
   "source": [
    "#we see that there is no outliers present in the \"RA\" column"
   ]
  },
  {
   "cell_type": "code",
   "execution_count": 53,
   "id": "4c846b7a",
   "metadata": {},
   "outputs": [
    {
     "data": {
      "text/plain": [
       "<AxesSubplot:xlabel='ER'>"
      ]
     },
     "execution_count": 53,
     "metadata": {},
     "output_type": "execute_result"
    },
    {
     "data": {
      "image/png": "[encoded data removed]",
      "text/plain": [
       "<Figure size 432x288 with 1 Axes>"
      ]
     },
     "metadata": {
      "needs_background": "light"
     },
     "output_type": "display_data"
    }
   ],
   "source": [
    "#checking outliers in \"ER\" column by box plot\n",
    "sns.boxplot(df[\"ER\"])"
   ]
  },
  {
   "cell_type": "code",
   "execution_count": 54,
   "id": "d3558b04",
   "metadata": {},
   "outputs": [],
   "source": [
    "#we see that there is no outliers present in the \"ER\" column"
   ]
  },
  {
   "cell_type": "code",
   "execution_count": 55,
   "id": "047c02ef",
   "metadata": {},
   "outputs": [
    {
     "data": {
      "text/plain": [
       "<AxesSubplot:xlabel='ERA'>"
      ]
     },
     "execution_count": 55,
     "metadata": {},
     "output_type": "execute_result"
    },
    {
     "data": {
      "image/png": "[encoded data removed]",
      "text/plain": [
       "<Figure size 432x288 with 1 Axes>"
      ]
     },
     "metadata": {
      "needs_background": "light"
     },
     "output_type": "display_data"
    }
   ],
   "source": [
    "#checking outliers in \"ERA\" column by box plot\n",
    "sns.boxplot(df[\"ERA\"])"
   ]
  },
  {
   "cell_type": "code",
   "execution_count": 56,
   "id": "9cbc1aef",
   "metadata": {},
   "outputs": [],
   "source": [
    "#we see that there is one outliers present in the \"ERA\" column"
   ]
  },
  {
   "cell_type": "code",
   "execution_count": 57,
   "id": "35067640",
   "metadata": {},
   "outputs": [
    {
     "data": {
      "text/plain": [
       "<AxesSubplot:xlabel='CG'>"
      ]
     },
     "execution_count": 57,
     "metadata": {},
     "output_type": "execute_result"
    },
    {
     "data": {
      "image/png": "[encoded data removed]",
      "text/plain": [
       "<Figure size 432x288 with 1 Axes>"
      ]
     },
     "metadata": {
      "needs_background": "light"
     },
     "output_type": "display_data"
    }
   ],
   "source": [
    "#checking outliers in \"CG\" column by box plot\n",
    "sns.boxplot(df[\"CG\"])"
   ]
  },
  {
   "cell_type": "code",
   "execution_count": 58,
   "id": "6f1a1108",
   "metadata": {},
   "outputs": [],
   "source": [
    "#we see that there is no outliers present in the \"CG\" column"
   ]
  },
  {
   "cell_type": "code",
   "execution_count": 59,
   "id": "2011c18d",
   "metadata": {},
   "outputs": [
    {
     "data": {
      "text/plain": [
       "<AxesSubplot:xlabel='SHO'>"
      ]
     },
     "execution_count": 59,
     "metadata": {},
     "output_type": "execute_result"
    },
    {
     "data": {
      "image/png": "[encoded data removed]",
      "text/plain": [
       "<Figure size 432x288 with 1 Axes>"
      ]
     },
     "metadata": {
      "needs_background": "light"
     },
     "output_type": "display_data"
    }
   ],
   "source": [
    "#checking outliers in \"SHO\" column by box plot\n",
    "sns.boxplot(df[\"SHO\"])"
   ]
  },
  {
   "cell_type": "code",
   "execution_count": 60,
   "id": "150ba9ae",
   "metadata": {},
   "outputs": [],
   "source": [
    "#we see that there is no outliers present in the \"SHO\" column"
   ]
  },
  {
   "cell_type": "code",
   "execution_count": 61,
   "id": "46e8377d",
   "metadata": {},
   "outputs": [
    {
     "data": {
      "text/plain": [
       "<AxesSubplot:xlabel='SV'>"
      ]
     },
     "execution_count": 61,
     "metadata": {},
     "output_type": "execute_result"
    },
    {
     "data": {
      "image/png": "[encoded data removed]",
      "text/plain": [
       "<Figure size 432x288 with 1 Axes>"
      ]
     },
     "metadata": {
      "needs_background": "light"
     },
     "output_type": "display_data"
    }
   ],
   "source": [
    "#checking outliers in \"SV\" column by box plot\n",
    "sns.boxplot(df[\"SV\"])"
   ]
  },
  {
   "cell_type": "code",
   "execution_count": 62,
   "id": "12f7f480",
   "metadata": {},
   "outputs": [],
   "source": [
    "#we see that there is one outliers present in the \"SV\" column"
   ]
  },
  {
   "cell_type": "code",
   "execution_count": 63,
   "id": "0f0c3d3f",
   "metadata": {},
   "outputs": [
    {
     "data": {
      "text/plain": [
       "<AxesSubplot:xlabel='E'>"
      ]
     },
     "execution_count": 63,
     "metadata": {},
     "output_type": "execute_result"
    },
    {
     "data": {
      "image/png": "[encoded data removed]",
      "text/plain": [
       "<Figure size 432x288 with 1 Axes>"
      ]
     },
     "metadata": {
      "needs_background": "light"
     },
     "output_type": "display_data"
    }
   ],
   "source": [
    "#checking outliers in \"E\" column by box plot\n",
    "sns.boxplot(df[\"E\"])"
   ]
  },
  {
   "cell_type": "code",
   "execution_count": 64,
   "id": "74dfd174",
   "metadata": {},
   "outputs": [],
   "source": [
    "#we see that there is five outliers present in the \"E\" column"
   ]
  },
  {
   "cell_type": "markdown",
   "id": "531080fc",
   "metadata": {},
   "source": [
    "Removing outlier by zscore"
   ]
  },
  {
   "cell_type": "code",
   "execution_count": 65,
   "id": "48a98e34",
   "metadata": {},
   "outputs": [
    {
     "data": {
      "text/plain": [
       "array([[1.36540860e+00, 6.19077968e-01, 8.47731264e-01, 1.66368512e+00,\n",
       "        1.42017307e+00, 1.04119304e+00, 7.87298598e-01, 1.53490242e+00,\n",
       "        2.69762957e+00, 9.13883291e-01, 6.66233927e-01, 5.05110079e-01,\n",
       "        5.06955186e-01, 5.39806195e-01, 8.14628593e-01, 1.67160651e+00,\n",
       "        4.61469635e-01],\n",
       "       [1.97838300e-01, 1.34431656e-01, 7.11093535e-01, 9.70680764e-01,\n",
       "        1.27403389e-01, 1.23580856e+00, 2.43966683e-01, 5.36591904e-01,\n",
       "        1.54878442e-01, 6.01825582e-01, 1.65970766e-01, 2.48929848e-01,\n",
       "        2.54597523e-01, 5.39806195e-01, 1.72800005e-01, 2.49879323e-01,\n",
       "        6.07196888e-01],\n",
       "       [3.24325082e-03, 3.32905860e-01, 1.11523330e+00, 1.51891367e-01,\n",
       "        1.58879521e+00, 2.23807850e-01, 7.23377196e-01, 1.13914361e+00,\n",
       "        8.93981893e-01, 1.11449182e-01, 6.80339091e-01, 7.51623132e-01,\n",
       "        6.41346840e-01, 2.77264091e+00, 3.20914294e-01, 6.54856158e-01,\n",
       "        1.11724227e+00],\n",
       "       [4.83244373e-01, 1.14641931e+00, 2.41521620e-01, 4.01088140e-01,\n",
       "        8.28122030e-01, 4.18423371e-01, 8.83180700e-01, 1.16053598e+00,\n",
       "        1.68601848e-01, 6.90984928e-01, 1.80075931e-01, 1.03922169e-01,\n",
       "        5.30100415e-02, 1.30044220e+00, 5.67771443e-01, 7.84104084e-01,\n",
       "        4.85757510e-01],\n",
       "       [6.77839422e-01, 1.32700776e-02, 1.28073815e+00, 1.98408098e+00,\n",
       "        8.01891920e-01, 1.72234737e+00, 4.03770187e-01, 2.51360327e-01,\n",
       "        1.05866277e-01, 2.22898364e-02, 1.61880269e+00, 1.59750126e+00,\n",
       "        1.53131824e+00, 1.30044220e+00, 1.72800005e-01, 1.04259994e+00,\n",
       "        6.07196888e-01],\n",
       "       [1.17081355e+00, 3.50964704e+00, 1.04883891e-01, 1.36108904e+00,\n",
       "        1.86983209e+00, 1.39150098e+00, 2.18504658e+00, 1.79874163e+00,\n",
       "        9.52796491e-01, 2.00608527e-01, 2.57184162e-01, 3.89103937e-01,\n",
       "        3.50164922e-01, 1.30044220e+00, 3.20914294e-01, 1.17184786e+00,\n",
       "        4.61469635e-01],\n",
       "       [5.87028399e-01, 1.31142984e+00, 7.32262760e-01, 1.16291827e-01,\n",
       "        1.53633499e-01, 1.19688546e+00, 1.54583256e+00, 1.51351006e+00,\n",
       "        2.07811580e-01, 9.13883291e-01, 1.37760438e-01, 2.34429080e-01,\n",
       "        1.65003087e-01, 1.71756517e-01, 1.80205719e+00, 6.37623101e-01,\n",
       "        9.71515020e-02],\n",
       "       [3.24325082e-03, 4.28681202e-01, 4.51289401e-01, 5.96885604e-01,\n",
       "        1.61502532e+00, 1.09957770e+00, 1.70563607e+00, 9.10958349e-01,\n",
       "        8.11641456e-01, 1.76089707e+00, 6.72346164e-02, 1.47424473e-01,\n",
       "        2.09800305e-01, 1.27590555e+00, 3.20914294e-01, 8.61652840e-03,\n",
       "        1.26296953e+00],\n",
       "       [9.40542739e-02, 7.65625781e-01, 4.51289401e-01, 3.65488601e-01,\n",
       "        1.83610767e-01, 6.81154325e-02, 1.07601026e-01, 5.90072825e-01,\n",
       "        6.05790362e-01, 1.56028855e-01, 6.52128762e-01, 4.61607776e-01,\n",
       "        4.84556577e-01, 9.07855874e-01, 1.72800005e-01, 2.18859821e+00,\n",
       "        4.85757510e-02],\n",
       "       [2.88649323e-01, 1.03448909e+00, 1.78591286e+00, 1.62808558e+00,\n",
       "        1.08292881e+00, 1.65423193e-01, 8.41631789e-02, 1.58660065e-01,\n",
       "        9.82203790e-01, 5.57245909e-01, 9.13544474e-01, 8.43461329e-01,\n",
       "        7.92164142e-01, 1.71756517e-01, 3.20914294e-01, 3.96360306e-01,\n",
       "        1.94303004e-01],\n",
       "       [6.84325924e-01, 1.08641548e+00, 7.60167649e-02, 2.75303102e-01,\n",
       "        2.39818144e-01, 6.81154325e-02, 2.67404530e-01, 6.04334404e-01,\n",
       "        1.48996982e-01, 7.80144273e-01, 6.31441188e-01, 6.40450579e-01,\n",
       "        6.35373878e-01, 5.64342841e-01, 5.67771443e-01, 2.49879323e-01,\n",
       "        1.79730279e+00],\n",
       "       [4.89730874e-01, 7.05621952e-01, 8.26562038e-01, 7.21483991e-01,\n",
       "        1.83610767e-01, 5.15731132e-01, 2.12112518e+00, 3.01275853e-01,\n",
       "        1.40958987e+00, 1.67173773e+00, 9.90652705e-01, 9.25632346e-01,\n",
       "        8.65332931e-01, 5.64342841e-01, 4.19657154e-01, 5.25608232e-01,\n",
       "        6.80060514e-01],\n",
       "       [3.92433350e-01, 4.71376235e-01, 1.43277168e+00, 1.29107662e+00,\n",
       "        1.78364745e+00, 1.00226994e+00, 3.95247334e-01, 6.07899799e-01,\n",
       "        9.62598924e-01, 1.40425969e+00, 1.86658341e-01, 8.45878123e-02,\n",
       "        3.65843948e-02, 5.39806195e-01, 1.72800005e-01, 3.79127249e-01,\n",
       "        9.71515020e-02],\n",
       "       [4.83244373e-01, 5.57920219e-01, 4.00290812e-01, 4.36687679e-01,\n",
       "        7.15707275e-01, 9.04962175e-01, 1.09838275e+00, 1.58660065e-01,\n",
       "        8.60653621e-01, 6.46405255e-01, 5.32705038e-01, 5.96948276e-01,\n",
       "        4.56185005e-01, 9.32392519e-01, 1.72800005e-01, 2.49879323e-01,\n",
       "        2.42878755e-02],\n",
       "       [1.26162457e+00, 9.98140619e-02, 1.20857034e+00, 2.61063286e-02,\n",
       "        1.27403389e-01, 1.43042408e+00, 5.63573692e-01, 1.05179144e-01,\n",
       "        1.26647435e+00, 2.45188200e-01, 5.75020531e-01, 4.08438294e-01,\n",
       "        4.11387787e-01, 5.64342841e-01, 9.13371452e-01, 1.94733542e+00,\n",
       "        2.30734817e+00],\n",
       "       [1.85189622e+00, 7.13699391e-01, 4.65722964e-01, 3.12089292e-01,\n",
       "        7.45684543e-01, 7.49269758e-01, 8.51219999e-01, 6.57815325e-01,\n",
       "        1.84285741e-01, 6.46405255e-01, 2.30243298e+00, 2.28870452e+00,\n",
       "        2.27644530e+00, 9.07855874e-01, 9.13371452e-01, 2.44709406e+00,\n",
       "        1.21439378e-01],\n",
       "       [1.65730117e+00, 1.51740453e-01, 1.65601079e+00, 1.04069319e+00,\n",
       "        9.70514053e-01, 4.18423371e-01, 7.55337897e-01, 1.44398486e-01,\n",
       "        7.23419558e-01, 6.46405255e-01, 1.30096632e+00, 1.50566306e+00,\n",
       "        1.67168286e+00, 1.27590555e+00, 4.19657154e-01, 1.41311066e+00,\n",
       "        2.01589367e+00],\n",
       "       [1.56000365e+00, 1.32700776e-02, 3.64688024e-01, 1.11307892e+00,\n",
       "        1.53633499e-01, 1.26500089e-01, 2.35443830e-01, 1.74526071e+00,\n",
       "        2.64469643e+00, 5.12666237e-01, 1.13170435e+00, 1.30265231e+00,\n",
       "        1.33570372e+00, 9.32392519e-01, 2.39451435e+00, 6.37623101e-01,\n",
       "        1.21439378e+00],\n",
       "       [1.26162457e+00, 5.75229016e-01, 5.23457216e-01, 4.54487448e-01,\n",
       "        4.12187436e-02, 2.62730954e-01, 5.95534393e-01, 1.01792019e+00,\n",
       "        4.97963598e-01, 2.22898364e-02, 6.87861845e-01, 6.69452115e-01,\n",
       "        7.24968314e-01, 9.07855874e-01, 1.06148574e+00, 3.96360306e-01,\n",
       "        1.57871191e+00],\n",
       "       [1.65081467e+00, 8.34860969e-01, 7.89997012e-01, 3.83288370e-01,\n",
       "        9.96744163e-01, 4.18423371e-01, 1.07601026e-01, 4.79545589e-01,\n",
       "        6.66565447e-02, 2.25127347e+00, 9.27649638e-01, 9.30465935e-01,\n",
       "        8.36961360e-01, 5.39806195e-01, 8.14628593e-01, 1.04259994e+00,\n",
       "        3.15742382e-01],\n",
       "       [8.78920973e-01, 9.05827036e-02, 1.54920242e-01, 9.35081225e-01,\n",
       "        1.13913619e+00, 1.39150098e+00, 4.27208035e-01, 3.36929800e-01,\n",
       "        4.09741701e-01, 1.44883936e+00, 1.06117853e+00, 1.14314386e+00,\n",
       "        1.17891346e+00, 9.07855874e-01, 6.66514303e-01, 8.96118953e-01,\n",
       "        4.61469635e-01],\n",
       "       [1.97838300e-01, 2.55593234e-01, 1.27400249e+00, 7.21483991e-01,\n",
       "        5.47085142e-01, 1.78073202e+00, 4.27208035e-01, 1.24610545e+00,\n",
       "        9.39073085e-01, 1.18136133e+00, 7.50864912e-01, 8.53128507e-01,\n",
       "        7.53339886e-01, 1.96293162e-01, 4.19657154e-01, 2.67112380e-01,\n",
       "        3.15742382e-01],\n",
       "       [9.69731996e-01, 1.30219848e+00, 7.68827786e-01, 2.93102871e-01,\n",
       "        2.17709909e+00, 8.46577519e-01, 1.39455191e+00, 1.67751821e+00,\n",
       "        9.62598924e-01, 1.27052067e+00, 1.44342848e-01, 3.14183303e-02,\n",
       "        1.42604478e-01, 1.27590555e+00, 1.72800005e-01, 1.04259994e+00,\n",
       "        1.26296953e+00],\n",
       "       [1.35892210e+00, 1.99455036e+00, 1.38947099e+00, 7.57083530e-01,\n",
       "        1.33398843e+00, 1.29419322e+00, 2.03376593e+00, 3.38712498e-02,\n",
       "        1.38410355e+00, 6.46405255e-01, 1.01228062e+00, 9.01464400e-01,\n",
       "        1.01615023e+00, 1.71756517e-01, 3.20914294e-01, 1.20631398e-01,\n",
       "        3.15742382e-01],\n",
       "       [1.74811219e+00, 1.07718413e+00, 1.83787368e-01, 5.25686526e-01,\n",
       "        1.53633499e-01, 5.54654236e-01, 1.07494491e+00, 1.46359453e+00,\n",
       "        2.52902772e-01, 2.00608527e-01, 1.70343367e+00, 1.64100356e+00,\n",
       "        1.64331129e+00, 9.07855874e-01, 1.06148574e+00, 1.04259994e+00,\n",
       "        1.65157553e+00],\n",
       "       [1.07351602e+00, 3.67523453e-01, 1.89464570e+00, 1.02408007e+00,\n",
       "        6.59499897e-01, 5.15731132e-01, 7.46815043e-01, 1.67395282e+00,\n",
       "        9.60638438e-02, 1.09220198e+00, 1.31507148e+00, 1.20114693e+00,\n",
       "        1.15651485e+00, 9.32392519e-01, 2.39451435e+00, 5.08375175e-01,\n",
       "        1.40869678e+00],\n",
       "       [2.95135825e-01, 1.34431656e-01, 7.03395634e-01, 1.46788766e+00,\n",
       "        7.45684543e-01, 7.49269758e-01, 8.83180700e-01, 2.15706380e-01,\n",
       "        8.74377027e-01, 4.23506891e-01, 8.63706227e-01, 5.63113151e-01,\n",
       "        5.29353795e-01, 1.30044220e+00, 1.65394290e+00, 2.67112380e-01,\n",
       "        1.19010590e+00],\n",
       "       [1.91351799e-01, 5.49842780e-01, 1.91581492e+00, 1.61028582e+00,\n",
       "        8.01891920e-01, 1.62503960e+00, 3.07888085e-01, 3.72583748e-01,\n",
       "        6.25395228e-01, 2.16211413e+00, 3.49337902e-01, 3.35934455e-01,\n",
       "        1.87401696e-01, 9.07855874e-01, 1.72800005e-01, 1.20631398e-01,\n",
       "        6.07196888e-01],\n",
       "       [6.77839422e-01, 6.61773000e-01, 8.55429164e-01, 1.41567500e+00,\n",
       "        8.28122030e-01, 4.57346476e-01, 4.99652290e-01, 7.68342561e-01,\n",
       "        7.72431723e-01, 6.68695091e-02, 6.03230859e-01, 2.77931383e-01,\n",
       "        2.99394742e-01, 9.07855874e-01, 1.30834289e+00, 2.67112380e-01,\n",
       "        1.70015129e-01],\n",
       "       [1.26162457e+00, 8.44092327e-01, 8.04430575e-01, 1.34328927e+00,\n",
       "        4.12187436e-02, 1.72234737e+00, 7.14854342e-01, 1.44576756e+00,\n",
       "        3.41124670e-01, 6.01825582e-01, 2.19711442e+00, 2.36604195e+00,\n",
       "        2.42726261e+00, 1.96293162e-01, 1.80205719e+00, 9.13352010e-01,\n",
       "        4.85757510e-02]])"
      ]
     },
     "execution_count": 65,
     "metadata": {},
     "output_type": "execute_result"
    }
   ],
   "source": [
    "from scipy.stats import zscore\n",
    "import numpy as np\n",
    "z=np.abs(zscore(df))\n",
    "z"
   ]
  },
  {
   "cell_type": "code",
   "execution_count": 66,
   "id": "d3904a6f",
   "metadata": {},
   "outputs": [
    {
     "name": "stdout",
     "output_type": "stream",
     "text": [
      "(array([5], dtype=int64), array([1], dtype=int64))\n"
     ]
    }
   ],
   "source": [
    "threshold=3\n",
    "print(np.where(z>3))"
   ]
  },
  {
   "cell_type": "code",
   "execution_count": 67,
   "id": "21562844",
   "metadata": {},
   "outputs": [
    {
     "data": {
      "text/html": [
       "<div>\n",
       "<style scoped>\n",
       "    .dataframe tbody tr th:only-of-type {\n",
       "        vertical-align: middle;\n",
       "    }\n",
       "\n",
       "    .dataframe tbody tr th {\n",
       "        vertical-align: top;\n",
       "    }\n",
       "\n",
       "    .dataframe thead th {\n",
       "        text-align: right;\n",
       "    }\n",
       "</style>\n",
       "<table border=\"1\" class=\"dataframe\">\n",
       "  <thead>\n",
       "    <tr style=\"text-align: right;\">\n",
       "      <th></th>\n",
       "      <th>W</th>\n",
       "      <th>R</th>\n",
       "      <th>AB</th>\n",
       "      <th>H</th>\n",
       "      <th>2B</th>\n",
       "      <th>3B</th>\n",
       "      <th>HR</th>\n",
       "      <th>BB</th>\n",
       "      <th>SO</th>\n",
       "      <th>SB</th>\n",
       "      <th>RA</th>\n",
       "      <th>ER</th>\n",
       "      <th>ERA</th>\n",
       "      <th>CG</th>\n",
       "      <th>SHO</th>\n",
       "      <th>SV</th>\n",
       "      <th>E</th>\n",
       "    </tr>\n",
       "  </thead>\n",
       "  <tbody>\n",
       "    <tr>\n",
       "      <th>0</th>\n",
       "      <td>95</td>\n",
       "      <td>724</td>\n",
       "      <td>5575</td>\n",
       "      <td>1497</td>\n",
       "      <td>300</td>\n",
       "      <td>42</td>\n",
       "      <td>139</td>\n",
       "      <td>383</td>\n",
       "      <td>973</td>\n",
       "      <td>104</td>\n",
       "      <td>641</td>\n",
       "      <td>601</td>\n",
       "      <td>3.73</td>\n",
       "      <td>2</td>\n",
       "      <td>8</td>\n",
       "      <td>56</td>\n",
       "      <td>88</td>\n",
       "    </tr>\n",
       "    <tr>\n",
       "      <th>1</th>\n",
       "      <td>83</td>\n",
       "      <td>696</td>\n",
       "      <td>5467</td>\n",
       "      <td>1349</td>\n",
       "      <td>277</td>\n",
       "      <td>44</td>\n",
       "      <td>156</td>\n",
       "      <td>439</td>\n",
       "      <td>1264</td>\n",
       "      <td>70</td>\n",
       "      <td>700</td>\n",
       "      <td>653</td>\n",
       "      <td>4.07</td>\n",
       "      <td>2</td>\n",
       "      <td>12</td>\n",
       "      <td>45</td>\n",
       "      <td>86</td>\n",
       "    </tr>\n",
       "    <tr>\n",
       "      <th>2</th>\n",
       "      <td>81</td>\n",
       "      <td>669</td>\n",
       "      <td>5439</td>\n",
       "      <td>1395</td>\n",
       "      <td>303</td>\n",
       "      <td>29</td>\n",
       "      <td>141</td>\n",
       "      <td>533</td>\n",
       "      <td>1157</td>\n",
       "      <td>86</td>\n",
       "      <td>640</td>\n",
       "      <td>584</td>\n",
       "      <td>3.67</td>\n",
       "      <td>11</td>\n",
       "      <td>10</td>\n",
       "      <td>38</td>\n",
       "      <td>79</td>\n",
       "    </tr>\n",
       "    <tr>\n",
       "      <th>3</th>\n",
       "      <td>76</td>\n",
       "      <td>622</td>\n",
       "      <td>5533</td>\n",
       "      <td>1381</td>\n",
       "      <td>260</td>\n",
       "      <td>27</td>\n",
       "      <td>136</td>\n",
       "      <td>404</td>\n",
       "      <td>1231</td>\n",
       "      <td>68</td>\n",
       "      <td>701</td>\n",
       "      <td>643</td>\n",
       "      <td>3.98</td>\n",
       "      <td>7</td>\n",
       "      <td>9</td>\n",
       "      <td>37</td>\n",
       "      <td>101</td>\n",
       "    </tr>\n",
       "    <tr>\n",
       "      <th>4</th>\n",
       "      <td>74</td>\n",
       "      <td>689</td>\n",
       "      <td>5605</td>\n",
       "      <td>1515</td>\n",
       "      <td>289</td>\n",
       "      <td>49</td>\n",
       "      <td>151</td>\n",
       "      <td>455</td>\n",
       "      <td>1259</td>\n",
       "      <td>83</td>\n",
       "      <td>803</td>\n",
       "      <td>746</td>\n",
       "      <td>4.64</td>\n",
       "      <td>7</td>\n",
       "      <td>12</td>\n",
       "      <td>35</td>\n",
       "      <td>86</td>\n",
       "    </tr>\n",
       "    <tr>\n",
       "      <th>6</th>\n",
       "      <td>87</td>\n",
       "      <td>764</td>\n",
       "      <td>5567</td>\n",
       "      <td>1397</td>\n",
       "      <td>272</td>\n",
       "      <td>19</td>\n",
       "      <td>212</td>\n",
       "      <td>554</td>\n",
       "      <td>1227</td>\n",
       "      <td>63</td>\n",
       "      <td>698</td>\n",
       "      <td>652</td>\n",
       "      <td>4.03</td>\n",
       "      <td>3</td>\n",
       "      <td>4</td>\n",
       "      <td>48</td>\n",
       "      <td>93</td>\n",
       "    </tr>\n",
       "    <tr>\n",
       "      <th>7</th>\n",
       "      <td>81</td>\n",
       "      <td>713</td>\n",
       "      <td>5485</td>\n",
       "      <td>1370</td>\n",
       "      <td>246</td>\n",
       "      <td>20</td>\n",
       "      <td>217</td>\n",
       "      <td>418</td>\n",
       "      <td>1331</td>\n",
       "      <td>44</td>\n",
       "      <td>693</td>\n",
       "      <td>646</td>\n",
       "      <td>4.05</td>\n",
       "      <td>0</td>\n",
       "      <td>10</td>\n",
       "      <td>43</td>\n",
       "      <td>77</td>\n",
       "    </tr>\n",
       "    <tr>\n",
       "      <th>8</th>\n",
       "      <td>80</td>\n",
       "      <td>644</td>\n",
       "      <td>5485</td>\n",
       "      <td>1383</td>\n",
       "      <td>278</td>\n",
       "      <td>32</td>\n",
       "      <td>167</td>\n",
       "      <td>436</td>\n",
       "      <td>1310</td>\n",
       "      <td>87</td>\n",
       "      <td>642</td>\n",
       "      <td>604</td>\n",
       "      <td>3.74</td>\n",
       "      <td>1</td>\n",
       "      <td>12</td>\n",
       "      <td>60</td>\n",
       "      <td>95</td>\n",
       "    </tr>\n",
       "    <tr>\n",
       "      <th>9</th>\n",
       "      <td>78</td>\n",
       "      <td>748</td>\n",
       "      <td>5640</td>\n",
       "      <td>1495</td>\n",
       "      <td>294</td>\n",
       "      <td>33</td>\n",
       "      <td>161</td>\n",
       "      <td>478</td>\n",
       "      <td>1148</td>\n",
       "      <td>71</td>\n",
       "      <td>753</td>\n",
       "      <td>694</td>\n",
       "      <td>4.31</td>\n",
       "      <td>3</td>\n",
       "      <td>10</td>\n",
       "      <td>40</td>\n",
       "      <td>97</td>\n",
       "    </tr>\n",
       "    <tr>\n",
       "      <th>10</th>\n",
       "      <td>88</td>\n",
       "      <td>751</td>\n",
       "      <td>5511</td>\n",
       "      <td>1419</td>\n",
       "      <td>279</td>\n",
       "      <td>32</td>\n",
       "      <td>172</td>\n",
       "      <td>503</td>\n",
       "      <td>1233</td>\n",
       "      <td>101</td>\n",
       "      <td>733</td>\n",
       "      <td>680</td>\n",
       "      <td>4.24</td>\n",
       "      <td>5</td>\n",
       "      <td>9</td>\n",
       "      <td>45</td>\n",
       "      <td>119</td>\n",
       "    </tr>\n",
       "    <tr>\n",
       "      <th>11</th>\n",
       "      <td>86</td>\n",
       "      <td>729</td>\n",
       "      <td>5459</td>\n",
       "      <td>1363</td>\n",
       "      <td>278</td>\n",
       "      <td>26</td>\n",
       "      <td>230</td>\n",
       "      <td>486</td>\n",
       "      <td>1392</td>\n",
       "      <td>121</td>\n",
       "      <td>618</td>\n",
       "      <td>572</td>\n",
       "      <td>3.57</td>\n",
       "      <td>5</td>\n",
       "      <td>13</td>\n",
       "      <td>39</td>\n",
       "      <td>85</td>\n",
       "    </tr>\n",
       "    <tr>\n",
       "      <th>12</th>\n",
       "      <td>85</td>\n",
       "      <td>661</td>\n",
       "      <td>5417</td>\n",
       "      <td>1331</td>\n",
       "      <td>243</td>\n",
       "      <td>21</td>\n",
       "      <td>176</td>\n",
       "      <td>435</td>\n",
       "      <td>1150</td>\n",
       "      <td>52</td>\n",
       "      <td>675</td>\n",
       "      <td>630</td>\n",
       "      <td>3.94</td>\n",
       "      <td>2</td>\n",
       "      <td>12</td>\n",
       "      <td>46</td>\n",
       "      <td>93</td>\n",
       "    </tr>\n",
       "    <tr>\n",
       "      <th>13</th>\n",
       "      <td>76</td>\n",
       "      <td>656</td>\n",
       "      <td>5544</td>\n",
       "      <td>1379</td>\n",
       "      <td>262</td>\n",
       "      <td>22</td>\n",
       "      <td>198</td>\n",
       "      <td>478</td>\n",
       "      <td>1336</td>\n",
       "      <td>69</td>\n",
       "      <td>726</td>\n",
       "      <td>677</td>\n",
       "      <td>4.16</td>\n",
       "      <td>6</td>\n",
       "      <td>12</td>\n",
       "      <td>45</td>\n",
       "      <td>94</td>\n",
       "    </tr>\n",
       "    <tr>\n",
       "      <th>14</th>\n",
       "      <td>68</td>\n",
       "      <td>694</td>\n",
       "      <td>5600</td>\n",
       "      <td>1405</td>\n",
       "      <td>277</td>\n",
       "      <td>46</td>\n",
       "      <td>146</td>\n",
       "      <td>475</td>\n",
       "      <td>1119</td>\n",
       "      <td>78</td>\n",
       "      <td>729</td>\n",
       "      <td>664</td>\n",
       "      <td>4.14</td>\n",
       "      <td>5</td>\n",
       "      <td>15</td>\n",
       "      <td>28</td>\n",
       "      <td>126</td>\n",
       "    </tr>\n",
       "    <tr>\n",
       "      <th>15</th>\n",
       "      <td>100</td>\n",
       "      <td>647</td>\n",
       "      <td>5484</td>\n",
       "      <td>1386</td>\n",
       "      <td>288</td>\n",
       "      <td>39</td>\n",
       "      <td>137</td>\n",
       "      <td>506</td>\n",
       "      <td>1267</td>\n",
       "      <td>69</td>\n",
       "      <td>525</td>\n",
       "      <td>478</td>\n",
       "      <td>2.94</td>\n",
       "      <td>1</td>\n",
       "      <td>15</td>\n",
       "      <td>62</td>\n",
       "      <td>96</td>\n",
       "    </tr>\n",
       "    <tr>\n",
       "      <th>16</th>\n",
       "      <td>98</td>\n",
       "      <td>697</td>\n",
       "      <td>5631</td>\n",
       "      <td>1462</td>\n",
       "      <td>292</td>\n",
       "      <td>27</td>\n",
       "      <td>140</td>\n",
       "      <td>461</td>\n",
       "      <td>1322</td>\n",
       "      <td>98</td>\n",
       "      <td>596</td>\n",
       "      <td>532</td>\n",
       "      <td>3.21</td>\n",
       "      <td>0</td>\n",
       "      <td>13</td>\n",
       "      <td>54</td>\n",
       "      <td>122</td>\n",
       "    </tr>\n",
       "    <tr>\n",
       "      <th>17</th>\n",
       "      <td>97</td>\n",
       "      <td>689</td>\n",
       "      <td>5491</td>\n",
       "      <td>1341</td>\n",
       "      <td>272</td>\n",
       "      <td>30</td>\n",
       "      <td>171</td>\n",
       "      <td>567</td>\n",
       "      <td>1518</td>\n",
       "      <td>95</td>\n",
       "      <td>608</td>\n",
       "      <td>546</td>\n",
       "      <td>3.36</td>\n",
       "      <td>6</td>\n",
       "      <td>21</td>\n",
       "      <td>48</td>\n",
       "      <td>111</td>\n",
       "    </tr>\n",
       "    <tr>\n",
       "      <th>18</th>\n",
       "      <td>68</td>\n",
       "      <td>655</td>\n",
       "      <td>5480</td>\n",
       "      <td>1378</td>\n",
       "      <td>274</td>\n",
       "      <td>34</td>\n",
       "      <td>145</td>\n",
       "      <td>412</td>\n",
       "      <td>1299</td>\n",
       "      <td>84</td>\n",
       "      <td>737</td>\n",
       "      <td>682</td>\n",
       "      <td>4.28</td>\n",
       "      <td>1</td>\n",
       "      <td>7</td>\n",
       "      <td>40</td>\n",
       "      <td>116</td>\n",
       "    </tr>\n",
       "    <tr>\n",
       "      <th>19</th>\n",
       "      <td>64</td>\n",
       "      <td>640</td>\n",
       "      <td>5571</td>\n",
       "      <td>1382</td>\n",
       "      <td>257</td>\n",
       "      <td>27</td>\n",
       "      <td>167</td>\n",
       "      <td>496</td>\n",
       "      <td>1255</td>\n",
       "      <td>134</td>\n",
       "      <td>754</td>\n",
       "      <td>700</td>\n",
       "      <td>4.33</td>\n",
       "      <td>2</td>\n",
       "      <td>8</td>\n",
       "      <td>35</td>\n",
       "      <td>90</td>\n",
       "    </tr>\n",
       "    <tr>\n",
       "      <th>20</th>\n",
       "      <td>90</td>\n",
       "      <td>683</td>\n",
       "      <td>5527</td>\n",
       "      <td>1351</td>\n",
       "      <td>295</td>\n",
       "      <td>17</td>\n",
       "      <td>177</td>\n",
       "      <td>488</td>\n",
       "      <td>1290</td>\n",
       "      <td>51</td>\n",
       "      <td>613</td>\n",
       "      <td>557</td>\n",
       "      <td>3.43</td>\n",
       "      <td>1</td>\n",
       "      <td>14</td>\n",
       "      <td>50</td>\n",
       "      <td>88</td>\n",
       "    </tr>\n",
       "    <tr>\n",
       "      <th>21</th>\n",
       "      <td>83</td>\n",
       "      <td>703</td>\n",
       "      <td>5428</td>\n",
       "      <td>1363</td>\n",
       "      <td>265</td>\n",
       "      <td>13</td>\n",
       "      <td>177</td>\n",
       "      <td>539</td>\n",
       "      <td>1344</td>\n",
       "      <td>57</td>\n",
       "      <td>635</td>\n",
       "      <td>577</td>\n",
       "      <td>3.62</td>\n",
       "      <td>4</td>\n",
       "      <td>13</td>\n",
       "      <td>41</td>\n",
       "      <td>90</td>\n",
       "    </tr>\n",
       "    <tr>\n",
       "      <th>22</th>\n",
       "      <td>71</td>\n",
       "      <td>613</td>\n",
       "      <td>5463</td>\n",
       "      <td>1420</td>\n",
       "      <td>236</td>\n",
       "      <td>40</td>\n",
       "      <td>120</td>\n",
       "      <td>375</td>\n",
       "      <td>1150</td>\n",
       "      <td>112</td>\n",
       "      <td>678</td>\n",
       "      <td>638</td>\n",
       "      <td>4.02</td>\n",
       "      <td>0</td>\n",
       "      <td>12</td>\n",
       "      <td>35</td>\n",
       "      <td>77</td>\n",
       "    </tr>\n",
       "    <tr>\n",
       "      <th>23</th>\n",
       "      <td>67</td>\n",
       "      <td>573</td>\n",
       "      <td>5420</td>\n",
       "      <td>1361</td>\n",
       "      <td>251</td>\n",
       "      <td>18</td>\n",
       "      <td>100</td>\n",
       "      <td>471</td>\n",
       "      <td>1107</td>\n",
       "      <td>69</td>\n",
       "      <td>760</td>\n",
       "      <td>698</td>\n",
       "      <td>4.41</td>\n",
       "      <td>3</td>\n",
       "      <td>10</td>\n",
       "      <td>44</td>\n",
       "      <td>90</td>\n",
       "    </tr>\n",
       "    <tr>\n",
       "      <th>24</th>\n",
       "      <td>63</td>\n",
       "      <td>626</td>\n",
       "      <td>5529</td>\n",
       "      <td>1374</td>\n",
       "      <td>272</td>\n",
       "      <td>37</td>\n",
       "      <td>130</td>\n",
       "      <td>387</td>\n",
       "      <td>1274</td>\n",
       "      <td>88</td>\n",
       "      <td>809</td>\n",
       "      <td>749</td>\n",
       "      <td>4.69</td>\n",
       "      <td>1</td>\n",
       "      <td>7</td>\n",
       "      <td>35</td>\n",
       "      <td>117</td>\n",
       "    </tr>\n",
       "    <tr>\n",
       "      <th>25</th>\n",
       "      <td>92</td>\n",
       "      <td>667</td>\n",
       "      <td>5385</td>\n",
       "      <td>1346</td>\n",
       "      <td>263</td>\n",
       "      <td>26</td>\n",
       "      <td>187</td>\n",
       "      <td>563</td>\n",
       "      <td>1258</td>\n",
       "      <td>59</td>\n",
       "      <td>595</td>\n",
       "      <td>553</td>\n",
       "      <td>3.44</td>\n",
       "      <td>6</td>\n",
       "      <td>21</td>\n",
       "      <td>47</td>\n",
       "      <td>75</td>\n",
       "    </tr>\n",
       "    <tr>\n",
       "      <th>26</th>\n",
       "      <td>84</td>\n",
       "      <td>696</td>\n",
       "      <td>5565</td>\n",
       "      <td>1486</td>\n",
       "      <td>288</td>\n",
       "      <td>39</td>\n",
       "      <td>136</td>\n",
       "      <td>457</td>\n",
       "      <td>1159</td>\n",
       "      <td>93</td>\n",
       "      <td>627</td>\n",
       "      <td>597</td>\n",
       "      <td>3.72</td>\n",
       "      <td>7</td>\n",
       "      <td>18</td>\n",
       "      <td>41</td>\n",
       "      <td>78</td>\n",
       "    </tr>\n",
       "    <tr>\n",
       "      <th>27</th>\n",
       "      <td>79</td>\n",
       "      <td>720</td>\n",
       "      <td>5649</td>\n",
       "      <td>1494</td>\n",
       "      <td>289</td>\n",
       "      <td>48</td>\n",
       "      <td>154</td>\n",
       "      <td>490</td>\n",
       "      <td>1312</td>\n",
       "      <td>132</td>\n",
       "      <td>713</td>\n",
       "      <td>659</td>\n",
       "      <td>4.04</td>\n",
       "      <td>1</td>\n",
       "      <td>12</td>\n",
       "      <td>44</td>\n",
       "      <td>86</td>\n",
       "    </tr>\n",
       "    <tr>\n",
       "      <th>28</th>\n",
       "      <td>74</td>\n",
       "      <td>650</td>\n",
       "      <td>5457</td>\n",
       "      <td>1324</td>\n",
       "      <td>260</td>\n",
       "      <td>36</td>\n",
       "      <td>148</td>\n",
       "      <td>426</td>\n",
       "      <td>1327</td>\n",
       "      <td>82</td>\n",
       "      <td>731</td>\n",
       "      <td>655</td>\n",
       "      <td>4.09</td>\n",
       "      <td>1</td>\n",
       "      <td>6</td>\n",
       "      <td>41</td>\n",
       "      <td>92</td>\n",
       "    </tr>\n",
       "    <tr>\n",
       "      <th>29</th>\n",
       "      <td>68</td>\n",
       "      <td>737</td>\n",
       "      <td>5572</td>\n",
       "      <td>1479</td>\n",
       "      <td>274</td>\n",
       "      <td>49</td>\n",
       "      <td>186</td>\n",
       "      <td>388</td>\n",
       "      <td>1283</td>\n",
       "      <td>97</td>\n",
       "      <td>844</td>\n",
       "      <td>799</td>\n",
       "      <td>5.04</td>\n",
       "      <td>4</td>\n",
       "      <td>4</td>\n",
       "      <td>36</td>\n",
       "      <td>95</td>\n",
       "    </tr>\n",
       "  </tbody>\n",
       "</table>\n",
       "</div>"
      ],
      "text/plain": [
       "      W    R    AB     H   2B  3B   HR   BB    SO   SB   RA   ER   ERA  CG  \\\n",
       "0    95  724  5575  1497  300  42  139  383   973  104  641  601  3.73   2   \n",
       "1    83  696  5467  1349  277  44  156  439  1264   70  700  653  4.07   2   \n",
       "2    81  669  5439  1395  303  29  141  533  1157   86  640  584  3.67  11   \n",
       "3    76  622  5533  1381  260  27  136  404  1231   68  701  643  3.98   7   \n",
       "4    74  689  5605  1515  289  49  151  455  1259   83  803  746  4.64   7   \n",
       "6    87  764  5567  1397  272  19  212  554  1227   63  698  652  4.03   3   \n",
       "7    81  713  5485  1370  246  20  217  418  1331   44  693  646  4.05   0   \n",
       "8    80  644  5485  1383  278  32  167  436  1310   87  642  604  3.74   1   \n",
       "9    78  748  5640  1495  294  33  161  478  1148   71  753  694  4.31   3   \n",
       "10   88  751  5511  1419  279  32  172  503  1233  101  733  680  4.24   5   \n",
       "11   86  729  5459  1363  278  26  230  486  1392  121  618  572  3.57   5   \n",
       "12   85  661  5417  1331  243  21  176  435  1150   52  675  630  3.94   2   \n",
       "13   76  656  5544  1379  262  22  198  478  1336   69  726  677  4.16   6   \n",
       "14   68  694  5600  1405  277  46  146  475  1119   78  729  664  4.14   5   \n",
       "15  100  647  5484  1386  288  39  137  506  1267   69  525  478  2.94   1   \n",
       "16   98  697  5631  1462  292  27  140  461  1322   98  596  532  3.21   0   \n",
       "17   97  689  5491  1341  272  30  171  567  1518   95  608  546  3.36   6   \n",
       "18   68  655  5480  1378  274  34  145  412  1299   84  737  682  4.28   1   \n",
       "19   64  640  5571  1382  257  27  167  496  1255  134  754  700  4.33   2   \n",
       "20   90  683  5527  1351  295  17  177  488  1290   51  613  557  3.43   1   \n",
       "21   83  703  5428  1363  265  13  177  539  1344   57  635  577  3.62   4   \n",
       "22   71  613  5463  1420  236  40  120  375  1150  112  678  638  4.02   0   \n",
       "23   67  573  5420  1361  251  18  100  471  1107   69  760  698  4.41   3   \n",
       "24   63  626  5529  1374  272  37  130  387  1274   88  809  749  4.69   1   \n",
       "25   92  667  5385  1346  263  26  187  563  1258   59  595  553  3.44   6   \n",
       "26   84  696  5565  1486  288  39  136  457  1159   93  627  597  3.72   7   \n",
       "27   79  720  5649  1494  289  48  154  490  1312  132  713  659  4.04   1   \n",
       "28   74  650  5457  1324  260  36  148  426  1327   82  731  655  4.09   1   \n",
       "29   68  737  5572  1479  274  49  186  388  1283   97  844  799  5.04   4   \n",
       "\n",
       "    SHO  SV    E  \n",
       "0     8  56   88  \n",
       "1    12  45   86  \n",
       "2    10  38   79  \n",
       "3     9  37  101  \n",
       "4    12  35   86  \n",
       "6     4  48   93  \n",
       "7    10  43   77  \n",
       "8    12  60   95  \n",
       "9    10  40   97  \n",
       "10    9  45  119  \n",
       "11   13  39   85  \n",
       "12   12  46   93  \n",
       "13   12  45   94  \n",
       "14   15  28  126  \n",
       "15   15  62   96  \n",
       "16   13  54  122  \n",
       "17   21  48  111  \n",
       "18    7  40  116  \n",
       "19    8  35   90  \n",
       "20   14  50   88  \n",
       "21   13  41   90  \n",
       "22   12  35   77  \n",
       "23   10  44   90  \n",
       "24    7  35  117  \n",
       "25   21  47   75  \n",
       "26   18  41   78  \n",
       "27   12  44   86  \n",
       "28    6  41   92  \n",
       "29    4  36   95  "
      ]
     },
     "execution_count": 67,
     "metadata": {},
     "output_type": "execute_result"
    }
   ],
   "source": [
    "df_new=df[(z<3).all(axis=1)]\n",
    "df_new"
   ]
  },
  {
   "cell_type": "code",
   "execution_count": 68,
   "id": "60f381cb",
   "metadata": {},
   "outputs": [
    {
     "name": "stdout",
     "output_type": "stream",
     "text": [
      "(30, 17)\n",
      "(29, 17)\n"
     ]
    }
   ],
   "source": [
    "print(df.shape)\n",
    "print(df_new.shape)"
   ]
  },
  {
   "cell_type": "markdown",
   "id": "3a4cc96e",
   "metadata": {},
   "source": [
    "Checking percentage of dataloss"
   ]
  },
  {
   "cell_type": "code",
   "execution_count": 69,
   "id": "4a59df55",
   "metadata": {},
   "outputs": [
    {
     "data": {
      "text/plain": [
       "3.3333333333333335"
      ]
     },
     "execution_count": 69,
     "metadata": {},
     "output_type": "execute_result"
    }
   ],
   "source": [
    "percentage_of_dataloss=((30-29)/30)*100\n",
    "percentage_of_dataloss"
   ]
  },
  {
   "cell_type": "markdown",
   "id": "95c0aeb2",
   "metadata": {},
   "source": [
    "Dividing data in features and vectors"
   ]
  },
  {
   "cell_type": "code",
   "execution_count": 70,
   "id": "d49dce60",
   "metadata": {},
   "outputs": [],
   "source": [
    "x=df_new.iloc[:,1:-1] #Independent variable\n",
    "y=df_new.iloc[:,0] #Dependent variable"
   ]
  },
  {
   "cell_type": "code",
   "execution_count": 71,
   "id": "e8e7f4c3",
   "metadata": {},
   "outputs": [
    {
     "data": {
      "text/html": [
       "<div>\n",
       "<style scoped>\n",
       "    .dataframe tbody tr th:only-of-type {\n",
       "        vertical-align: middle;\n",
       "    }\n",
       "\n",
       "    .dataframe tbody tr th {\n",
       "        vertical-align: top;\n",
       "    }\n",
       "\n",
       "    .dataframe thead th {\n",
       "        text-align: right;\n",
       "    }\n",
       "</style>\n",
       "<table border=\"1\" class=\"dataframe\">\n",
       "  <thead>\n",
       "    <tr style=\"text-align: right;\">\n",
       "      <th></th>\n",
       "      <th>R</th>\n",
       "      <th>AB</th>\n",
       "      <th>H</th>\n",
       "      <th>2B</th>\n",
       "      <th>3B</th>\n",
       "      <th>HR</th>\n",
       "      <th>BB</th>\n",
       "      <th>SO</th>\n",
       "      <th>SB</th>\n",
       "      <th>RA</th>\n",
       "      <th>ER</th>\n",
       "      <th>ERA</th>\n",
       "      <th>CG</th>\n",
       "      <th>SHO</th>\n",
       "      <th>SV</th>\n",
       "    </tr>\n",
       "  </thead>\n",
       "  <tbody>\n",
       "    <tr>\n",
       "      <th>0</th>\n",
       "      <td>724</td>\n",
       "      <td>5575</td>\n",
       "      <td>1497</td>\n",
       "      <td>300</td>\n",
       "      <td>42</td>\n",
       "      <td>139</td>\n",
       "      <td>383</td>\n",
       "      <td>973</td>\n",
       "      <td>104</td>\n",
       "      <td>641</td>\n",
       "      <td>601</td>\n",
       "      <td>3.73</td>\n",
       "      <td>2</td>\n",
       "      <td>8</td>\n",
       "      <td>56</td>\n",
       "    </tr>\n",
       "    <tr>\n",
       "      <th>1</th>\n",
       "      <td>696</td>\n",
       "      <td>5467</td>\n",
       "      <td>1349</td>\n",
       "      <td>277</td>\n",
       "      <td>44</td>\n",
       "      <td>156</td>\n",
       "      <td>439</td>\n",
       "      <td>1264</td>\n",
       "      <td>70</td>\n",
       "      <td>700</td>\n",
       "      <td>653</td>\n",
       "      <td>4.07</td>\n",
       "      <td>2</td>\n",
       "      <td>12</td>\n",
       "      <td>45</td>\n",
       "    </tr>\n",
       "    <tr>\n",
       "      <th>2</th>\n",
       "      <td>669</td>\n",
       "      <td>5439</td>\n",
       "      <td>1395</td>\n",
       "      <td>303</td>\n",
       "      <td>29</td>\n",
       "      <td>141</td>\n",
       "      <td>533</td>\n",
       "      <td>1157</td>\n",
       "      <td>86</td>\n",
       "      <td>640</td>\n",
       "      <td>584</td>\n",
       "      <td>3.67</td>\n",
       "      <td>11</td>\n",
       "      <td>10</td>\n",
       "      <td>38</td>\n",
       "    </tr>\n",
       "    <tr>\n",
       "      <th>3</th>\n",
       "      <td>622</td>\n",
       "      <td>5533</td>\n",
       "      <td>1381</td>\n",
       "      <td>260</td>\n",
       "      <td>27</td>\n",
       "      <td>136</td>\n",
       "      <td>404</td>\n",
       "      <td>1231</td>\n",
       "      <td>68</td>\n",
       "      <td>701</td>\n",
       "      <td>643</td>\n",
       "      <td>3.98</td>\n",
       "      <td>7</td>\n",
       "      <td>9</td>\n",
       "      <td>37</td>\n",
       "    </tr>\n",
       "    <tr>\n",
       "      <th>4</th>\n",
       "      <td>689</td>\n",
       "      <td>5605</td>\n",
       "      <td>1515</td>\n",
       "      <td>289</td>\n",
       "      <td>49</td>\n",
       "      <td>151</td>\n",
       "      <td>455</td>\n",
       "      <td>1259</td>\n",
       "      <td>83</td>\n",
       "      <td>803</td>\n",
       "      <td>746</td>\n",
       "      <td>4.64</td>\n",
       "      <td>7</td>\n",
       "      <td>12</td>\n",
       "      <td>35</td>\n",
       "    </tr>\n",
       "    <tr>\n",
       "      <th>6</th>\n",
       "      <td>764</td>\n",
       "      <td>5567</td>\n",
       "      <td>1397</td>\n",
       "      <td>272</td>\n",
       "      <td>19</td>\n",
       "      <td>212</td>\n",
       "      <td>554</td>\n",
       "      <td>1227</td>\n",
       "      <td>63</td>\n",
       "      <td>698</td>\n",
       "      <td>652</td>\n",
       "      <td>4.03</td>\n",
       "      <td>3</td>\n",
       "      <td>4</td>\n",
       "      <td>48</td>\n",
       "    </tr>\n",
       "    <tr>\n",
       "      <th>7</th>\n",
       "      <td>713</td>\n",
       "      <td>5485</td>\n",
       "      <td>1370</td>\n",
       "      <td>246</td>\n",
       "      <td>20</td>\n",
       "      <td>217</td>\n",
       "      <td>418</td>\n",
       "      <td>1331</td>\n",
       "      <td>44</td>\n",
       "      <td>693</td>\n",
       "      <td>646</td>\n",
       "      <td>4.05</td>\n",
       "      <td>0</td>\n",
       "      <td>10</td>\n",
       "      <td>43</td>\n",
       "    </tr>\n",
       "    <tr>\n",
       "      <th>8</th>\n",
       "      <td>644</td>\n",
       "      <td>5485</td>\n",
       "      <td>1383</td>\n",
       "      <td>278</td>\n",
       "      <td>32</td>\n",
       "      <td>167</td>\n",
       "      <td>436</td>\n",
       "      <td>1310</td>\n",
       "      <td>87</td>\n",
       "      <td>642</td>\n",
       "      <td>604</td>\n",
       "      <td>3.74</td>\n",
       "      <td>1</td>\n",
       "      <td>12</td>\n",
       "      <td>60</td>\n",
       "    </tr>\n",
       "    <tr>\n",
       "      <th>9</th>\n",
       "      <td>748</td>\n",
       "      <td>5640</td>\n",
       "      <td>1495</td>\n",
       "      <td>294</td>\n",
       "      <td>33</td>\n",
       "      <td>161</td>\n",
       "      <td>478</td>\n",
       "      <td>1148</td>\n",
       "      <td>71</td>\n",
       "      <td>753</td>\n",
       "      <td>694</td>\n",
       "      <td>4.31</td>\n",
       "      <td>3</td>\n",
       "      <td>10</td>\n",
       "      <td>40</td>\n",
       "    </tr>\n",
       "    <tr>\n",
       "      <th>10</th>\n",
       "      <td>751</td>\n",
       "      <td>5511</td>\n",
       "      <td>1419</td>\n",
       "      <td>279</td>\n",
       "      <td>32</td>\n",
       "      <td>172</td>\n",
       "      <td>503</td>\n",
       "      <td>1233</td>\n",
       "      <td>101</td>\n",
       "      <td>733</td>\n",
       "      <td>680</td>\n",
       "      <td>4.24</td>\n",
       "      <td>5</td>\n",
       "      <td>9</td>\n",
       "      <td>45</td>\n",
       "    </tr>\n",
       "    <tr>\n",
       "      <th>11</th>\n",
       "      <td>729</td>\n",
       "      <td>5459</td>\n",
       "      <td>1363</td>\n",
       "      <td>278</td>\n",
       "      <td>26</td>\n",
       "      <td>230</td>\n",
       "      <td>486</td>\n",
       "      <td>1392</td>\n",
       "      <td>121</td>\n",
       "      <td>618</td>\n",
       "      <td>572</td>\n",
       "      <td>3.57</td>\n",
       "      <td>5</td>\n",
       "      <td>13</td>\n",
       "      <td>39</td>\n",
       "    </tr>\n",
       "    <tr>\n",
       "      <th>12</th>\n",
       "      <td>661</td>\n",
       "      <td>5417</td>\n",
       "      <td>1331</td>\n",
       "      <td>243</td>\n",
       "      <td>21</td>\n",
       "      <td>176</td>\n",
       "      <td>435</td>\n",
       "      <td>1150</td>\n",
       "      <td>52</td>\n",
       "      <td>675</td>\n",
       "      <td>630</td>\n",
       "      <td>3.94</td>\n",
       "      <td>2</td>\n",
       "      <td>12</td>\n",
       "      <td>46</td>\n",
       "    </tr>\n",
       "    <tr>\n",
       "      <th>13</th>\n",
       "      <td>656</td>\n",
       "      <td>5544</td>\n",
       "      <td>1379</td>\n",
       "      <td>262</td>\n",
       "      <td>22</td>\n",
       "      <td>198</td>\n",
       "      <td>478</td>\n",
       "      <td>1336</td>\n",
       "      <td>69</td>\n",
       "      <td>726</td>\n",
       "      <td>677</td>\n",
       "      <td>4.16</td>\n",
       "      <td>6</td>\n",
       "      <td>12</td>\n",
       "      <td>45</td>\n",
       "    </tr>\n",
       "    <tr>\n",
       "      <th>14</th>\n",
       "      <td>694</td>\n",
       "      <td>5600</td>\n",
       "      <td>1405</td>\n",
       "      <td>277</td>\n",
       "      <td>46</td>\n",
       "      <td>146</td>\n",
       "      <td>475</td>\n",
       "      <td>1119</td>\n",
       "      <td>78</td>\n",
       "      <td>729</td>\n",
       "      <td>664</td>\n",
       "      <td>4.14</td>\n",
       "      <td>5</td>\n",
       "      <td>15</td>\n",
       "      <td>28</td>\n",
       "    </tr>\n",
       "    <tr>\n",
       "      <th>15</th>\n",
       "      <td>647</td>\n",
       "      <td>5484</td>\n",
       "      <td>1386</td>\n",
       "      <td>288</td>\n",
       "      <td>39</td>\n",
       "      <td>137</td>\n",
       "      <td>506</td>\n",
       "      <td>1267</td>\n",
       "      <td>69</td>\n",
       "      <td>525</td>\n",
       "      <td>478</td>\n",
       "      <td>2.94</td>\n",
       "      <td>1</td>\n",
       "      <td>15</td>\n",
       "      <td>62</td>\n",
       "    </tr>\n",
       "    <tr>\n",
       "      <th>16</th>\n",
       "      <td>697</td>\n",
       "      <td>5631</td>\n",
       "      <td>1462</td>\n",
       "      <td>292</td>\n",
       "      <td>27</td>\n",
       "      <td>140</td>\n",
       "      <td>461</td>\n",
       "      <td>1322</td>\n",
       "      <td>98</td>\n",
       "      <td>596</td>\n",
       "      <td>532</td>\n",
       "      <td>3.21</td>\n",
       "      <td>0</td>\n",
       "      <td>13</td>\n",
       "      <td>54</td>\n",
       "    </tr>\n",
       "    <tr>\n",
       "      <th>17</th>\n",
       "      <td>689</td>\n",
       "      <td>5491</td>\n",
       "      <td>1341</td>\n",
       "      <td>272</td>\n",
       "      <td>30</td>\n",
       "      <td>171</td>\n",
       "      <td>567</td>\n",
       "      <td>1518</td>\n",
       "      <td>95</td>\n",
       "      <td>608</td>\n",
       "      <td>546</td>\n",
       "      <td>3.36</td>\n",
       "      <td>6</td>\n",
       "      <td>21</td>\n",
       "      <td>48</td>\n",
       "    </tr>\n",
       "    <tr>\n",
       "      <th>18</th>\n",
       "      <td>655</td>\n",
       "      <td>5480</td>\n",
       "      <td>1378</td>\n",
       "      <td>274</td>\n",
       "      <td>34</td>\n",
       "      <td>145</td>\n",
       "      <td>412</td>\n",
       "      <td>1299</td>\n",
       "      <td>84</td>\n",
       "      <td>737</td>\n",
       "      <td>682</td>\n",
       "      <td>4.28</td>\n",
       "      <td>1</td>\n",
       "      <td>7</td>\n",
       "      <td>40</td>\n",
       "    </tr>\n",
       "    <tr>\n",
       "      <th>19</th>\n",
       "      <td>640</td>\n",
       "      <td>5571</td>\n",
       "      <td>1382</td>\n",
       "      <td>257</td>\n",
       "      <td>27</td>\n",
       "      <td>167</td>\n",
       "      <td>496</td>\n",
       "      <td>1255</td>\n",
       "      <td>134</td>\n",
       "      <td>754</td>\n",
       "      <td>700</td>\n",
       "      <td>4.33</td>\n",
       "      <td>2</td>\n",
       "      <td>8</td>\n",
       "      <td>35</td>\n",
       "    </tr>\n",
       "    <tr>\n",
       "      <th>20</th>\n",
       "      <td>683</td>\n",
       "      <td>5527</td>\n",
       "      <td>1351</td>\n",
       "      <td>295</td>\n",
       "      <td>17</td>\n",
       "      <td>177</td>\n",
       "      <td>488</td>\n",
       "      <td>1290</td>\n",
       "      <td>51</td>\n",
       "      <td>613</td>\n",
       "      <td>557</td>\n",
       "      <td>3.43</td>\n",
       "      <td>1</td>\n",
       "      <td>14</td>\n",
       "      <td>50</td>\n",
       "    </tr>\n",
       "    <tr>\n",
       "      <th>21</th>\n",
       "      <td>703</td>\n",
       "      <td>5428</td>\n",
       "      <td>1363</td>\n",
       "      <td>265</td>\n",
       "      <td>13</td>\n",
       "      <td>177</td>\n",
       "      <td>539</td>\n",
       "      <td>1344</td>\n",
       "      <td>57</td>\n",
       "      <td>635</td>\n",
       "      <td>577</td>\n",
       "      <td>3.62</td>\n",
       "      <td>4</td>\n",
       "      <td>13</td>\n",
       "      <td>41</td>\n",
       "    </tr>\n",
       "    <tr>\n",
       "      <th>22</th>\n",
       "      <td>613</td>\n",
       "      <td>5463</td>\n",
       "      <td>1420</td>\n",
       "      <td>236</td>\n",
       "      <td>40</td>\n",
       "      <td>120</td>\n",
       "      <td>375</td>\n",
       "      <td>1150</td>\n",
       "      <td>112</td>\n",
       "      <td>678</td>\n",
       "      <td>638</td>\n",
       "      <td>4.02</td>\n",
       "      <td>0</td>\n",
       "      <td>12</td>\n",
       "      <td>35</td>\n",
       "    </tr>\n",
       "    <tr>\n",
       "      <th>23</th>\n",
       "      <td>573</td>\n",
       "      <td>5420</td>\n",
       "      <td>1361</td>\n",
       "      <td>251</td>\n",
       "      <td>18</td>\n",
       "      <td>100</td>\n",
       "      <td>471</td>\n",
       "      <td>1107</td>\n",
       "      <td>69</td>\n",
       "      <td>760</td>\n",
       "      <td>698</td>\n",
       "      <td>4.41</td>\n",
       "      <td>3</td>\n",
       "      <td>10</td>\n",
       "      <td>44</td>\n",
       "    </tr>\n",
       "    <tr>\n",
       "      <th>24</th>\n",
       "      <td>626</td>\n",
       "      <td>5529</td>\n",
       "      <td>1374</td>\n",
       "      <td>272</td>\n",
       "      <td>37</td>\n",
       "      <td>130</td>\n",
       "      <td>387</td>\n",
       "      <td>1274</td>\n",
       "      <td>88</td>\n",
       "      <td>809</td>\n",
       "      <td>749</td>\n",
       "      <td>4.69</td>\n",
       "      <td>1</td>\n",
       "      <td>7</td>\n",
       "      <td>35</td>\n",
       "    </tr>\n",
       "    <tr>\n",
       "      <th>25</th>\n",
       "      <td>667</td>\n",
       "      <td>5385</td>\n",
       "      <td>1346</td>\n",
       "      <td>263</td>\n",
       "      <td>26</td>\n",
       "      <td>187</td>\n",
       "      <td>563</td>\n",
       "      <td>1258</td>\n",
       "      <td>59</td>\n",
       "      <td>595</td>\n",
       "      <td>553</td>\n",
       "      <td>3.44</td>\n",
       "      <td>6</td>\n",
       "      <td>21</td>\n",
       "      <td>47</td>\n",
       "    </tr>\n",
       "    <tr>\n",
       "      <th>26</th>\n",
       "      <td>696</td>\n",
       "      <td>5565</td>\n",
       "      <td>1486</td>\n",
       "      <td>288</td>\n",
       "      <td>39</td>\n",
       "      <td>136</td>\n",
       "      <td>457</td>\n",
       "      <td>1159</td>\n",
       "      <td>93</td>\n",
       "      <td>627</td>\n",
       "      <td>597</td>\n",
       "      <td>3.72</td>\n",
       "      <td>7</td>\n",
       "      <td>18</td>\n",
       "      <td>41</td>\n",
       "    </tr>\n",
       "    <tr>\n",
       "      <th>27</th>\n",
       "      <td>720</td>\n",
       "      <td>5649</td>\n",
       "      <td>1494</td>\n",
       "      <td>289</td>\n",
       "      <td>48</td>\n",
       "      <td>154</td>\n",
       "      <td>490</td>\n",
       "      <td>1312</td>\n",
       "      <td>132</td>\n",
       "      <td>713</td>\n",
       "      <td>659</td>\n",
       "      <td>4.04</td>\n",
       "      <td>1</td>\n",
       "      <td>12</td>\n",
       "      <td>44</td>\n",
       "    </tr>\n",
       "    <tr>\n",
       "      <th>28</th>\n",
       "      <td>650</td>\n",
       "      <td>5457</td>\n",
       "      <td>1324</td>\n",
       "      <td>260</td>\n",
       "      <td>36</td>\n",
       "      <td>148</td>\n",
       "      <td>426</td>\n",
       "      <td>1327</td>\n",
       "      <td>82</td>\n",
       "      <td>731</td>\n",
       "      <td>655</td>\n",
       "      <td>4.09</td>\n",
       "      <td>1</td>\n",
       "      <td>6</td>\n",
       "      <td>41</td>\n",
       "    </tr>\n",
       "    <tr>\n",
       "      <th>29</th>\n",
       "      <td>737</td>\n",
       "      <td>5572</td>\n",
       "      <td>1479</td>\n",
       "      <td>274</td>\n",
       "      <td>49</td>\n",
       "      <td>186</td>\n",
       "      <td>388</td>\n",
       "      <td>1283</td>\n",
       "      <td>97</td>\n",
       "      <td>844</td>\n",
       "      <td>799</td>\n",
       "      <td>5.04</td>\n",
       "      <td>4</td>\n",
       "      <td>4</td>\n",
       "      <td>36</td>\n",
       "    </tr>\n",
       "  </tbody>\n",
       "</table>\n",
       "</div>"
      ],
      "text/plain": [
       "      R    AB     H   2B  3B   HR   BB    SO   SB   RA   ER   ERA  CG  SHO  SV\n",
       "0   724  5575  1497  300  42  139  383   973  104  641  601  3.73   2    8  56\n",
       "1   696  5467  1349  277  44  156  439  1264   70  700  653  4.07   2   12  45\n",
       "2   669  5439  1395  303  29  141  533  1157   86  640  584  3.67  11   10  38\n",
       "3   622  5533  1381  260  27  136  404  1231   68  701  643  3.98   7    9  37\n",
       "4   689  5605  1515  289  49  151  455  1259   83  803  746  4.64   7   12  35\n",
       "6   764  5567  1397  272  19  212  554  1227   63  698  652  4.03   3    4  48\n",
       "7   713  5485  1370  246  20  217  418  1331   44  693  646  4.05   0   10  43\n",
       "8   644  5485  1383  278  32  167  436  1310   87  642  604  3.74   1   12  60\n",
       "9   748  5640  1495  294  33  161  478  1148   71  753  694  4.31   3   10  40\n",
       "10  751  5511  1419  279  32  172  503  1233  101  733  680  4.24   5    9  45\n",
       "11  729  5459  1363  278  26  230  486  1392  121  618  572  3.57   5   13  39\n",
       "12  661  5417  1331  243  21  176  435  1150   52  675  630  3.94   2   12  46\n",
       "13  656  5544  1379  262  22  198  478  1336   69  726  677  4.16   6   12  45\n",
       "14  694  5600  1405  277  46  146  475  1119   78  729  664  4.14   5   15  28\n",
       "15  647  5484  1386  288  39  137  506  1267   69  525  478  2.94   1   15  62\n",
       "16  697  5631  1462  292  27  140  461  1322   98  596  532  3.21   0   13  54\n",
       "17  689  5491  1341  272  30  171  567  1518   95  608  546  3.36   6   21  48\n",
       "18  655  5480  1378  274  34  145  412  1299   84  737  682  4.28   1    7  40\n",
       "19  640  5571  1382  257  27  167  496  1255  134  754  700  4.33   2    8  35\n",
       "20  683  5527  1351  295  17  177  488  1290   51  613  557  3.43   1   14  50\n",
       "21  703  5428  1363  265  13  177  539  1344   57  635  577  3.62   4   13  41\n",
       "22  613  5463  1420  236  40  120  375  1150  112  678  638  4.02   0   12  35\n",
       "23  573  5420  1361  251  18  100  471  1107   69  760  698  4.41   3   10  44\n",
       "24  626  5529  1374  272  37  130  387  1274   88  809  749  4.69   1    7  35\n",
       "25  667  5385  1346  263  26  187  563  1258   59  595  553  3.44   6   21  47\n",
       "26  696  5565  1486  288  39  136  457  1159   93  627  597  3.72   7   18  41\n",
       "27  720  5649  1494  289  48  154  490  1312  132  713  659  4.04   1   12  44\n",
       "28  650  5457  1324  260  36  148  426  1327   82  731  655  4.09   1    6  41\n",
       "29  737  5572  1479  274  49  186  388  1283   97  844  799  5.04   4    4  36"
      ]
     },
     "execution_count": 71,
     "metadata": {},
     "output_type": "execute_result"
    }
   ],
   "source": [
    "x"
   ]
  },
  {
   "cell_type": "code",
   "execution_count": 72,
   "id": "47278ff7",
   "metadata": {},
   "outputs": [
    {
     "data": {
      "text/plain": [
       "0      95\n",
       "1      83\n",
       "2      81\n",
       "3      76\n",
       "4      74\n",
       "6      87\n",
       "7      81\n",
       "8      80\n",
       "9      78\n",
       "10     88\n",
       "11     86\n",
       "12     85\n",
       "13     76\n",
       "14     68\n",
       "15    100\n",
       "16     98\n",
       "17     97\n",
       "18     68\n",
       "19     64\n",
       "20     90\n",
       "21     83\n",
       "22     71\n",
       "23     67\n",
       "24     63\n",
       "25     92\n",
       "26     84\n",
       "27     79\n",
       "28     74\n",
       "29     68\n",
       "Name: W, dtype: int64"
      ]
     },
     "execution_count": 72,
     "metadata": {},
     "output_type": "execute_result"
    }
   ],
   "source": [
    "y"
   ]
  },
  {
   "cell_type": "code",
   "execution_count": 73,
   "id": "8df798c6",
   "metadata": {},
   "outputs": [
    {
     "name": "stdout",
     "output_type": "stream",
     "text": [
      "(29, 15)\n",
      "(29,)\n"
     ]
    }
   ],
   "source": [
    "print(x.shape)\n",
    "print(y.shape)"
   ]
  },
  {
   "cell_type": "markdown",
   "id": "f204f864",
   "metadata": {},
   "source": [
    "Find multicolinearity by VIF score"
   ]
  },
  {
   "cell_type": "code",
   "execution_count": 74,
   "id": "1325cd84",
   "metadata": {},
   "outputs": [],
   "source": [
    "from statsmodels.stats.outliers_influence import variance_inflation_factor\n",
    "#define a function to calculate VIF score\n",
    "def vif_clac():\n",
    "    vif=pd.DataFrame()\n",
    "    vif[\"VIF Factor\"]=[variance_inflation_factor(x.values,i) for i in range(x.shape[1])]\n",
    "    vif[\"features\"]=x.columns\n",
    "    print(vif)"
   ]
  },
  {
   "cell_type": "code",
   "execution_count": 75,
   "id": "0df75af7",
   "metadata": {},
   "outputs": [
    {
     "name": "stdout",
     "output_type": "stream",
     "text": [
      "      VIF Factor features\n",
      "0    1393.346194        R\n",
      "1    4080.203673       AB\n",
      "2    3813.243517        H\n",
      "3     874.292959       2B\n",
      "4      35.178573       3B\n",
      "5     232.579584       HR\n",
      "6     242.702200       BB\n",
      "7     396.602469       SO\n",
      "8      28.312980       SB\n",
      "9   17175.770015       RA\n",
      "10  50264.420028       ER\n",
      "11  21163.630677      ERA\n",
      "12      6.129661       CG\n",
      "13     30.168523      SHO\n",
      "14    115.463557       SV\n"
     ]
    }
   ],
   "source": [
    "#checking VIF score\n",
    "vif_clac()"
   ]
  },
  {
   "cell_type": "code",
   "execution_count": 76,
   "id": "1e6fb4db",
   "metadata": {},
   "outputs": [],
   "source": [
    "#drop 'ER' column\n",
    "x=x.drop([\"ER\"],axis=1)"
   ]
  },
  {
   "cell_type": "code",
   "execution_count": 77,
   "id": "f812b18c",
   "metadata": {},
   "outputs": [
    {
     "data": {
      "text/html": [
       "<div>\n",
       "<style scoped>\n",
       "    .dataframe tbody tr th:only-of-type {\n",
       "        vertical-align: middle;\n",
       "    }\n",
       "\n",
       "    .dataframe tbody tr th {\n",
       "        vertical-align: top;\n",
       "    }\n",
       "\n",
       "    .dataframe thead th {\n",
       "        text-align: right;\n",
       "    }\n",
       "</style>\n",
       "<table border=\"1\" class=\"dataframe\">\n",
       "  <thead>\n",
       "    <tr style=\"text-align: right;\">\n",
       "      <th></th>\n",
       "      <th>R</th>\n",
       "      <th>AB</th>\n",
       "      <th>H</th>\n",
       "      <th>2B</th>\n",
       "      <th>3B</th>\n",
       "      <th>HR</th>\n",
       "      <th>BB</th>\n",
       "      <th>SO</th>\n",
       "      <th>SB</th>\n",
       "      <th>RA</th>\n",
       "      <th>ERA</th>\n",
       "      <th>CG</th>\n",
       "      <th>SHO</th>\n",
       "      <th>SV</th>\n",
       "    </tr>\n",
       "  </thead>\n",
       "  <tbody>\n",
       "    <tr>\n",
       "      <th>0</th>\n",
       "      <td>724</td>\n",
       "      <td>5575</td>\n",
       "      <td>1497</td>\n",
       "      <td>300</td>\n",
       "      <td>42</td>\n",
       "      <td>139</td>\n",
       "      <td>383</td>\n",
       "      <td>973</td>\n",
       "      <td>104</td>\n",
       "      <td>641</td>\n",
       "      <td>3.73</td>\n",
       "      <td>2</td>\n",
       "      <td>8</td>\n",
       "      <td>56</td>\n",
       "    </tr>\n",
       "    <tr>\n",
       "      <th>1</th>\n",
       "      <td>696</td>\n",
       "      <td>5467</td>\n",
       "      <td>1349</td>\n",
       "      <td>277</td>\n",
       "      <td>44</td>\n",
       "      <td>156</td>\n",
       "      <td>439</td>\n",
       "      <td>1264</td>\n",
       "      <td>70</td>\n",
       "      <td>700</td>\n",
       "      <td>4.07</td>\n",
       "      <td>2</td>\n",
       "      <td>12</td>\n",
       "      <td>45</td>\n",
       "    </tr>\n",
       "    <tr>\n",
       "      <th>2</th>\n",
       "      <td>669</td>\n",
       "      <td>5439</td>\n",
       "      <td>1395</td>\n",
       "      <td>303</td>\n",
       "      <td>29</td>\n",
       "      <td>141</td>\n",
       "      <td>533</td>\n",
       "      <td>1157</td>\n",
       "      <td>86</td>\n",
       "      <td>640</td>\n",
       "      <td>3.67</td>\n",
       "      <td>11</td>\n",
       "      <td>10</td>\n",
       "      <td>38</td>\n",
       "    </tr>\n",
       "    <tr>\n",
       "      <th>3</th>\n",
       "      <td>622</td>\n",
       "      <td>5533</td>\n",
       "      <td>1381</td>\n",
       "      <td>260</td>\n",
       "      <td>27</td>\n",
       "      <td>136</td>\n",
       "      <td>404</td>\n",
       "      <td>1231</td>\n",
       "      <td>68</td>\n",
       "      <td>701</td>\n",
       "      <td>3.98</td>\n",
       "      <td>7</td>\n",
       "      <td>9</td>\n",
       "      <td>37</td>\n",
       "    </tr>\n",
       "    <tr>\n",
       "      <th>4</th>\n",
       "      <td>689</td>\n",
       "      <td>5605</td>\n",
       "      <td>1515</td>\n",
       "      <td>289</td>\n",
       "      <td>49</td>\n",
       "      <td>151</td>\n",
       "      <td>455</td>\n",
       "      <td>1259</td>\n",
       "      <td>83</td>\n",
       "      <td>803</td>\n",
       "      <td>4.64</td>\n",
       "      <td>7</td>\n",
       "      <td>12</td>\n",
       "      <td>35</td>\n",
       "    </tr>\n",
       "  </tbody>\n",
       "</table>\n",
       "</div>"
      ],
      "text/plain": [
       "     R    AB     H   2B  3B   HR   BB    SO   SB   RA   ERA  CG  SHO  SV\n",
       "0  724  5575  1497  300  42  139  383   973  104  641  3.73   2    8  56\n",
       "1  696  5467  1349  277  44  156  439  1264   70  700  4.07   2   12  45\n",
       "2  669  5439  1395  303  29  141  533  1157   86  640  3.67  11   10  38\n",
       "3  622  5533  1381  260  27  136  404  1231   68  701  3.98   7    9  37\n",
       "4  689  5605  1515  289  49  151  455  1259   83  803  4.64   7   12  35"
      ]
     },
     "execution_count": 77,
     "metadata": {},
     "output_type": "execute_result"
    }
   ],
   "source": [
    "x.head()"
   ]
  },
  {
   "cell_type": "code",
   "execution_count": 78,
   "id": "1aa9f5b9",
   "metadata": {},
   "outputs": [
    {
     "name": "stdout",
     "output_type": "stream",
     "text": [
      "     VIF Factor features\n",
      "0   1274.739955        R\n",
      "1   3636.747210       AB\n",
      "2   3246.980120        H\n",
      "3    872.000859       2B\n",
      "4     34.310693       3B\n",
      "5    164.984544       HR\n",
      "6    240.000086       BB\n",
      "7    354.033846       SO\n",
      "8     26.395537       SB\n",
      "9   6849.970135       RA\n",
      "10  5552.209460      ERA\n",
      "11     6.129380       CG\n",
      "12    29.261626      SHO\n",
      "13    97.005044       SV\n"
     ]
    }
   ],
   "source": [
    "#checking VIF score\n",
    "vif_clac()"
   ]
  },
  {
   "cell_type": "code",
   "execution_count": 79,
   "id": "779e13d5",
   "metadata": {},
   "outputs": [],
   "source": [
    "#drop \"RA\" column\n",
    "x=x.drop([\"RA\"],axis=1)"
   ]
  },
  {
   "cell_type": "code",
   "execution_count": 80,
   "id": "0d79caf2",
   "metadata": {},
   "outputs": [
    {
     "data": {
      "text/html": [
       "<div>\n",
       "<style scoped>\n",
       "    .dataframe tbody tr th:only-of-type {\n",
       "        vertical-align: middle;\n",
       "    }\n",
       "\n",
       "    .dataframe tbody tr th {\n",
       "        vertical-align: top;\n",
       "    }\n",
       "\n",
       "    .dataframe thead th {\n",
       "        text-align: right;\n",
       "    }\n",
       "</style>\n",
       "<table border=\"1\" class=\"dataframe\">\n",
       "  <thead>\n",
       "    <tr style=\"text-align: right;\">\n",
       "      <th></th>\n",
       "      <th>R</th>\n",
       "      <th>AB</th>\n",
       "      <th>H</th>\n",
       "      <th>2B</th>\n",
       "      <th>3B</th>\n",
       "      <th>HR</th>\n",
       "      <th>BB</th>\n",
       "      <th>SO</th>\n",
       "      <th>SB</th>\n",
       "      <th>ERA</th>\n",
       "      <th>CG</th>\n",
       "      <th>SHO</th>\n",
       "      <th>SV</th>\n",
       "    </tr>\n",
       "  </thead>\n",
       "  <tbody>\n",
       "    <tr>\n",
       "      <th>0</th>\n",
       "      <td>724</td>\n",
       "      <td>5575</td>\n",
       "      <td>1497</td>\n",
       "      <td>300</td>\n",
       "      <td>42</td>\n",
       "      <td>139</td>\n",
       "      <td>383</td>\n",
       "      <td>973</td>\n",
       "      <td>104</td>\n",
       "      <td>3.73</td>\n",
       "      <td>2</td>\n",
       "      <td>8</td>\n",
       "      <td>56</td>\n",
       "    </tr>\n",
       "    <tr>\n",
       "      <th>1</th>\n",
       "      <td>696</td>\n",
       "      <td>5467</td>\n",
       "      <td>1349</td>\n",
       "      <td>277</td>\n",
       "      <td>44</td>\n",
       "      <td>156</td>\n",
       "      <td>439</td>\n",
       "      <td>1264</td>\n",
       "      <td>70</td>\n",
       "      <td>4.07</td>\n",
       "      <td>2</td>\n",
       "      <td>12</td>\n",
       "      <td>45</td>\n",
       "    </tr>\n",
       "    <tr>\n",
       "      <th>2</th>\n",
       "      <td>669</td>\n",
       "      <td>5439</td>\n",
       "      <td>1395</td>\n",
       "      <td>303</td>\n",
       "      <td>29</td>\n",
       "      <td>141</td>\n",
       "      <td>533</td>\n",
       "      <td>1157</td>\n",
       "      <td>86</td>\n",
       "      <td>3.67</td>\n",
       "      <td>11</td>\n",
       "      <td>10</td>\n",
       "      <td>38</td>\n",
       "    </tr>\n",
       "    <tr>\n",
       "      <th>3</th>\n",
       "      <td>622</td>\n",
       "      <td>5533</td>\n",
       "      <td>1381</td>\n",
       "      <td>260</td>\n",
       "      <td>27</td>\n",
       "      <td>136</td>\n",
       "      <td>404</td>\n",
       "      <td>1231</td>\n",
       "      <td>68</td>\n",
       "      <td>3.98</td>\n",
       "      <td>7</td>\n",
       "      <td>9</td>\n",
       "      <td>37</td>\n",
       "    </tr>\n",
       "    <tr>\n",
       "      <th>4</th>\n",
       "      <td>689</td>\n",
       "      <td>5605</td>\n",
       "      <td>1515</td>\n",
       "      <td>289</td>\n",
       "      <td>49</td>\n",
       "      <td>151</td>\n",
       "      <td>455</td>\n",
       "      <td>1259</td>\n",
       "      <td>83</td>\n",
       "      <td>4.64</td>\n",
       "      <td>7</td>\n",
       "      <td>12</td>\n",
       "      <td>35</td>\n",
       "    </tr>\n",
       "  </tbody>\n",
       "</table>\n",
       "</div>"
      ],
      "text/plain": [
       "     R    AB     H   2B  3B   HR   BB    SO   SB   ERA  CG  SHO  SV\n",
       "0  724  5575  1497  300  42  139  383   973  104  3.73   2    8  56\n",
       "1  696  5467  1349  277  44  156  439  1264   70  4.07   2   12  45\n",
       "2  669  5439  1395  303  29  141  533  1157   86  3.67  11   10  38\n",
       "3  622  5533  1381  260  27  136  404  1231   68  3.98   7    9  37\n",
       "4  689  5605  1515  289  49  151  455  1259   83  4.64   7   12  35"
      ]
     },
     "execution_count": 80,
     "metadata": {},
     "output_type": "execute_result"
    }
   ],
   "source": [
    "x.head()"
   ]
  },
  {
   "cell_type": "code",
   "execution_count": 81,
   "id": "c8da7113",
   "metadata": {},
   "outputs": [
    {
     "name": "stdout",
     "output_type": "stream",
     "text": [
      "     VIF Factor features\n",
      "0   1272.922992        R\n",
      "1   3545.382533       AB\n",
      "2   3193.190841        H\n",
      "3    838.799583       2B\n",
      "4     34.259413       3B\n",
      "5    146.472146       HR\n",
      "6    223.049245       BB\n",
      "7    297.073923       SO\n",
      "8     26.046379       SB\n",
      "9    356.748326      ERA\n",
      "10     5.832640       CG\n",
      "11    26.911460      SHO\n",
      "12    85.487592       SV\n"
     ]
    }
   ],
   "source": [
    "#checking VIF score\n",
    "vif_clac()"
   ]
  },
  {
   "cell_type": "code",
   "execution_count": 82,
   "id": "aa4d559f",
   "metadata": {},
   "outputs": [],
   "source": [
    "#drop \"RA\" column\n",
    "x=x.drop([\"AB\"],axis=1)"
   ]
  },
  {
   "cell_type": "code",
   "execution_count": 83,
   "id": "b8009e57",
   "metadata": {},
   "outputs": [
    {
     "data": {
      "text/html": [
       "<div>\n",
       "<style scoped>\n",
       "    .dataframe tbody tr th:only-of-type {\n",
       "        vertical-align: middle;\n",
       "    }\n",
       "\n",
       "    .dataframe tbody tr th {\n",
       "        vertical-align: top;\n",
       "    }\n",
       "\n",
       "    .dataframe thead th {\n",
       "        text-align: right;\n",
       "    }\n",
       "</style>\n",
       "<table border=\"1\" class=\"dataframe\">\n",
       "  <thead>\n",
       "    <tr style=\"text-align: right;\">\n",
       "      <th></th>\n",
       "      <th>R</th>\n",
       "      <th>H</th>\n",
       "      <th>2B</th>\n",
       "      <th>3B</th>\n",
       "      <th>HR</th>\n",
       "      <th>BB</th>\n",
       "      <th>SO</th>\n",
       "      <th>SB</th>\n",
       "      <th>ERA</th>\n",
       "      <th>CG</th>\n",
       "      <th>SHO</th>\n",
       "      <th>SV</th>\n",
       "    </tr>\n",
       "  </thead>\n",
       "  <tbody>\n",
       "    <tr>\n",
       "      <th>0</th>\n",
       "      <td>724</td>\n",
       "      <td>1497</td>\n",
       "      <td>300</td>\n",
       "      <td>42</td>\n",
       "      <td>139</td>\n",
       "      <td>383</td>\n",
       "      <td>973</td>\n",
       "      <td>104</td>\n",
       "      <td>3.73</td>\n",
       "      <td>2</td>\n",
       "      <td>8</td>\n",
       "      <td>56</td>\n",
       "    </tr>\n",
       "    <tr>\n",
       "      <th>1</th>\n",
       "      <td>696</td>\n",
       "      <td>1349</td>\n",
       "      <td>277</td>\n",
       "      <td>44</td>\n",
       "      <td>156</td>\n",
       "      <td>439</td>\n",
       "      <td>1264</td>\n",
       "      <td>70</td>\n",
       "      <td>4.07</td>\n",
       "      <td>2</td>\n",
       "      <td>12</td>\n",
       "      <td>45</td>\n",
       "    </tr>\n",
       "    <tr>\n",
       "      <th>2</th>\n",
       "      <td>669</td>\n",
       "      <td>1395</td>\n",
       "      <td>303</td>\n",
       "      <td>29</td>\n",
       "      <td>141</td>\n",
       "      <td>533</td>\n",
       "      <td>1157</td>\n",
       "      <td>86</td>\n",
       "      <td>3.67</td>\n",
       "      <td>11</td>\n",
       "      <td>10</td>\n",
       "      <td>38</td>\n",
       "    </tr>\n",
       "    <tr>\n",
       "      <th>3</th>\n",
       "      <td>622</td>\n",
       "      <td>1381</td>\n",
       "      <td>260</td>\n",
       "      <td>27</td>\n",
       "      <td>136</td>\n",
       "      <td>404</td>\n",
       "      <td>1231</td>\n",
       "      <td>68</td>\n",
       "      <td>3.98</td>\n",
       "      <td>7</td>\n",
       "      <td>9</td>\n",
       "      <td>37</td>\n",
       "    </tr>\n",
       "    <tr>\n",
       "      <th>4</th>\n",
       "      <td>689</td>\n",
       "      <td>1515</td>\n",
       "      <td>289</td>\n",
       "      <td>49</td>\n",
       "      <td>151</td>\n",
       "      <td>455</td>\n",
       "      <td>1259</td>\n",
       "      <td>83</td>\n",
       "      <td>4.64</td>\n",
       "      <td>7</td>\n",
       "      <td>12</td>\n",
       "      <td>35</td>\n",
       "    </tr>\n",
       "  </tbody>\n",
       "</table>\n",
       "</div>"
      ],
      "text/plain": [
       "     R     H   2B  3B   HR   BB    SO   SB   ERA  CG  SHO  SV\n",
       "0  724  1497  300  42  139  383   973  104  3.73   2    8  56\n",
       "1  696  1349  277  44  156  439  1264   70  4.07   2   12  45\n",
       "2  669  1395  303  29  141  533  1157   86  3.67  11   10  38\n",
       "3  622  1381  260  27  136  404  1231   68  3.98   7    9  37\n",
       "4  689  1515  289  49  151  455  1259   83  4.64   7   12  35"
      ]
     },
     "execution_count": 83,
     "metadata": {},
     "output_type": "execute_result"
    }
   ],
   "source": [
    "x.head()"
   ]
  },
  {
   "cell_type": "code",
   "execution_count": 84,
   "id": "1a28db15",
   "metadata": {},
   "outputs": [
    {
     "name": "stdout",
     "output_type": "stream",
     "text": [
      "     VIF Factor features\n",
      "0   1260.137771        R\n",
      "1   1734.529401        H\n",
      "2    780.488157       2B\n",
      "3     31.659458       3B\n",
      "4    146.442950       HR\n",
      "5    213.851322       BB\n",
      "6    235.806525       SO\n",
      "7     25.698521       SB\n",
      "8    300.408772      ERA\n",
      "9      5.333673       CG\n",
      "10    25.975883      SHO\n",
      "11    85.104996       SV\n"
     ]
    }
   ],
   "source": [
    "#checking VIF score\n",
    "vif_clac()"
   ]
  },
  {
   "cell_type": "markdown",
   "id": "d7355ef1",
   "metadata": {},
   "source": [
    "Transforming data to remove skewness"
   ]
  },
  {
   "cell_type": "code",
   "execution_count": 85,
   "id": "6b1a6949",
   "metadata": {},
   "outputs": [
    {
     "data": {
      "text/plain": [
       "array([[ 9.62543504e-01,  0.00000000e+00,  1.68518793e+00,\n",
       "         1.00615029e+00, -7.41927000e-01, -1.60519802e+00,\n",
       "        -2.55061247e+00,  9.36131648e-01, -5.09292146e-01,\n",
       "        -3.07098204e-01, -7.87002186e-01,  1.53275292e+00],\n",
       "       [ 2.98863300e-01,  0.00000000e+00,  1.38197902e-01,\n",
       "         1.18522654e+00, -1.09958425e-01, -4.62095966e-01,\n",
       "         9.36832915e-02, -5.16377335e-01,  2.41440214e-01,\n",
       "        -3.07098204e-01,  2.36736538e-01,  3.12020186e-01],\n",
       "       [-3.12105130e-01,  0.00000000e+00,  1.90738550e+00,\n",
       "        -2.28819392e-01, -6.64354121e-01,  1.23209786e+00,\n",
       "        -9.35611465e-01,  2.25038365e-01, -6.42097599e-01,\n",
       "         2.01131531e+00, -2.52844176e-01, -6.64136739e-01],\n",
       "       [-1.30829774e+00,  0.00000000e+00, -8.37664770e-01,\n",
       "        -4.32227907e-01, -8.60039342e-01, -1.16272085e+00,\n",
       "        -2.30682707e-01, -6.18421529e-01,  4.30132461e-02,\n",
       "         1.26446344e+00, -5.13554932e-01, -8.20688859e-01],\n",
       "       [ 1.37737301e-01,  0.00000000e+00,  9.11434794e-01,\n",
       "         1.62263592e+00, -2.89646675e-01, -1.55685826e-01,\n",
       "         4.41433307e-02,  9.50377681e-02,  1.49349103e+00,\n",
       "         1.26446344e+00,  2.36736538e-01, -1.14916472e+00],\n",
       "       [ 1.96420873e+00,  0.00000000e+00, -1.63010220e-01,\n",
       "        -1.29582738e+00,  1.63163749e+00,  1.57949358e+00,\n",
       "        -2.69582692e-01, -8.84525554e-01,  1.53276229e-01,\n",
       "         1.21870592e-01, -2.06403920e+00,  6.77176215e-01],\n",
       "       [ 6.98145564e-01,  0.00000000e+00, -1.54263548e+00,\n",
       "        -1.18275843e+00,  1.76773356e+00, -8.77216697e-01,\n",
       "         7.70980104e-01, -2.08284252e+00,  1.97363352e-01,\n",
       "        -1.73289617e+00, -2.52844176e-01,  5.23253489e-02],\n",
       "       [-8.52595277e-01,  0.00000000e+00,  1.99896614e-01,\n",
       "         6.87034881e-02,  2.69125303e-01, -5.20475583e-01,\n",
       "         5.56007529e-01,  2.67558365e-01, -4.87167563e-01,\n",
       "        -8.70681710e-01,  2.36736538e-01,  1.90813725e+00],\n",
       "       [ 1.55595108e+00,  0.00000000e+00,  1.25525640e+00,\n",
       "         1.66016920e-01,  6.50138601e-02,  2.70943885e-01,\n",
       "        -1.01920973e+00, -4.66233050e-01,  7.69577491e-01,\n",
       "         1.21870592e-01, -2.52844176e-01, -3.65006331e-01],\n",
       "       [ 1.63172674e+00,  0.00000000e+00,  2.62085981e-01,\n",
       "         6.87034881e-02,  4.34619901e-01,  7.17575787e-01,\n",
       "        -2.11198815e-01,  8.24915052e-01,  6.15685236e-01,\n",
       "         7.70648979e-01, -5.13554932e-01,  3.12020186e-01],\n",
       "       [ 1.08429715e+00,  0.00000000e+00,  1.99896614e-01,\n",
       "        -5.35589865e-01,  2.10976140e+00,  4.15731318e-01,\n",
       "         1.40920289e+00,  1.52141342e+00, -8.63663642e-01,\n",
       "         7.70648979e-01,  4.68029391e-01, -5.12328248e-01],\n",
       "       [-4.87692420e-01,  0.00000000e+00, -1.68270914e+00,\n",
       "        -1.07132315e+00,  5.64164281e-01, -5.40002291e-01,\n",
       "        -1.00067264e+00, -1.53576005e+00, -4.52439677e-02,\n",
       "        -3.07098204e-01,  2.36736538e-01,  4.36837705e-01],\n",
       "       [-5.96175935e-01,  0.00000000e+00, -7.29846682e-01,\n",
       "        -9.61425202e-01,  1.23584791e+00,  2.70943885e-01,\n",
       "         8.22523572e-01, -5.67101779e-01,  4.39660260e-01,\n",
       "         1.03166276e+00,  2.36736538e-01,  3.12020186e-01],\n",
       "       [ 2.52632115e-01,  0.00000000e+00,  1.38197902e-01,\n",
       "         1.36188686e+00, -4.74339591e-01,  2.16180612e-01,\n",
       "        -1.28540143e+00, -1.30311671e-01,  3.95629046e-01,\n",
       "         7.70648979e-01,  9.08147185e-01, -2.49883997e+00],\n",
       "       [-7.89011402e-01,  0.00000000e+00,  8.44221534e-01,\n",
       "         7.32678154e-01, -8.20430695e-01,  7.70046367e-01,\n",
       "         1.23474558e-01, -5.67101779e-01, -2.26637599e+00,\n",
       "        -8.70681710e-01,  9.08147185e-01,  2.08491727e+00],\n",
       "       [ 3.22037487e-01,  0.00000000e+00,  1.11616810e+00,\n",
       "        -4.32227907e-01, -7.03025726e-01, -4.28617534e-02,\n",
       "         6.78550021e-01,  7.10994061e-01, -1.66371188e+00,\n",
       "        -1.73289617e+00,  4.68029391e-01,  1.33300631e+00],\n",
       "       [ 1.37737301e-01,  0.00000000e+00, -1.63010220e-01,\n",
       "        -1.28676161e-01,  4.01843420e-01,  1.78963187e+00,\n",
       "         2.79148702e+00,  5.94217890e-01, -1.32988858e+00,\n",
       "         1.03166276e+00,  2.09085582e+00,  6.77176215e-01],\n",
       "       [-6.17756609e-01,  0.00000000e+00, -4.39755655e-02,\n",
       "         2.62459743e-01, -5.11906087e-01, -9.98685266e-01,\n",
       "         4.44378919e-01,  1.38786720e-01,  7.03638359e-01,\n",
       "        -8.70681710e-01, -1.07533963e+00, -3.65006331e-01],\n",
       "       [-9.36834306e-01,  0.00000000e+00, -9.96002506e-01,\n",
       "        -4.32227907e-01,  2.69125303e-01,  5.94226550e-01,\n",
       "         4.61238853e-03,  1.92552808e+00,  8.13524742e-01,\n",
       "        -3.07098204e-01, -7.87002186e-01, -1.14916472e+00],\n",
       "       [ 1.15032665e-03,  0.00000000e+00,  1.32558682e+00,\n",
       "        -1.52730964e+00,  5.96168091e-01,  4.51648972e-01,\n",
       "         3.53547035e-01, -1.60029335e+00, -1.17433666e+00,\n",
       "        -8.70681710e-01,  6.91582693e-01,  9.06023678e-01],\n",
       "       [ 4.61903563e-01,  0.00000000e+00, -5.64688157e-01,\n",
       "        -2.01564882e+00,  5.96168091e-01,  1.33238489e+00,\n",
       "         9.05280039e-01, -1.22726215e+00, -7.52845387e-01,\n",
       "         4.72300348e-01,  4.68029391e-01, -2.21933710e-01],\n",
       "       [-1.48937178e+00,  0.00000000e+00, -1.99504220e+00,\n",
       "         8.24510284e-01, -1.52911231e+00, -1.77854272e+00,\n",
       "        -1.00067264e+00,  1.22050964e+00,  1.31228806e-01,\n",
       "        -1.73289617e+00,  2.36736538e-01, -1.14916472e+00],\n",
       "       [-2.25681725e+00,  0.00000000e+00, -1.30068346e+00,\n",
       "        -1.41063754e+00, -2.47829793e+00,  1.42758514e-01,\n",
       "        -1.39412379e+00, -5.67101779e-01,  9.89217220e-01,\n",
       "         1.21870592e-01, -2.52844176e-01,  1.83903886e-01],\n",
       "       [-1.22682499e+00,  0.00000000e+00, -1.63010220e-01,\n",
       "         5.46877831e-01, -1.10289298e+00, -1.51954034e+00,\n",
       "         1.93183556e-01,  3.09685564e-01,  1.60295419e+00,\n",
       "        -8.70681710e-01, -1.07533963e+00, -1.14916472e+00],\n",
       "       [-3.56234524e-01,  0.00000000e+00, -6.75253462e-01,\n",
       "        -5.35589865e-01,  9.08214214e-01,  1.72536184e+00,\n",
       "         3.42521724e-02, -1.10992538e+00, -1.15212680e+00,\n",
       "         1.03166276e+00,  2.09085582e+00,  5.58508906e-01],\n",
       "       [ 2.98863300e-01,  0.00000000e+00,  8.44221534e-01,\n",
       "         7.32678154e-01, -8.60039342e-01, -1.17954659e-01,\n",
       "        -9.16970789e-01,  5.14700397e-01, -5.31419479e-01,\n",
       "         1.26446344e+00,  1.52182832e+00, -2.21933710e-01],\n",
       "       [ 8.65848732e-01,  0.00000000e+00,  9.11434794e-01,\n",
       "         1.53626470e+00, -1.81252234e-01,  4.87456542e-01,\n",
       "         5.76375836e-01,  1.86548585e+00,  1.75321075e-01,\n",
       "        -8.70681710e-01,  2.36736538e-01,  1.83903886e-01],\n",
       "       [-7.25080407e-01,  0.00000000e+00, -8.37664770e-01,\n",
       "         4.52860860e-01, -3.99842255e-01, -7.17272959e-01,\n",
       "         7.29844768e-01,  5.08613716e-02,  2.85506859e-01,\n",
       "        -8.70681710e-01, -1.38141238e+00, -2.21933710e-01],\n",
       "       [ 1.28115156e+00,  0.00000000e+00, -4.39755655e-02,\n",
       "         1.62263592e+00,  8.77641898e-01, -1.49822954e+00,\n",
       "         2.83212126e-01,  6.72393731e-01,  2.36764236e+00,\n",
       "         4.72300348e-01, -2.06403920e+00, -9.82263658e-01]])"
      ]
     },
     "execution_count": 85,
     "metadata": {},
     "output_type": "execute_result"
    }
   ],
   "source": [
    "from sklearn.preprocessing import power_transform\n",
    "x=power_transform(x,method='yeo-johnson')\n",
    "x"
   ]
  },
  {
   "cell_type": "code",
   "execution_count": 86,
   "id": "e364900a",
   "metadata": {},
   "outputs": [
    {
     "data": {
      "text/plain": [
       "0    -0.024842\n",
       "1     0.000000\n",
       "2    -0.052793\n",
       "3    -0.075139\n",
       "4     0.000448\n",
       "5    -0.008572\n",
       "6     0.051530\n",
       "7    -0.009570\n",
       "8    -0.000401\n",
       "9    -0.045947\n",
       "10    0.000529\n",
       "11   -0.000925\n",
       "dtype: float64"
      ]
     },
     "execution_count": 86,
     "metadata": {},
     "output_type": "execute_result"
    }
   ],
   "source": [
    "#print skewness after power transform\n",
    "df_new=pd.DataFrame(x)\n",
    "df_new.skew()"
   ]
  },
  {
   "cell_type": "markdown",
   "id": "957fc750",
   "metadata": {},
   "source": [
    "The data is preprocessed and the data is ready fo training process"
   ]
  },
  {
   "cell_type": "code",
   "execution_count": 87,
   "id": "a739f0ff",
   "metadata": {},
   "outputs": [],
   "source": [
    "from sklearn.metrics import accuracy_score,classification_report, confusion_matrix\n",
    "from sklearn.model_selection import train_test_split, GridSearchCV, cross_val_score\n",
    "import warnings\n",
    "warnings.filterwarnings('ignore')"
   ]
  },
  {
   "cell_type": "code",
   "execution_count": 88,
   "id": "cc0a5e80",
   "metadata": {},
   "outputs": [
    {
     "name": "stdout",
     "output_type": "stream",
     "text": [
      "lm.score= 0.9925091780283235 at random state= 28\n"
     ]
    }
   ],
   "source": [
    "from sklearn.linear_model import LinearRegression \n",
    "lm=LinearRegression()\n",
    "m=0\n",
    "for i in range (0,29):\n",
    "    train_x,test_x,train_y,test_y=train_test_split(x,y,test_size=.35,random_state=i)\n",
    "    lm.fit(train_x,train_y)\n",
    "    p=lm.score(train_x,train_y)\n",
    "    if p>m:\n",
    "        m=p\n",
    "        n=i\n",
    "print('lm.score=',m,'at random state=',n)"
   ]
  },
  {
   "cell_type": "markdown",
   "id": "aa67e1f8",
   "metadata": {},
   "source": [
    "we find the best random state state at 28.we will creat our train_test_split using this random state"
   ]
  },
  {
   "cell_type": "code",
   "execution_count": 89,
   "id": "c312fe4e",
   "metadata": {},
   "outputs": [],
   "source": [
    "train_x,test_x,train_y,test_y=train_test_split(x,y,test_size=.35,random_state=28)"
   ]
  },
  {
   "cell_type": "code",
   "execution_count": 90,
   "id": "69ab4ce5",
   "metadata": {},
   "outputs": [
    {
     "data": {
      "text/plain": [
       "array([[-7.89011402e-01,  0.00000000e+00,  8.44221534e-01,\n",
       "         7.32678154e-01, -8.20430695e-01,  7.70046367e-01,\n",
       "         1.23474558e-01, -5.67101779e-01, -2.26637599e+00,\n",
       "        -8.70681710e-01,  9.08147185e-01,  2.08491727e+00],\n",
       "       [-4.87692420e-01,  0.00000000e+00, -1.68270914e+00,\n",
       "        -1.07132315e+00,  5.64164281e-01, -5.40002291e-01,\n",
       "        -1.00067264e+00, -1.53576005e+00, -4.52439677e-02,\n",
       "        -3.07098204e-01,  2.36736538e-01,  4.36837705e-01],\n",
       "       [-3.12105130e-01,  0.00000000e+00,  1.90738550e+00,\n",
       "        -2.28819392e-01, -6.64354121e-01,  1.23209786e+00,\n",
       "        -9.35611465e-01,  2.25038365e-01, -6.42097599e-01,\n",
       "         2.01131531e+00, -2.52844176e-01, -6.64136739e-01],\n",
       "       [ 3.22037487e-01,  0.00000000e+00,  1.11616810e+00,\n",
       "        -4.32227907e-01, -7.03025726e-01, -4.28617534e-02,\n",
       "         6.78550021e-01,  7.10994061e-01, -1.66371188e+00,\n",
       "        -1.73289617e+00,  4.68029391e-01,  1.33300631e+00],\n",
       "       [ 1.55595108e+00,  0.00000000e+00,  1.25525640e+00,\n",
       "         1.66016920e-01,  6.50138601e-02,  2.70943885e-01,\n",
       "        -1.01920973e+00, -4.66233050e-01,  7.69577491e-01,\n",
       "         1.21870592e-01, -2.52844176e-01, -3.65006331e-01],\n",
       "       [ 8.65848732e-01,  0.00000000e+00,  9.11434794e-01,\n",
       "         1.53626470e+00, -1.81252234e-01,  4.87456542e-01,\n",
       "         5.76375836e-01,  1.86548585e+00,  1.75321075e-01,\n",
       "        -8.70681710e-01,  2.36736538e-01,  1.83903886e-01],\n",
       "       [-9.36834306e-01,  0.00000000e+00, -9.96002506e-01,\n",
       "        -4.32227907e-01,  2.69125303e-01,  5.94226550e-01,\n",
       "         4.61238853e-03,  1.92552808e+00,  8.13524742e-01,\n",
       "        -3.07098204e-01, -7.87002186e-01, -1.14916472e+00],\n",
       "       [-1.48937178e+00,  0.00000000e+00, -1.99504220e+00,\n",
       "         8.24510284e-01, -1.52911231e+00, -1.77854272e+00,\n",
       "        -1.00067264e+00,  1.22050964e+00,  1.31228806e-01,\n",
       "        -1.73289617e+00,  2.36736538e-01, -1.14916472e+00],\n",
       "       [ 1.15032665e-03,  0.00000000e+00,  1.32558682e+00,\n",
       "        -1.52730964e+00,  5.96168091e-01,  4.51648972e-01,\n",
       "         3.53547035e-01, -1.60029335e+00, -1.17433666e+00,\n",
       "        -8.70681710e-01,  6.91582693e-01,  9.06023678e-01],\n",
       "       [-1.22682499e+00,  0.00000000e+00, -1.63010220e-01,\n",
       "         5.46877831e-01, -1.10289298e+00, -1.51954034e+00,\n",
       "         1.93183556e-01,  3.09685564e-01,  1.60295419e+00,\n",
       "        -8.70681710e-01, -1.07533963e+00, -1.14916472e+00],\n",
       "       [-5.96175935e-01,  0.00000000e+00, -7.29846682e-01,\n",
       "        -9.61425202e-01,  1.23584791e+00,  2.70943885e-01,\n",
       "         8.22523572e-01, -5.67101779e-01,  4.39660260e-01,\n",
       "         1.03166276e+00,  2.36736538e-01,  3.12020186e-01],\n",
       "       [-1.30829774e+00,  0.00000000e+00, -8.37664770e-01,\n",
       "        -4.32227907e-01, -8.60039342e-01, -1.16272085e+00,\n",
       "        -2.30682707e-01, -6.18421529e-01,  4.30132461e-02,\n",
       "         1.26446344e+00, -5.13554932e-01, -8.20688859e-01],\n",
       "       [ 9.62543504e-01,  0.00000000e+00,  1.68518793e+00,\n",
       "         1.00615029e+00, -7.41927000e-01, -1.60519802e+00,\n",
       "        -2.55061247e+00,  9.36131648e-01, -5.09292146e-01,\n",
       "        -3.07098204e-01, -7.87002186e-01,  1.53275292e+00],\n",
       "       [ 4.61903563e-01,  0.00000000e+00, -5.64688157e-01,\n",
       "        -2.01564882e+00,  5.96168091e-01,  1.33238489e+00,\n",
       "         9.05280039e-01, -1.22726215e+00, -7.52845387e-01,\n",
       "         4.72300348e-01,  4.68029391e-01, -2.21933710e-01],\n",
       "       [-2.25681725e+00,  0.00000000e+00, -1.30068346e+00,\n",
       "        -1.41063754e+00, -2.47829793e+00,  1.42758514e-01,\n",
       "        -1.39412379e+00, -5.67101779e-01,  9.89217220e-01,\n",
       "         1.21870592e-01, -2.52844176e-01,  1.83903886e-01],\n",
       "       [ 1.96420873e+00,  0.00000000e+00, -1.63010220e-01,\n",
       "        -1.29582738e+00,  1.63163749e+00,  1.57949358e+00,\n",
       "        -2.69582692e-01, -8.84525554e-01,  1.53276229e-01,\n",
       "         1.21870592e-01, -2.06403920e+00,  6.77176215e-01],\n",
       "       [ 2.98863300e-01,  0.00000000e+00,  8.44221534e-01,\n",
       "         7.32678154e-01, -8.60039342e-01, -1.17954659e-01,\n",
       "        -9.16970789e-01,  5.14700397e-01, -5.31419479e-01,\n",
       "         1.26446344e+00,  1.52182832e+00, -2.21933710e-01],\n",
       "       [ 2.98863300e-01,  0.00000000e+00,  1.38197902e-01,\n",
       "         1.18522654e+00, -1.09958425e-01, -4.62095966e-01,\n",
       "         9.36832915e-02, -5.16377335e-01,  2.41440214e-01,\n",
       "        -3.07098204e-01,  2.36736538e-01,  3.12020186e-01]])"
      ]
     },
     "execution_count": 90,
     "metadata": {},
     "output_type": "execute_result"
    }
   ],
   "source": [
    "train_x"
   ]
  },
  {
   "cell_type": "code",
   "execution_count": 91,
   "id": "bcc1981f",
   "metadata": {},
   "outputs": [
    {
     "data": {
      "text/plain": [
       "array([[ 1.63172674,  0.        ,  0.26208598,  0.06870349,  0.4346199 ,\n",
       "         0.71757579, -0.21119882,  0.82491505,  0.61568524,  0.77064898,\n",
       "        -0.51355493,  0.31202019],\n",
       "       [ 1.08429715,  0.        ,  0.19989661, -0.53558986,  2.1097614 ,\n",
       "         0.41573132,  1.40920289,  1.52141342, -0.86366364,  0.77064898,\n",
       "         0.46802939, -0.51232825],\n",
       "       [-0.35623452,  0.        , -0.67525346, -0.53558986,  0.90821421,\n",
       "         1.72536184,  0.03425217, -1.10992538, -1.1521268 ,  1.03166276,\n",
       "         2.09085582,  0.55850891],\n",
       "       [-0.72508041,  0.        , -0.83766477,  0.45286086, -0.39984225,\n",
       "        -0.71727296,  0.72984477,  0.05086137,  0.28550686, -0.87068171,\n",
       "        -1.38141238, -0.22193371],\n",
       "       [ 0.25263211,  0.        ,  0.1381979 ,  1.36188686, -0.47433959,\n",
       "         0.21618061, -1.28540143, -0.13031167,  0.39562905,  0.77064898,\n",
       "         0.90814719, -2.49883997],\n",
       "       [ 0.1377373 ,  0.        ,  0.91143479,  1.62263592, -0.28964668,\n",
       "        -0.15568583,  0.04414333,  0.09503777,  1.49349103,  1.26446344,\n",
       "         0.23673654, -1.14916472],\n",
       "       [ 0.1377373 ,  0.        , -0.16301022, -0.12867616,  0.40184342,\n",
       "         1.78963187,  2.79148702,  0.59421789, -1.32988858,  1.03166276,\n",
       "         2.09085582,  0.67717621],\n",
       "       [-0.61775661,  0.        , -0.04397557,  0.26245974, -0.51190609,\n",
       "        -0.99868527,  0.44437892,  0.13878672,  0.70363836, -0.87068171,\n",
       "        -1.07533963, -0.36500633],\n",
       "       [ 0.69814556,  0.        , -1.54263548, -1.18275843,  1.76773356,\n",
       "        -0.8772167 ,  0.7709801 , -2.08284252,  0.19736335, -1.73289617,\n",
       "        -0.25284418,  0.05232535],\n",
       "       [ 1.28115156,  0.        , -0.04397557,  1.62263592,  0.8776419 ,\n",
       "        -1.49822954,  0.28321213,  0.67239373,  2.36764236,  0.47230035,\n",
       "        -2.0640392 , -0.98226366],\n",
       "       [-0.85259528,  0.        ,  0.19989661,  0.06870349,  0.2691253 ,\n",
       "        -0.52047558,  0.55600753,  0.26755837, -0.48716756, -0.87068171,\n",
       "         0.23673654,  1.90813725]])"
      ]
     },
     "execution_count": 91,
     "metadata": {},
     "output_type": "execute_result"
    }
   ],
   "source": [
    "test_x"
   ]
  },
  {
   "cell_type": "code",
   "execution_count": 92,
   "id": "45eed6a8",
   "metadata": {},
   "outputs": [
    {
     "data": {
      "text/plain": [
       "15    100\n",
       "12     85\n",
       "2      81\n",
       "16     98\n",
       "9      78\n",
       "27     79\n",
       "19     64\n",
       "22     71\n",
       "20     90\n",
       "24     63\n",
       "13     76\n",
       "3      76\n",
       "0      95\n",
       "21     83\n",
       "23     67\n",
       "6      87\n",
       "26     84\n",
       "1      83\n",
       "Name: W, dtype: int64"
      ]
     },
     "execution_count": 92,
     "metadata": {},
     "output_type": "execute_result"
    }
   ],
   "source": [
    "train_y"
   ]
  },
  {
   "cell_type": "code",
   "execution_count": 93,
   "id": "a9d3680f",
   "metadata": {},
   "outputs": [
    {
     "data": {
      "text/plain": [
       "10    88\n",
       "11    86\n",
       "25    92\n",
       "28    74\n",
       "14    68\n",
       "4     74\n",
       "17    97\n",
       "18    68\n",
       "7     81\n",
       "29    68\n",
       "8     80\n",
       "Name: W, dtype: int64"
      ]
     },
     "execution_count": 93,
     "metadata": {},
     "output_type": "execute_result"
    }
   ],
   "source": [
    "test_y"
   ]
  },
  {
   "cell_type": "code",
   "execution_count": 94,
   "id": "db16d30e",
   "metadata": {},
   "outputs": [
    {
     "name": "stdout",
     "output_type": "stream",
     "text": [
      "train_x shape = (18, 12)\n",
      "test_x shape = (11, 12)\n",
      "train_y shape = (18,)\n",
      "test_y shape = (11,)\n"
     ]
    }
   ],
   "source": [
    "print(\"train_x shape =\",train_x.shape)\n",
    "print(\"test_x shape =\",test_x.shape)\n",
    "print(\"train_y shape =\",train_y.shape)\n",
    "print(\"test_y shape =\",test_y.shape)"
   ]
  },
  {
   "cell_type": "code",
   "execution_count": 95,
   "id": "640447fc",
   "metadata": {},
   "outputs": [
    {
     "data": {
      "text/plain": [
       "0.9925091780283235"
      ]
     },
     "execution_count": 95,
     "metadata": {},
     "output_type": "execute_result"
    }
   ],
   "source": [
    "lm=LinearRegression()\n",
    "lm.fit(train_x,train_y)\n",
    "lm.score(train_x,train_y)"
   ]
  },
  {
   "cell_type": "code",
   "execution_count": 96,
   "id": "0110be2d",
   "metadata": {},
   "outputs": [
    {
     "data": {
      "text/plain": [
       "array([ 3.21500526e+00,  1.33226763e-15, -2.84167198e-01,  4.59054634e-01,\n",
       "       -6.42651418e-02, -1.79861020e+00, -1.88971602e-01, -1.00937891e+00,\n",
       "       -7.31664263e+00,  6.41809357e-01, -6.77139182e-01,  4.01774743e+00])"
      ]
     },
     "execution_count": 96,
     "metadata": {},
     "output_type": "execute_result"
    }
   ],
   "source": [
    "lm.coef_"
   ]
  },
  {
   "cell_type": "code",
   "execution_count": 97,
   "id": "232059af",
   "metadata": {},
   "outputs": [
    {
     "data": {
      "text/plain": [
       "80.19275962182225"
      ]
     },
     "execution_count": 97,
     "metadata": {},
     "output_type": "execute_result"
    }
   ],
   "source": [
    "lm.intercept_"
   ]
  },
  {
   "cell_type": "markdown",
   "id": "d3115806",
   "metadata": {},
   "source": [
    "Error of Llinear regression Model on our dataset"
   ]
  },
  {
   "cell_type": "code",
   "execution_count": 98,
   "id": "6e4e33ed",
   "metadata": {},
   "outputs": [
    {
     "name": "stdout",
     "output_type": "stream",
     "text": [
      "ERROR:\n",
      "Mean Absolute Error:  4.5722190197932235\n",
      "Mean Squared Error:  30.429551675618118\n",
      "Root Mean Squared Error:  5.516298729729756\n"
     ]
    }
   ],
   "source": [
    "print('ERROR:')\n",
    "from sklearn.metrics import mean_absolute_error,mean_squared_error\n",
    "predlm=lm.predict(test_x)\n",
    "print('Mean Absolute Error: ',mean_absolute_error(test_y,predlm))\n",
    "print('Mean Squared Error: ',mean_squared_error(test_y,predlm))\n",
    "print('Root Mean Squared Error: ',np.sqrt(mean_squared_error(test_y,predlm)))"
   ]
  },
  {
   "cell_type": "code",
   "execution_count": 99,
   "id": "ce84fa56",
   "metadata": {},
   "outputs": [
    {
     "data": {
      "text/plain": [
       "array([80.87574814, 85.12920837, 86.8657045 , 76.8300506 , 68.5522629 ,\n",
       "       66.42267295, 87.94823399, 73.49929775, 83.5787828 , 67.40624196,\n",
       "       88.48182507])"
      ]
     },
     "execution_count": 99,
     "metadata": {},
     "output_type": "execute_result"
    }
   ],
   "source": [
    "predlm"
   ]
  },
  {
   "cell_type": "code",
   "execution_count": 100,
   "id": "42b5e7be",
   "metadata": {},
   "outputs": [
    {
     "data": {
      "text/plain": [
       "10    88\n",
       "11    86\n",
       "25    92\n",
       "28    74\n",
       "14    68\n",
       "4     74\n",
       "17    97\n",
       "18    68\n",
       "7     81\n",
       "29    68\n",
       "8     80\n",
       "Name: W, dtype: int64"
      ]
     },
     "execution_count": 100,
     "metadata": {},
     "output_type": "execute_result"
    }
   ],
   "source": [
    "test_y"
   ]
  },
  {
   "cell_type": "code",
   "execution_count": 101,
   "id": "d8dfc627",
   "metadata": {},
   "outputs": [
    {
     "name": "stdout",
     "output_type": "stream",
     "text": [
      "0.6770763240878975\n"
     ]
    }
   ],
   "source": [
    "#checking r2 score\n",
    "from sklearn.metrics import r2_score\n",
    "print(r2_score(test_y,predlm))"
   ]
  },
  {
   "cell_type": "code",
   "execution_count": 102,
   "id": "c9df4bf5",
   "metadata": {},
   "outputs": [
    {
     "name": "stdout",
     "output_type": "stream",
     "text": [
      "cross validation score of Linear Regression is = 0.7095263151351113\n"
     ]
    }
   ],
   "source": [
    "#cross validation of the model\n",
    "from sklearn.model_selection import cross_val_score\n",
    "scr=cross_val_score(lm,x,y,cv=4)\n",
    "print(\"cross validation score of Linear Regression is =\",scr.mean())"
   ]
  },
  {
   "cell_type": "markdown",
   "id": "fabdae24",
   "metadata": {},
   "source": [
    "# Using DecisionTreeRegressor"
   ]
  },
  {
   "cell_type": "code",
   "execution_count": 103,
   "id": "58e3de16",
   "metadata": {},
   "outputs": [
    {
     "data": {
      "text/plain": [
       "DecisionTreeRegressor()"
      ]
     },
     "execution_count": 103,
     "metadata": {},
     "output_type": "execute_result"
    }
   ],
   "source": [
    "# Fitting Decision Tree Regression to the dataset\n",
    "from sklearn.tree import DecisionTreeRegressor\n",
    "regressor = DecisionTreeRegressor()\n",
    "regressor.fit(train_x,train_y)"
   ]
  },
  {
   "cell_type": "code",
   "execution_count": 104,
   "id": "a5bfa7d9",
   "metadata": {},
   "outputs": [
    {
     "data": {
      "text/plain": [
       "1.0"
      ]
     },
     "execution_count": 104,
     "metadata": {},
     "output_type": "execute_result"
    }
   ],
   "source": [
    "regressor.score(train_x,train_y)"
   ]
  },
  {
   "cell_type": "code",
   "execution_count": 105,
   "id": "1aba71c7",
   "metadata": {},
   "outputs": [
    {
     "name": "stdout",
     "output_type": "stream",
     "text": [
      "cross validation score of DecisionTreeRegressor is = -11.493052014729695\n"
     ]
    }
   ],
   "source": [
    "#cross validation of the model\n",
    "from sklearn.model_selection import cross_val_score\n",
    "scr=cross_val_score(regressor,x,y,cv=9)\n",
    "print(\"cross validation score of DecisionTreeRegressor is =\",scr.mean())"
   ]
  },
  {
   "cell_type": "code",
   "execution_count": null,
   "id": "b01f774d",
   "metadata": {},
   "outputs": [],
   "source": []
  },
  {
   "cell_type": "markdown",
   "id": "53b972c4",
   "metadata": {},
   "source": [
    "# Using RandomForestRegressor"
   ]
  },
  {
   "cell_type": "code",
   "execution_count": 106,
   "id": "6374b2af",
   "metadata": {},
   "outputs": [
    {
     "data": {
      "text/plain": [
       "0.9500652964426878"
      ]
     },
     "execution_count": 106,
     "metadata": {},
     "output_type": "execute_result"
    }
   ],
   "source": [
    "from sklearn.ensemble import RandomForestRegressor\n",
    "rf=RandomForestRegressor()\n",
    "rf.fit(train_x,train_y)\n",
    "rf_pred=rf.predict(test_x)\n",
    "rf.score(train_x,train_y)"
   ]
  },
  {
   "cell_type": "code",
   "execution_count": 107,
   "id": "302dc94b",
   "metadata": {},
   "outputs": [
    {
     "name": "stdout",
     "output_type": "stream",
     "text": [
      "cross validation score of RandomForestRegressor is = 0.5684142553166639\n"
     ]
    }
   ],
   "source": [
    "#cross validation of the model\n",
    "from sklearn.model_selection import cross_val_score\n",
    "scr=cross_val_score(rf,x,y,cv=4)\n",
    "print(\"cross validation score of RandomForestRegressor is =\",scr.mean())"
   ]
  },
  {
   "cell_type": "code",
   "execution_count": null,
   "id": "eb51c1c0",
   "metadata": {},
   "outputs": [],
   "source": []
  },
  {
   "cell_type": "markdown",
   "id": "12601950",
   "metadata": {},
   "source": [
    "# Using Lasso Regression"
   ]
  },
  {
   "cell_type": "code",
   "execution_count": 108,
   "id": "b98834c7",
   "metadata": {},
   "outputs": [
    {
     "data": {
      "text/plain": [
       "0.9924735804584621"
      ]
     },
     "execution_count": 108,
     "metadata": {},
     "output_type": "execute_result"
    }
   ],
   "source": [
    "from sklearn.linear_model import Lasso\n",
    "ls=Lasso(alpha=0.01)\n",
    "ls.fit(train_x,train_y)\n",
    "ls.score(train_x,train_y)"
   ]
  },
  {
   "cell_type": "code",
   "execution_count": 109,
   "id": "d7940e25",
   "metadata": {},
   "outputs": [
    {
     "name": "stdout",
     "output_type": "stream",
     "text": [
      "cross validation score of  Lasso Regression is = 0.7097479277615593\n"
     ]
    }
   ],
   "source": [
    "#cross validation of the model\n",
    "from sklearn.model_selection import cross_val_score\n",
    "scr=cross_val_score(ls,x,y,cv=4)\n",
    "print(\"cross validation score of  Lasso Regression is =\",scr.mean())"
   ]
  },
  {
   "cell_type": "code",
   "execution_count": null,
   "id": "e614fcf0",
   "metadata": {},
   "outputs": [],
   "source": []
  },
  {
   "cell_type": "markdown",
   "id": "75e99f20",
   "metadata": {},
   "source": [
    "# Using Ridge regression"
   ]
  },
  {
   "cell_type": "code",
   "execution_count": 110,
   "id": "af7c6115",
   "metadata": {},
   "outputs": [
    {
     "data": {
      "text/plain": [
       "0.9924735804584621"
      ]
     },
     "execution_count": 110,
     "metadata": {},
     "output_type": "execute_result"
    }
   ],
   "source": [
    "from sklearn.linear_model import Ridge\n",
    "rd=Lasso(alpha=0.01)\n",
    "rd.fit(train_x,train_y)\n",
    "rd.score(train_x,train_y)"
   ]
  },
  {
   "cell_type": "code",
   "execution_count": 111,
   "id": "f6fb5b01",
   "metadata": {},
   "outputs": [
    {
     "name": "stdout",
     "output_type": "stream",
     "text": [
      "cross validation score of  Ridge Regression is = 0.7097479277615593\n"
     ]
    }
   ],
   "source": [
    "#cross validation of the model\n",
    "from sklearn.model_selection import cross_val_score\n",
    "scr=cross_val_score(rd,x,y,cv=4)\n",
    "print(\"cross validation score of  Ridge Regression is =\",scr.mean())"
   ]
  },
  {
   "cell_type": "code",
   "execution_count": null,
   "id": "30cc2f8b",
   "metadata": {},
   "outputs": [],
   "source": []
  },
  {
   "cell_type": "markdown",
   "id": "911ae47c",
   "metadata": {},
   "source": [
    "# Using XGBRegressor regression"
   ]
  },
  {
   "cell_type": "code",
   "execution_count": 112,
   "id": "475c20c6",
   "metadata": {},
   "outputs": [],
   "source": [
    "from xgboost import XGBRegressor"
   ]
  },
  {
   "cell_type": "code",
   "execution_count": 113,
   "id": "9e716097",
   "metadata": {},
   "outputs": [
    {
     "data": {
      "text/plain": [
       "0.9999999982348707"
      ]
     },
     "execution_count": 113,
     "metadata": {},
     "output_type": "execute_result"
    }
   ],
   "source": [
    "xgb=XGBRegressor()\n",
    "xgb.fit(train_x,train_y)\n",
    "xgb.score(train_x,train_y)"
   ]
  },
  {
   "cell_type": "code",
   "execution_count": 114,
   "id": "11b6a33e",
   "metadata": {},
   "outputs": [
    {
     "name": "stdout",
     "output_type": "stream",
     "text": [
      "cross validation score of XGBRegressor is = 0.36451919491284407\n"
     ]
    }
   ],
   "source": [
    "#cross validation of the model\n",
    "from sklearn.model_selection import cross_val_score\n",
    "scr=cross_val_score(xgb,x,y,cv=4)\n",
    "print(\"cross validation score of XGBRegressor is =\",scr.mean())"
   ]
  },
  {
   "cell_type": "markdown",
   "id": "446948d5",
   "metadata": {},
   "source": [
    "# using bagging,boosting,knn"
   ]
  },
  {
   "cell_type": "code",
   "execution_count": 115,
   "id": "bb6d601b",
   "metadata": {},
   "outputs": [],
   "source": [
    "from sklearn.ensemble import BaggingRegressor\n",
    "from sklearn.ensemble import AdaBoostRegressor\n",
    "from sklearn.neighbors import KNeighborsRegressor\n",
    "from sklearn.ensemble import GradientBoostingRegressor\n",
    "from sklearn.svm import SVR"
   ]
  },
  {
   "cell_type": "code",
   "execution_count": 116,
   "id": "0d3d36e5",
   "metadata": {},
   "outputs": [],
   "source": [
    "baging=BaggingRegressor()\n",
    "adaboost=AdaBoostRegressor()\n",
    "knn=KNeighborsRegressor()\n",
    "gradr=GradientBoostingRegressor()\n",
    "model=[baging,adaboost,knn,gradr]"
   ]
  },
  {
   "cell_type": "code",
   "execution_count": 117,
   "id": "8f63eb7e",
   "metadata": {},
   "outputs": [
    {
     "name": "stdout",
     "output_type": "stream",
     "text": [
      "accuracy score of BaggingRegressor() is = 0.9553049124788255\n",
      "cross validation score of BaggingRegressor() is = 0.33933804097270265\n",
      "\n",
      "\n",
      "accuracy score of AdaBoostRegressor() is = 0.9974419819311123\n",
      "cross validation score of AdaBoostRegressor() is = 0.5658295907273223\n",
      "\n",
      "\n",
      "accuracy score of KNeighborsRegressor() is = 0.7198260869565216\n",
      "cross validation score of KNeighborsRegressor() is = 0.42335190755199426\n",
      "\n",
      "\n",
      "accuracy score of GradientBoostingRegressor() is = 0.9999999791985381\n",
      "cross validation score of GradientBoostingRegressor() is = 0.36088627920039323\n",
      "\n",
      "\n"
     ]
    }
   ],
   "source": [
    "for i in model:\n",
    "    p=i\n",
    "    p.fit(train_x,train_y)\n",
    "    print(\"accuracy score of\",i,\"is =\",p.score(train_x,train_y))\n",
    "    scr=cross_val_score(i,x,y,cv=4)\n",
    "    print(\"cross validation score of\",i,\"is =\",scr.mean())\n",
    "    print(\"\\n\")"
   ]
  },
  {
   "cell_type": "code",
   "execution_count": null,
   "id": "12e0554e",
   "metadata": {},
   "outputs": [],
   "source": []
  },
  {
   "cell_type": "markdown",
   "id": "efdd321c",
   "metadata": {},
   "source": [
    "# Best parameter Tuning for the Lasso Regression"
   ]
  },
  {
   "cell_type": "code",
   "execution_count": 118,
   "id": "50b7e7d5",
   "metadata": {},
   "outputs": [
    {
     "data": {
      "text/plain": [
       "{'alpha': 0.1, 'random_state': 8, 'selection': 'random'}"
      ]
     },
     "execution_count": 118,
     "metadata": {},
     "output_type": "execute_result"
    }
   ],
   "source": [
    "parameters={'alpha':[.0001,.001,.01,.1,1,10],'random_state':list(range(0,10)),'selection':['cyclic', 'random']}\n",
    "ls=Lasso()\n",
    "gcv=GridSearchCV(ls,parameters)\n",
    "gcv.fit(train_x,train_y)\n",
    "gcv.best_params_"
   ]
  },
  {
   "cell_type": "code",
   "execution_count": 119,
   "id": "af10bed4",
   "metadata": {},
   "outputs": [
    {
     "data": {
      "text/plain": [
       "Lasso(alpha=0.1, random_state=8, selection='random')"
      ]
     },
     "execution_count": 119,
     "metadata": {},
     "output_type": "execute_result"
    }
   ],
   "source": [
    "gcv.best_estimator_"
   ]
  },
  {
   "cell_type": "code",
   "execution_count": 120,
   "id": "67c859f6",
   "metadata": {},
   "outputs": [
    {
     "data": {
      "text/plain": [
       "0.9905742313420683"
      ]
     },
     "execution_count": 120,
     "metadata": {},
     "output_type": "execute_result"
    }
   ],
   "source": [
    "gcvpred=gcv.best_estimator_.predict(test_x)\n",
    "gcv.best_estimator_.score(train_x,train_y)"
   ]
  },
  {
   "cell_type": "code",
   "execution_count": 121,
   "id": "e94eecdf",
   "metadata": {},
   "outputs": [
    {
     "name": "stdout",
     "output_type": "stream",
     "text": [
      "cross validation score of  Lasso Regression is = 0.7151949029407498\n"
     ]
    }
   ],
   "source": [
    "#cross validation of the model\n",
    "from sklearn.model_selection import cross_val_score\n",
    "scr=cross_val_score(gcv.best_estimator_,x,y,cv=4)\n",
    "print(\"cross validation score of  Lasso Regression is =\",scr.mean())"
   ]
  },
  {
   "cell_type": "markdown",
   "id": "f810400d",
   "metadata": {},
   "source": [
    "Error of testing model:"
   ]
  },
  {
   "cell_type": "code",
   "execution_count": 122,
   "id": "7935e0f0",
   "metadata": {},
   "outputs": [
    {
     "name": "stdout",
     "output_type": "stream",
     "text": [
      "Testing Model Erorr:\n",
      "Mean Absolute Error:  4.510648980010762\n",
      "Mean Squared Error:  29.4835545000048\n",
      "Root Mean Squared Error:  5.4298761035593435\n"
     ]
    }
   ],
   "source": [
    "print('Testing Model Erorr:')\n",
    "from sklearn.metrics import mean_absolute_error,mean_squared_error\n",
    "print('Mean Absolute Error: ',mean_absolute_error(test_y,gcvpred))\n",
    "print('Mean Squared Error: ',mean_squared_error(test_y,gcvpred))\n",
    "print('Root Mean Squared Error: ',np.sqrt(mean_squared_error(test_y,gcvpred)))"
   ]
  },
  {
   "cell_type": "code",
   "execution_count": 123,
   "id": "3fb5fba9",
   "metadata": {},
   "outputs": [
    {
     "name": "stdout",
     "output_type": "stream",
     "text": [
      "[80.78269892 85.11525988 87.16816919 75.99535066 68.62915432 66.5343631\n",
      " 88.14031085 73.2964137  83.35039741 66.49553359 88.58215822]\n"
     ]
    }
   ],
   "source": [
    "print(gcvpred)"
   ]
  },
  {
   "cell_type": "code",
   "execution_count": 124,
   "id": "9a9ea4d3",
   "metadata": {},
   "outputs": [
    {
     "name": "stdout",
     "output_type": "stream",
     "text": [
      "10    88\n",
      "11    86\n",
      "25    92\n",
      "28    74\n",
      "14    68\n",
      "4     74\n",
      "17    97\n",
      "18    68\n",
      "7     81\n",
      "29    68\n",
      "8     80\n",
      "Name: W, dtype: int64\n"
     ]
    }
   ],
   "source": [
    "print(test_y)"
   ]
  },
  {
   "cell_type": "code",
   "execution_count": null,
   "id": "5809b2ef",
   "metadata": {},
   "outputs": [],
   "source": []
  },
  {
   "cell_type": "markdown",
   "id": "8b69ec2b",
   "metadata": {},
   "source": [
    "Error of training model:"
   ]
  },
  {
   "cell_type": "code",
   "execution_count": 125,
   "id": "5a533031",
   "metadata": {},
   "outputs": [
    {
     "name": "stdout",
     "output_type": "stream",
     "text": [
      "Training Model Erorr:\n",
      "Mean Absolute Error:  0.8383144035097322\n",
      "Mean Squared Error:  1.030434339086227\n",
      "Root Mean Squared Error:  1.0151031174645397\n"
     ]
    }
   ],
   "source": [
    "gcvpred_train=gcv.best_estimator_.predict(train_x)\n",
    "print('Training Model Erorr:')\n",
    "print('Mean Absolute Error: ',mean_absolute_error(train_y,gcvpred_train))\n",
    "print('Mean Squared Error: ',mean_squared_error(train_y,gcvpred_train))\n",
    "print('Root Mean Squared Error: ',np.sqrt(mean_squared_error(train_y,gcvpred_train)))"
   ]
  },
  {
   "cell_type": "code",
   "execution_count": 126,
   "id": "62301867",
   "metadata": {},
   "outputs": [
    {
     "name": "stdout",
     "output_type": "stream",
     "text": [
      "[100.26354855  82.83318548  79.71786993  96.34337076  78.54017959\n",
      "  79.69874447  64.65464527  71.72180541  91.6432707   62.99113191\n",
      "  76.57318135  75.4763427   95.31545618  84.26669759  67.82052208\n",
      "  86.33380573  84.04677846  81.75946386]\n"
     ]
    }
   ],
   "source": [
    "print(gcvpred_train)"
   ]
  },
  {
   "cell_type": "code",
   "execution_count": 127,
   "id": "5472d26f",
   "metadata": {},
   "outputs": [
    {
     "data": {
      "text/plain": [
       "15    100\n",
       "12     85\n",
       "2      81\n",
       "16     98\n",
       "9      78\n",
       "27     79\n",
       "19     64\n",
       "22     71\n",
       "20     90\n",
       "24     63\n",
       "13     76\n",
       "3      76\n",
       "0      95\n",
       "21     83\n",
       "23     67\n",
       "6      87\n",
       "26     84\n",
       "1      83\n",
       "Name: W, dtype: int64"
      ]
     },
     "execution_count": 127,
     "metadata": {},
     "output_type": "execute_result"
    }
   ],
   "source": [
    "train_y"
   ]
  },
  {
   "cell_type": "code",
   "execution_count": null,
   "id": "32f4c002",
   "metadata": {},
   "outputs": [],
   "source": []
  },
  {
   "cell_type": "markdown",
   "id": "944c72f1",
   "metadata": {},
   "source": [
    "# Best parameter Tuning for RandomForest Regressor"
   ]
  },
  {
   "cell_type": "code",
   "execution_count": 128,
   "id": "269b8ca3",
   "metadata": {},
   "outputs": [
    {
     "data": {
      "text/plain": [
       "{'criterion': 'squared_error', 'max_depth': 4, 'max_features': 'auto'}"
      ]
     },
     "execution_count": 128,
     "metadata": {},
     "output_type": "execute_result"
    }
   ],
   "source": [
    "#creating parameter list to pass in GreadSearchCV\n",
    "parameters={'max_features':['auto','sqrt','log2'],'max_depth':[4,5,6,7,8],'criterion':[\"squared_error\", \"absolute_error\", \"poisson\"]}\n",
    "gcv1=GridSearchCV(RandomForestRegressor(),parameters,cv=5,scoring='accuracy')\n",
    "gcv1.fit(train_x,train_y)\n",
    "gcv1.best_params_"
   ]
  },
  {
   "cell_type": "code",
   "execution_count": 129,
   "id": "03ece55e",
   "metadata": {},
   "outputs": [
    {
     "data": {
      "text/plain": [
       "sklearn.model_selection._search.GridSearchCV"
      ]
     },
     "execution_count": 129,
     "metadata": {},
     "output_type": "execute_result"
    }
   ],
   "source": [
    "type(gcv1)"
   ]
  },
  {
   "cell_type": "code",
   "execution_count": 130,
   "id": "cb8ce4ad",
   "metadata": {},
   "outputs": [
    {
     "data": {
      "text/plain": [
       "RandomForestRegressor(max_depth=4)"
      ]
     },
     "execution_count": 130,
     "metadata": {},
     "output_type": "execute_result"
    }
   ],
   "source": [
    "gcv1.best_estimator_"
   ]
  },
  {
   "cell_type": "code",
   "execution_count": 131,
   "id": "b4957b59",
   "metadata": {},
   "outputs": [
    {
     "data": {
      "text/plain": [
       "0.9515002137792554"
      ]
     },
     "execution_count": 131,
     "metadata": {},
     "output_type": "execute_result"
    }
   ],
   "source": [
    "gcvpred1=gcv1.best_estimator_.predict(test_x)\n",
    "gcv1.best_estimator_.score(train_x,train_y)"
   ]
  },
  {
   "cell_type": "code",
   "execution_count": 132,
   "id": "e24416a5",
   "metadata": {},
   "outputs": [
    {
     "name": "stdout",
     "output_type": "stream",
     "text": [
      "RandomForestRegressor Erorr:\n",
      "Mean Absolute Error:  6.1645129870129844\n",
      "Mean Squared Error:  49.42462930009273\n",
      "Root Mean Squared Error:  7.030265236823767\n"
     ]
    }
   ],
   "source": [
    "print('RandomForestRegressor Erorr:')\n",
    "from sklearn.metrics import mean_absolute_error,mean_squared_error\n",
    "print('Mean Absolute Error: ',mean_absolute_error(test_y,gcvpred1))\n",
    "print('Mean Squared Error: ',mean_squared_error(test_y,gcvpred1))\n",
    "print('Root Mean Squared Error: ',np.sqrt(mean_squared_error(test_y,gcvpred1)))"
   ]
  },
  {
   "cell_type": "code",
   "execution_count": 133,
   "id": "722439e4",
   "metadata": {},
   "outputs": [
    {
     "name": "stdout",
     "output_type": "stream",
     "text": [
      "cross validation score of  Lasso Regression is = 0.5668217682717759\n"
     ]
    }
   ],
   "source": [
    "#cross validation of the model\n",
    "from sklearn.model_selection import cross_val_score\n",
    "scr=cross_val_score(gcv1.best_estimator_,x,y,cv=4)\n",
    "print(\"cross validation score of  Lasso Regression is =\",scr.mean())"
   ]
  },
  {
   "cell_type": "markdown",
   "id": "73d5cafc",
   "metadata": {},
   "source": [
    "since after parameter tuning we get best cross_val_score from lasso regression,we creat lasso as a final model."
   ]
  },
  {
   "cell_type": "code",
   "execution_count": 134,
   "id": "34aeb76e",
   "metadata": {},
   "outputs": [],
   "source": [
    "final_model=Lasso(alpha=0.1, random_state=8, selection='random')"
   ]
  },
  {
   "cell_type": "code",
   "execution_count": 141,
   "id": "979c1035",
   "metadata": {},
   "outputs": [
    {
     "name": "stdout",
     "output_type": "stream",
     "text": [
      "Test Accuracy= 0.9898936914827429\n"
     ]
    }
   ],
   "source": [
    "final_model.fit(test_x,test_y)\n",
    "pred=final_model.predict(test_x)\n",
    "print(\"Test Accuracy=\",final_model.score(test_x,test_y))"
   ]
  },
  {
   "cell_type": "code",
   "execution_count": 140,
   "id": "6bebaa75",
   "metadata": {},
   "outputs": [
    {
     "name": "stdout",
     "output_type": "stream",
     "text": [
      "Train Accuracy= 0.9905742313420683\n"
     ]
    }
   ],
   "source": [
    "final_model.fit(train_x,train_y)\n",
    "pred=final_model.predict(test_x)\n",
    "print(\"Train Accuracy=\",final_model.score(train_x,train_y))"
   ]
  },
  {
   "cell_type": "code",
   "execution_count": 145,
   "id": "a356d9bc",
   "metadata": {},
   "outputs": [],
   "source": [
    "MLdf=pd.DataFrame([final_model.predict(test_x)[:],test_y[:]],index=[\"Predicted\",\"Original\"])"
   ]
  },
  {
   "cell_type": "code",
   "execution_count": 143,
   "id": "87540a7e",
   "metadata": {},
   "outputs": [
    {
     "data": {
      "text/html": [
       "<div>\n",
       "<style scoped>\n",
       "    .dataframe tbody tr th:only-of-type {\n",
       "        vertical-align: middle;\n",
       "    }\n",
       "\n",
       "    .dataframe tbody tr th {\n",
       "        vertical-align: top;\n",
       "    }\n",
       "\n",
       "    .dataframe thead th {\n",
       "        text-align: right;\n",
       "    }\n",
       "</style>\n",
       "<table border=\"1\" class=\"dataframe\">\n",
       "  <thead>\n",
       "    <tr style=\"text-align: right;\">\n",
       "      <th></th>\n",
       "      <th>0</th>\n",
       "      <th>1</th>\n",
       "      <th>2</th>\n",
       "      <th>3</th>\n",
       "      <th>4</th>\n",
       "      <th>5</th>\n",
       "      <th>6</th>\n",
       "      <th>7</th>\n",
       "      <th>8</th>\n",
       "      <th>9</th>\n",
       "      <th>10</th>\n",
       "    </tr>\n",
       "  </thead>\n",
       "  <tbody>\n",
       "    <tr>\n",
       "      <th>Predicted</th>\n",
       "      <td>87.251082</td>\n",
       "      <td>85.85401</td>\n",
       "      <td>92.196303</td>\n",
       "      <td>72.341661</td>\n",
       "      <td>68.880757</td>\n",
       "      <td>72.813518</td>\n",
       "      <td>97.195463</td>\n",
       "      <td>69.881282</td>\n",
       "      <td>80.319967</td>\n",
       "      <td>68.833185</td>\n",
       "      <td>80.432773</td>\n",
       "    </tr>\n",
       "    <tr>\n",
       "      <th>Original</th>\n",
       "      <td>88.000000</td>\n",
       "      <td>86.00000</td>\n",
       "      <td>92.000000</td>\n",
       "      <td>74.000000</td>\n",
       "      <td>68.000000</td>\n",
       "      <td>74.000000</td>\n",
       "      <td>97.000000</td>\n",
       "      <td>68.000000</td>\n",
       "      <td>81.000000</td>\n",
       "      <td>68.000000</td>\n",
       "      <td>80.000000</td>\n",
       "    </tr>\n",
       "  </tbody>\n",
       "</table>\n",
       "</div>"
      ],
      "text/plain": [
       "                  0         1          2          3          4          5   \\\n",
       "Predicted  87.251082  85.85401  92.196303  72.341661  68.880757  72.813518   \n",
       "Original   88.000000  86.00000  92.000000  74.000000  68.000000  74.000000   \n",
       "\n",
       "                  6          7          8          9          10  \n",
       "Predicted  97.195463  69.881282  80.319967  68.833185  80.432773  \n",
       "Original   97.000000  68.000000  81.000000  68.000000  80.000000  "
      ]
     },
     "execution_count": 143,
     "metadata": {},
     "output_type": "execute_result"
    }
   ],
   "source": [
    "MLdf"
   ]
  },
  {
   "cell_type": "code",
   "execution_count": null,
   "id": "a169eda1",
   "metadata": {},
   "outputs": [],
   "source": [
    "#Saving the model\n",
    "import joblib\n",
    "joblib.dump(final_model,'Baseball Case Study project Model.pkl')"
   ]
  },
  {
   "cell_type": "code",
   "execution_count": null,
   "id": "641a2c80",
   "metadata": {},
   "outputs": [],
   "source": []
  }
 ],
 "metadata": {
  "kernelspec": {
   "display_name": "Python 3",
   "language": "python",
   "name": "python3"
  },
  "language_info": {
   "codemirror_mode": {
    "name": "ipython",
    "version": 3
   },
   "file_extension": ".py",
   "mimetype": "text/x-python",
   "name": "python",
   "nbconvert_exporter": "python",
   "pygments_lexer": "ipython3",
   "version": "3.8.8"
  }
 },
 "nbformat": 4,
 "nbformat_minor": 5
}
