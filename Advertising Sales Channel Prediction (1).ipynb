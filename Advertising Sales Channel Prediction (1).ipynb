{
 "cells": [
  {
   "cell_type": "markdown",
   "id": "cbd09ead",
   "metadata": {},
   "source": [
    "# Advertising Sales Channel Prediction"
   ]
  },
  {
   "cell_type": "markdown",
   "id": "d3fcce0c",
   "metadata": {},
   "source": [
    "Problem Statement:"
   ]
  },
  {
   "cell_type": "markdown",
   "id": "e76aa68a",
   "metadata": {},
   "source": [
    "When a company enters a market, the distribution strategy and channel it uses are keys to its success in the market, as well as market know-how and customer knowledge and understanding. Because an effective distribution strategy under efficient supply-chain management opens doors for attaining competitive advantage and strong brand equity in the market, it is a component of the marketing mix that cannot be ignored . \n",
    "\n",
    "The distribution strategy and the channel design have to be right the first time. The case study of Sales channel includes the detailed study of TV, radio and newspaper channel. The predict the total sales generated from all the sales channel.  "
   ]
  },
  {
   "cell_type": "code",
   "execution_count": 73,
   "id": "af164148",
   "metadata": {},
   "outputs": [],
   "source": [
    "# importing pandas and numpy\n",
    "import pandas as pd\n",
    "import numpy as np"
   ]
  },
  {
   "cell_type": "code",
   "execution_count": 74,
   "id": "3cf0ea0a",
   "metadata": {},
   "outputs": [],
   "source": [
    "df=pd.read_csv('Advertising.csv')\n",
    "#Downlaod Files:https://github.com/dsrscientist/DSData/blob/master/Advertising.csv"
   ]
  },
  {
   "cell_type": "code",
   "execution_count": 75,
   "id": "2ed5a95c",
   "metadata": {},
   "outputs": [
    {
     "data": {
      "text/html": [
       "<div>\n",
       "<style scoped>\n",
       "    .dataframe tbody tr th:only-of-type {\n",
       "        vertical-align: middle;\n",
       "    }\n",
       "\n",
       "    .dataframe tbody tr th {\n",
       "        vertical-align: top;\n",
       "    }\n",
       "\n",
       "    .dataframe thead th {\n",
       "        text-align: right;\n",
       "    }\n",
       "</style>\n",
       "<table border=\"1\" class=\"dataframe\">\n",
       "  <thead>\n",
       "    <tr style=\"text-align: right;\">\n",
       "      <th></th>\n",
       "      <th>Unnamed: 0</th>\n",
       "      <th>TV</th>\n",
       "      <th>radio</th>\n",
       "      <th>newspaper</th>\n",
       "      <th>sales</th>\n",
       "    </tr>\n",
       "  </thead>\n",
       "  <tbody>\n",
       "    <tr>\n",
       "      <th>0</th>\n",
       "      <td>1</td>\n",
       "      <td>230.1</td>\n",
       "      <td>37.8</td>\n",
       "      <td>69.2</td>\n",
       "      <td>22.1</td>\n",
       "    </tr>\n",
       "    <tr>\n",
       "      <th>1</th>\n",
       "      <td>2</td>\n",
       "      <td>44.5</td>\n",
       "      <td>39.3</td>\n",
       "      <td>45.1</td>\n",
       "      <td>10.4</td>\n",
       "    </tr>\n",
       "    <tr>\n",
       "      <th>2</th>\n",
       "      <td>3</td>\n",
       "      <td>17.2</td>\n",
       "      <td>45.9</td>\n",
       "      <td>69.3</td>\n",
       "      <td>9.3</td>\n",
       "    </tr>\n",
       "    <tr>\n",
       "      <th>3</th>\n",
       "      <td>4</td>\n",
       "      <td>151.5</td>\n",
       "      <td>41.3</td>\n",
       "      <td>58.5</td>\n",
       "      <td>18.5</td>\n",
       "    </tr>\n",
       "    <tr>\n",
       "      <th>4</th>\n",
       "      <td>5</td>\n",
       "      <td>180.8</td>\n",
       "      <td>10.8</td>\n",
       "      <td>58.4</td>\n",
       "      <td>12.9</td>\n",
       "    </tr>\n",
       "    <tr>\n",
       "      <th>...</th>\n",
       "      <td>...</td>\n",
       "      <td>...</td>\n",
       "      <td>...</td>\n",
       "      <td>...</td>\n",
       "      <td>...</td>\n",
       "    </tr>\n",
       "    <tr>\n",
       "      <th>195</th>\n",
       "      <td>196</td>\n",
       "      <td>38.2</td>\n",
       "      <td>3.7</td>\n",
       "      <td>13.8</td>\n",
       "      <td>7.6</td>\n",
       "    </tr>\n",
       "    <tr>\n",
       "      <th>196</th>\n",
       "      <td>197</td>\n",
       "      <td>94.2</td>\n",
       "      <td>4.9</td>\n",
       "      <td>8.1</td>\n",
       "      <td>9.7</td>\n",
       "    </tr>\n",
       "    <tr>\n",
       "      <th>197</th>\n",
       "      <td>198</td>\n",
       "      <td>177.0</td>\n",
       "      <td>9.3</td>\n",
       "      <td>6.4</td>\n",
       "      <td>12.8</td>\n",
       "    </tr>\n",
       "    <tr>\n",
       "      <th>198</th>\n",
       "      <td>199</td>\n",
       "      <td>283.6</td>\n",
       "      <td>42.0</td>\n",
       "      <td>66.2</td>\n",
       "      <td>25.5</td>\n",
       "    </tr>\n",
       "    <tr>\n",
       "      <th>199</th>\n",
       "      <td>200</td>\n",
       "      <td>232.1</td>\n",
       "      <td>8.6</td>\n",
       "      <td>8.7</td>\n",
       "      <td>13.4</td>\n",
       "    </tr>\n",
       "  </tbody>\n",
       "</table>\n",
       "<p>200 rows × 5 columns</p>\n",
       "</div>"
      ],
      "text/plain": [
       "     Unnamed: 0     TV  radio  newspaper  sales\n",
       "0             1  230.1   37.8       69.2   22.1\n",
       "1             2   44.5   39.3       45.1   10.4\n",
       "2             3   17.2   45.9       69.3    9.3\n",
       "3             4  151.5   41.3       58.5   18.5\n",
       "4             5  180.8   10.8       58.4   12.9\n",
       "..          ...    ...    ...        ...    ...\n",
       "195         196   38.2    3.7       13.8    7.6\n",
       "196         197   94.2    4.9        8.1    9.7\n",
       "197         198  177.0    9.3        6.4   12.8\n",
       "198         199  283.6   42.0       66.2   25.5\n",
       "199         200  232.1    8.6        8.7   13.4\n",
       "\n",
       "[200 rows x 5 columns]"
      ]
     },
     "execution_count": 75,
     "metadata": {},
     "output_type": "execute_result"
    }
   ],
   "source": [
    "df"
   ]
  },
  {
   "cell_type": "markdown",
   "id": "fd3e576e",
   "metadata": {},
   "source": [
    "we see from the dataframe that 'unnamed:0 ' column is used for counting.so,we can ignore this column"
   ]
  },
  {
   "cell_type": "code",
   "execution_count": 76,
   "id": "cd2e60ae",
   "metadata": {},
   "outputs": [
    {
     "data": {
      "text/plain": [
       "Unnamed: 0    0\n",
       "TV            0\n",
       "radio         0\n",
       "newspaper     0\n",
       "sales         0\n",
       "dtype: int64"
      ]
     },
     "execution_count": 76,
     "metadata": {},
     "output_type": "execute_result"
    }
   ],
   "source": [
    "#checking null values in the dataframe\n",
    "df.isnull().sum()"
   ]
  },
  {
   "cell_type": "markdown",
   "id": "f03cb111",
   "metadata": {},
   "source": [
    "we see that there is no null values in any columns of the dataframe"
   ]
  },
  {
   "cell_type": "code",
   "execution_count": 77,
   "id": "94ab1e54",
   "metadata": {},
   "outputs": [
    {
     "data": {
      "text/plain": [
       "Index(['Unnamed: 0', 'TV', 'radio', 'newspaper', 'sales'], dtype='object')"
      ]
     },
     "execution_count": 77,
     "metadata": {},
     "output_type": "execute_result"
    }
   ],
   "source": [
    "#checking colum name of the dataframe\n",
    "df.columns"
   ]
  },
  {
   "cell_type": "markdown",
   "id": "ed10a3c9",
   "metadata": {},
   "source": [
    "we see that there is 5 different columns in our dataframe"
   ]
  },
  {
   "cell_type": "code",
   "execution_count": 78,
   "id": "e3b47ecc",
   "metadata": {},
   "outputs": [
    {
     "data": {
      "text/plain": [
       "(200, 5)"
      ]
     },
     "execution_count": 78,
     "metadata": {},
     "output_type": "execute_result"
    }
   ],
   "source": [
    "#checkig our dataframe shape(i.e,checking how many rows and columns in the dataframe)\n",
    "df.shape"
   ]
  },
  {
   "cell_type": "markdown",
   "id": "826a724d",
   "metadata": {},
   "source": [
    "we see that our dataframe has 200 rows and 5 columns"
   ]
  },
  {
   "cell_type": "code",
   "execution_count": 79,
   "id": "ad8c86ef",
   "metadata": {},
   "outputs": [
    {
     "data": {
      "text/plain": [
       "Unnamed: 0      int64\n",
       "TV            float64\n",
       "radio         float64\n",
       "newspaper     float64\n",
       "sales         float64\n",
       "dtype: object"
      ]
     },
     "execution_count": 79,
     "metadata": {},
     "output_type": "execute_result"
    }
   ],
   "source": [
    "#checking which type of data contains in each columns of our dataframe\n",
    "df.dtypes"
   ]
  },
  {
   "cell_type": "markdown",
   "id": "51511b02",
   "metadata": {},
   "source": [
    "we see that each columns except unnamed: 0 are float type"
   ]
  },
  {
   "cell_type": "code",
   "execution_count": 80,
   "id": "58bb6053",
   "metadata": {},
   "outputs": [
    {
     "name": "stdout",
     "output_type": "stream",
     "text": [
      "<class 'pandas.core.frame.DataFrame'>\n",
      "RangeIndex: 200 entries, 0 to 199\n",
      "Data columns (total 5 columns):\n",
      " #   Column      Non-Null Count  Dtype  \n",
      "---  ------      --------------  -----  \n",
      " 0   Unnamed: 0  200 non-null    int64  \n",
      " 1   TV          200 non-null    float64\n",
      " 2   radio       200 non-null    float64\n",
      " 3   newspaper   200 non-null    float64\n",
      " 4   sales       200 non-null    float64\n",
      "dtypes: float64(4), int64(1)\n",
      "memory usage: 7.9 KB\n"
     ]
    }
   ],
   "source": [
    "#checking info\n",
    "df.info()"
   ]
  },
  {
   "cell_type": "markdown",
   "id": "caaecc94",
   "metadata": {},
   "source": [
    "from the above code we can see the every columns data types and memory used by the dataframe"
   ]
  },
  {
   "cell_type": "code",
   "execution_count": 81,
   "id": "3baaae6a",
   "metadata": {},
   "outputs": [
    {
     "data": {
      "text/html": [
       "<div>\n",
       "<style scoped>\n",
       "    .dataframe tbody tr th:only-of-type {\n",
       "        vertical-align: middle;\n",
       "    }\n",
       "\n",
       "    .dataframe tbody tr th {\n",
       "        vertical-align: top;\n",
       "    }\n",
       "\n",
       "    .dataframe thead th {\n",
       "        text-align: right;\n",
       "    }\n",
       "</style>\n",
       "<table border=\"1\" class=\"dataframe\">\n",
       "  <thead>\n",
       "    <tr style=\"text-align: right;\">\n",
       "      <th></th>\n",
       "      <th>Unnamed: 0</th>\n",
       "      <th>TV</th>\n",
       "      <th>radio</th>\n",
       "      <th>newspaper</th>\n",
       "      <th>sales</th>\n",
       "    </tr>\n",
       "  </thead>\n",
       "  <tbody>\n",
       "    <tr>\n",
       "      <th>count</th>\n",
       "      <td>200.000000</td>\n",
       "      <td>200.000000</td>\n",
       "      <td>200.000000</td>\n",
       "      <td>200.000000</td>\n",
       "      <td>200.000000</td>\n",
       "    </tr>\n",
       "    <tr>\n",
       "      <th>mean</th>\n",
       "      <td>100.500000</td>\n",
       "      <td>147.042500</td>\n",
       "      <td>23.264000</td>\n",
       "      <td>30.554000</td>\n",
       "      <td>14.022500</td>\n",
       "    </tr>\n",
       "    <tr>\n",
       "      <th>std</th>\n",
       "      <td>57.879185</td>\n",
       "      <td>85.854236</td>\n",
       "      <td>14.846809</td>\n",
       "      <td>21.778621</td>\n",
       "      <td>5.217457</td>\n",
       "    </tr>\n",
       "    <tr>\n",
       "      <th>min</th>\n",
       "      <td>1.000000</td>\n",
       "      <td>0.700000</td>\n",
       "      <td>0.000000</td>\n",
       "      <td>0.300000</td>\n",
       "      <td>1.600000</td>\n",
       "    </tr>\n",
       "    <tr>\n",
       "      <th>25%</th>\n",
       "      <td>50.750000</td>\n",
       "      <td>74.375000</td>\n",
       "      <td>9.975000</td>\n",
       "      <td>12.750000</td>\n",
       "      <td>10.375000</td>\n",
       "    </tr>\n",
       "    <tr>\n",
       "      <th>50%</th>\n",
       "      <td>100.500000</td>\n",
       "      <td>149.750000</td>\n",
       "      <td>22.900000</td>\n",
       "      <td>25.750000</td>\n",
       "      <td>12.900000</td>\n",
       "    </tr>\n",
       "    <tr>\n",
       "      <th>75%</th>\n",
       "      <td>150.250000</td>\n",
       "      <td>218.825000</td>\n",
       "      <td>36.525000</td>\n",
       "      <td>45.100000</td>\n",
       "      <td>17.400000</td>\n",
       "    </tr>\n",
       "    <tr>\n",
       "      <th>max</th>\n",
       "      <td>200.000000</td>\n",
       "      <td>296.400000</td>\n",
       "      <td>49.600000</td>\n",
       "      <td>114.000000</td>\n",
       "      <td>27.000000</td>\n",
       "    </tr>\n",
       "  </tbody>\n",
       "</table>\n",
       "</div>"
      ],
      "text/plain": [
       "       Unnamed: 0          TV       radio   newspaper       sales\n",
       "count  200.000000  200.000000  200.000000  200.000000  200.000000\n",
       "mean   100.500000  147.042500   23.264000   30.554000   14.022500\n",
       "std     57.879185   85.854236   14.846809   21.778621    5.217457\n",
       "min      1.000000    0.700000    0.000000    0.300000    1.600000\n",
       "25%     50.750000   74.375000    9.975000   12.750000   10.375000\n",
       "50%    100.500000  149.750000   22.900000   25.750000   12.900000\n",
       "75%    150.250000  218.825000   36.525000   45.100000   17.400000\n",
       "max    200.000000  296.400000   49.600000  114.000000   27.000000"
      ]
     },
     "execution_count": 81,
     "metadata": {},
     "output_type": "execute_result"
    }
   ],
   "source": [
    "#describing dataset\n",
    "df.describe()"
   ]
  },
  {
   "cell_type": "markdown",
   "id": "972e3dad",
   "metadata": {},
   "source": [
    "we see the mean,std,min,25 percentile,50 percentile,75 percentile and max of the every column"
   ]
  },
  {
   "cell_type": "code",
   "execution_count": 82,
   "id": "90ce6d4d",
   "metadata": {},
   "outputs": [],
   "source": [
    "#importing seaborn library \n",
    "import seaborn as sns"
   ]
  },
  {
   "cell_type": "code",
   "execution_count": 83,
   "id": "c57e1021",
   "metadata": {},
   "outputs": [
    {
     "data": {
      "text/plain": [
       "<AxesSubplot:>"
      ]
     },
     "execution_count": 83,
     "metadata": {},
     "output_type": "execute_result"
    },
    {
     "data": {
      "image/png": "[encoded data removed]",
      "text/plain": [
       "<Figure size 432x288 with 2 Axes>"
      ]
     },
     "metadata": {
      "needs_background": "light"
     },
     "output_type": "display_data"
    }
   ],
   "source": [
    "#describing dataset using heatmap\n",
    "sns.heatmap(df.describe())"
   ]
  },
  {
   "cell_type": "markdown",
   "id": "0ee08c81",
   "metadata": {},
   "source": [
    "# EDA part"
   ]
  },
  {
   "cell_type": "code",
   "execution_count": 84,
   "id": "a1ab07e5",
   "metadata": {},
   "outputs": [],
   "source": [
    "#import seaborn and matplotlib library\n",
    "import seaborn as sns\n",
    "import matplotlib.pyplot as plt\n",
    "import warnings \n",
    "warnings.filterwarnings('ignore')"
   ]
  },
  {
   "cell_type": "code",
   "execution_count": 85,
   "id": "cb99dafc",
   "metadata": {},
   "outputs": [
    {
     "data": {
      "text/plain": [
       "<AxesSubplot:>"
      ]
     },
     "execution_count": 85,
     "metadata": {},
     "output_type": "execute_result"
    },
    {
     "data": {
      "image/png": "[encoded data removed]",
      "text/plain": [
       "<Figure size 432x288 with 2 Axes>"
      ]
     },
     "metadata": {
      "needs_background": "light"
     },
     "output_type": "display_data"
    }
   ],
   "source": [
    "#missing value check by heatmap\n",
    "sns.heatmap(df.isnull())"
   ]
  },
  {
   "cell_type": "markdown",
   "id": "a8d61b41",
   "metadata": {},
   "source": [
    "we can see also from the heatmap that there is no null values in our dataframe"
   ]
  },
  {
   "cell_type": "code",
   "execution_count": 86,
   "id": "c3783071",
   "metadata": {},
   "outputs": [
    {
     "data": {
      "text/plain": [
       "<AxesSubplot:xlabel='TV', ylabel='Count'>"
      ]
     },
     "execution_count": 86,
     "metadata": {},
     "output_type": "execute_result"
    },
    {
     "data": {
      "image/png": "[encoded data removed]",
      "text/plain": [
       "<Figure size 432x288 with 1 Axes>"
      ]
     },
     "metadata": {
      "needs_background": "light"
     },
     "output_type": "display_data"
    }
   ],
   "source": [
    "#checking histplot of 'TV' column of the dataset\n",
    "sns.histplot(df['TV'])"
   ]
  },
  {
   "cell_type": "markdown",
   "id": "bf9ee83d",
   "metadata": {},
   "source": [
    "we see that data range of \"TV\" column is between 0 to 290 and maximum data contains between 200 to 225"
   ]
  },
  {
   "cell_type": "code",
   "execution_count": 87,
   "id": "08cbefef",
   "metadata": {},
   "outputs": [
    {
     "data": {
      "text/plain": [
       "<AxesSubplot:xlabel='newspaper', ylabel='Count'>"
      ]
     },
     "execution_count": 87,
     "metadata": {},
     "output_type": "execute_result"
    },
    {
     "data": {
      "image/png": "[encoded data removed]",
      "text/plain": [
       "<Figure size 432x288 with 1 Axes>"
      ]
     },
     "metadata": {
      "needs_background": "light"
     },
     "output_type": "display_data"
    }
   ],
   "source": [
    "#checking histplot of 'newspaper' column of the dataset\n",
    "sns.histplot(df['newspaper'])"
   ]
  },
  {
   "cell_type": "markdown",
   "id": "bb1d0943",
   "metadata": {},
   "source": [
    "we see that the data range of 'newspaper' columns is between 0 to 150 and maximum data contains between 0 to 10"
   ]
  },
  {
   "cell_type": "code",
   "execution_count": 88,
   "id": "4773eef4",
   "metadata": {},
   "outputs": [
    {
     "data": {
      "text/plain": [
       "<AxesSubplot:xlabel='radio', ylabel='Count'>"
      ]
     },
     "execution_count": 88,
     "metadata": {},
     "output_type": "execute_result"
    },
    {
     "data": {
      "image/png": "[encoded data removed]",
      "text/plain": [
       "<Figure size 432x288 with 1 Axes>"
      ]
     },
     "metadata": {
      "needs_background": "light"
     },
     "output_type": "display_data"
    }
   ],
   "source": [
    "#checking histplot of 'Sales' column of the dataset\n",
    "sns.histplot(df['radio'])"
   ]
  },
  {
   "cell_type": "markdown",
   "id": "218fb1c8",
   "metadata": {},
   "source": [
    "We see that the data range of \"radio\" columns is between 0 to 50 approximately and maximum data contains between 0 to 5"
   ]
  },
  {
   "cell_type": "code",
   "execution_count": 89,
   "id": "30c7298f",
   "metadata": {},
   "outputs": [
    {
     "data": {
      "text/plain": [
       "<AxesSubplot:xlabel='sales', ylabel='Count'>"
      ]
     },
     "execution_count": 89,
     "metadata": {},
     "output_type": "execute_result"
    },
    {
     "data": {
      "image/png": "[encoded data removed]",
      "text/plain": [
       "<Figure size 432x288 with 1 Axes>"
      ]
     },
     "metadata": {
      "needs_background": "light"
     },
     "output_type": "display_data"
    }
   ],
   "source": [
    "#checking histplot of 'Sales' column of the dataset\n",
    "sns.histplot(df['sales'])"
   ]
  },
  {
   "cell_type": "markdown",
   "id": "f90c5404",
   "metadata": {},
   "source": [
    "we see that the data range of 'sales' column is between 2 to 28 and maximum data contains between 11 to 13"
   ]
  },
  {
   "cell_type": "code",
   "execution_count": 90,
   "id": "f82522de",
   "metadata": {},
   "outputs": [
    {
     "data": {
      "text/plain": [
       "<AxesSubplot:xlabel='TV', ylabel='sales'>"
      ]
     },
     "execution_count": 90,
     "metadata": {},
     "output_type": "execute_result"
    },
    {
     "data": {
      "image/png": "[encoded data removed]",
      "text/plain": [
       "<Figure size 432x288 with 1 Axes>"
      ]
     },
     "metadata": {
      "needs_background": "light"
     },
     "output_type": "display_data"
    }
   ],
   "source": [
    "sns.scatterplot(df['TV'],df['sales'])"
   ]
  },
  {
   "cell_type": "markdown",
   "id": "6e2c92cb",
   "metadata": {},
   "source": [
    "by above code we set up the relation between \"TV\" and \"Sales\" column.we clearly show that when data of \"TV\" columns increasing,sales is also increasing."
   ]
  },
  {
   "cell_type": "code",
   "execution_count": 91,
   "id": "a04c9199",
   "metadata": {},
   "outputs": [
    {
     "data": {
      "text/plain": [
       "<AxesSubplot:xlabel='radio', ylabel='sales'>"
      ]
     },
     "execution_count": 91,
     "metadata": {},
     "output_type": "execute_result"
    },
    {
     "data": {
      "image/png": "[encoded data removed]",
      "text/plain": [
       "<Figure size 432x288 with 1 Axes>"
      ]
     },
     "metadata": {
      "needs_background": "light"
     },
     "output_type": "display_data"
    }
   ],
   "source": [
    "sns.scatterplot(df['radio'],df['sales'])"
   ]
  },
  {
   "cell_type": "markdown",
   "id": "5cc2ebd9",
   "metadata": {},
   "source": [
    "from the above plot we clearly show that the data in the radio column and sales column are proportional. "
   ]
  },
  {
   "cell_type": "code",
   "execution_count": 92,
   "id": "1cdd2f66",
   "metadata": {},
   "outputs": [
    {
     "data": {
      "text/plain": [
       "<AxesSubplot:xlabel='newspaper', ylabel='sales'>"
      ]
     },
     "execution_count": 92,
     "metadata": {},
     "output_type": "execute_result"
    },
    {
     "data": {
      "image/png": "[encoded data removed]",
      "text/plain": [
       "<Figure size 432x288 with 1 Axes>"
      ]
     },
     "metadata": {
      "needs_background": "light"
     },
     "output_type": "display_data"
    }
   ],
   "source": [
    "sns.scatterplot(df['newspaper'],df['sales'])"
   ]
  },
  {
   "cell_type": "markdown",
   "id": "0fce8d38",
   "metadata": {},
   "source": [
    "by above code we set up the relation between \"Newspaper\" and \"Sales\" column.but we clearly show that there is no relation between data \"Newspaper\" and \"Sales\" column."
   ]
  },
  {
   "cell_type": "code",
   "execution_count": 93,
   "id": "db81467f",
   "metadata": {},
   "outputs": [
    {
     "data": {
      "text/plain": [
       "<AxesSubplot:xlabel='newspaper', ylabel='TV'>"
      ]
     },
     "execution_count": 93,
     "metadata": {},
     "output_type": "execute_result"
    },
    {
     "data": {
      "image/png": "[encoded data removed]",
      "text/plain": [
       "<Figure size 432x288 with 1 Axes>"
      ]
     },
     "metadata": {
      "needs_background": "light"
     },
     "output_type": "display_data"
    }
   ],
   "source": [
    "sns.scatterplot(df['newspaper'],df['TV'])"
   ]
  },
  {
   "cell_type": "markdown",
   "id": "370c22fe",
   "metadata": {},
   "source": [
    "we see that ther is no relation between \"newspaper\" and \"TV\" columns data"
   ]
  },
  {
   "cell_type": "code",
   "execution_count": 94,
   "id": "12e2631d",
   "metadata": {},
   "outputs": [
    {
     "data": {
      "text/plain": [
       "<AxesSubplot:xlabel='newspaper', ylabel='radio'>"
      ]
     },
     "execution_count": 94,
     "metadata": {},
     "output_type": "execute_result"
    },
    {
     "data": {
      "image/png": "[encoded data removed]",
      "text/plain": [
       "<Figure size 432x288 with 1 Axes>"
      ]
     },
     "metadata": {
      "needs_background": "light"
     },
     "output_type": "display_data"
    }
   ],
   "source": [
    "sns.scatterplot(df['newspaper'],df['radio'])"
   ]
  },
  {
   "cell_type": "markdown",
   "id": "8e9d17b2",
   "metadata": {},
   "source": [
    "we see that there is no relation between \"newspaper\" and \"radio\" columns data."
   ]
  },
  {
   "cell_type": "code",
   "execution_count": 95,
   "id": "3b450537",
   "metadata": {},
   "outputs": [
    {
     "data": {
      "text/plain": [
       "<seaborn.axisgrid.JointGrid at 0x1d4f8d24ca0>"
      ]
     },
     "execution_count": 95,
     "metadata": {},
     "output_type": "execute_result"
    },
    {
     "data": {
      "image/png": "[encoded data removed]",
      "text/plain": [
       "<Figure size 432x432 with 3 Axes>"
      ]
     },
     "metadata": {
      "needs_background": "light"
     },
     "output_type": "display_data"
    }
   ],
   "source": [
    "sns.jointplot(df['newspaper'],df['sales'])"
   ]
  },
  {
   "cell_type": "code",
   "execution_count": 96,
   "id": "6d7e5e24",
   "metadata": {},
   "outputs": [
    {
     "data": {
      "text/plain": [
       "<seaborn.axisgrid.JointGrid at 0x1d4f8e5dcd0>"
      ]
     },
     "execution_count": 96,
     "metadata": {},
     "output_type": "execute_result"
    },
    {
     "data": {
      "image/png": "[encoded data removed]",
      "text/plain": [
       "<Figure size 432x432 with 3 Axes>"
      ]
     },
     "metadata": {
      "needs_background": "light"
     },
     "output_type": "display_data"
    }
   ],
   "source": [
    "sns.jointplot(df['radio'],df['sales'])"
   ]
  },
  {
   "cell_type": "code",
   "execution_count": 97,
   "id": "e9b50b3e",
   "metadata": {},
   "outputs": [
    {
     "data": {
      "text/plain": [
       "<seaborn.axisgrid.JointGrid at 0x1d4f8f2ae50>"
      ]
     },
     "execution_count": 97,
     "metadata": {},
     "output_type": "execute_result"
    },
    {
     "data": {
      "image/png": "[encoded data removed]",
      "text/plain": [
       "<Figure size 432x432 with 3 Axes>"
      ]
     },
     "metadata": {
      "needs_background": "light"
     },
     "output_type": "display_data"
    }
   ],
   "source": [
    "sns.jointplot(df['TV'],df['sales'])"
   ]
  },
  {
   "cell_type": "code",
   "execution_count": 98,
   "id": "cb7312a2",
   "metadata": {},
   "outputs": [
    {
     "data": {
      "text/plain": [
       "<AxesSubplot:xlabel='TV'>"
      ]
     },
     "execution_count": 98,
     "metadata": {},
     "output_type": "execute_result"
    },
    {
     "data": {
      "image/png": "[encoded data removed]",
      "text/plain": [
       "<Figure size 432x288 with 1 Axes>"
      ]
     },
     "metadata": {
      "needs_background": "light"
     },
     "output_type": "display_data"
    }
   ],
   "source": [
    "sns.violinplot(df['TV'])"
   ]
  },
  {
   "cell_type": "code",
   "execution_count": 99,
   "id": "159eccd4",
   "metadata": {},
   "outputs": [
    {
     "data": {
      "text/plain": [
       "<AxesSubplot:xlabel='radio'>"
      ]
     },
     "execution_count": 99,
     "metadata": {},
     "output_type": "execute_result"
    },
    {
     "data": {
      "image/png": "[encoded data removed]",
      "text/plain": [
       "<Figure size 432x288 with 1 Axes>"
      ]
     },
     "metadata": {
      "needs_background": "light"
     },
     "output_type": "display_data"
    }
   ],
   "source": [
    "sns.violinplot(df['radio'])"
   ]
  },
  {
   "cell_type": "code",
   "execution_count": 100,
   "id": "224444ce",
   "metadata": {},
   "outputs": [
    {
     "data": {
      "text/plain": [
       "<AxesSubplot:xlabel='newspaper'>"
      ]
     },
     "execution_count": 100,
     "metadata": {},
     "output_type": "execute_result"
    },
    {
     "data": {
      "image/png": "[encoded data removed]",
      "text/plain": [
       "<Figure size 432x288 with 1 Axes>"
      ]
     },
     "metadata": {
      "needs_background": "light"
     },
     "output_type": "display_data"
    }
   ],
   "source": [
    "sns.violinplot(df['newspaper'])"
   ]
  },
  {
   "cell_type": "code",
   "execution_count": 101,
   "id": "9a43c75f",
   "metadata": {},
   "outputs": [
    {
     "data": {
      "text/plain": [
       "<AxesSubplot:xlabel='sales'>"
      ]
     },
     "execution_count": 101,
     "metadata": {},
     "output_type": "execute_result"
    },
    {
     "data": {
      "image/png": "[encoded data removed]",
      "text/plain": [
       "<Figure size 432x288 with 1 Axes>"
      ]
     },
     "metadata": {
      "needs_background": "light"
     },
     "output_type": "display_data"
    }
   ],
   "source": [
    "sns.violinplot(df['sales'])"
   ]
  },
  {
   "cell_type": "code",
   "execution_count": null,
   "id": "9eef4d29",
   "metadata": {},
   "outputs": [],
   "source": []
  },
  {
   "cell_type": "code",
   "execution_count": 102,
   "id": "340c4e6a",
   "metadata": {},
   "outputs": [
    {
     "data": {
      "text/plain": [
       "<seaborn.axisgrid.PairGrid at 0x1d4fa112b20>"
      ]
     },
     "execution_count": 102,
     "metadata": {},
     "output_type": "execute_result"
    },
    {
     "data": {
      "image/png": "[encoded data removed]",
      "text/plain": [
       "<Figure size 900x900 with 30 Axes>"
      ]
     },
     "metadata": {
      "needs_background": "light"
     },
     "output_type": "display_data"
    }
   ],
   "source": [
    "sns.pairplot(df)"
   ]
  },
  {
   "cell_type": "code",
   "execution_count": 103,
   "id": "2f215c6d",
   "metadata": {},
   "outputs": [
    {
     "data": {
      "text/html": [
       "<div>\n",
       "<style scoped>\n",
       "    .dataframe tbody tr th:only-of-type {\n",
       "        vertical-align: middle;\n",
       "    }\n",
       "\n",
       "    .dataframe tbody tr th {\n",
       "        vertical-align: top;\n",
       "    }\n",
       "\n",
       "    .dataframe thead th {\n",
       "        text-align: right;\n",
       "    }\n",
       "</style>\n",
       "<table border=\"1\" class=\"dataframe\">\n",
       "  <thead>\n",
       "    <tr style=\"text-align: right;\">\n",
       "      <th></th>\n",
       "      <th>Unnamed: 0</th>\n",
       "      <th>TV</th>\n",
       "      <th>radio</th>\n",
       "      <th>newspaper</th>\n",
       "      <th>sales</th>\n",
       "    </tr>\n",
       "  </thead>\n",
       "  <tbody>\n",
       "    <tr>\n",
       "      <th>Unnamed: 0</th>\n",
       "      <td>1.000000</td>\n",
       "      <td>0.017715</td>\n",
       "      <td>-0.110680</td>\n",
       "      <td>-0.154944</td>\n",
       "      <td>-0.051616</td>\n",
       "    </tr>\n",
       "    <tr>\n",
       "      <th>TV</th>\n",
       "      <td>0.017715</td>\n",
       "      <td>1.000000</td>\n",
       "      <td>0.054809</td>\n",
       "      <td>0.056648</td>\n",
       "      <td>0.782224</td>\n",
       "    </tr>\n",
       "    <tr>\n",
       "      <th>radio</th>\n",
       "      <td>-0.110680</td>\n",
       "      <td>0.054809</td>\n",
       "      <td>1.000000</td>\n",
       "      <td>0.354104</td>\n",
       "      <td>0.576223</td>\n",
       "    </tr>\n",
       "    <tr>\n",
       "      <th>newspaper</th>\n",
       "      <td>-0.154944</td>\n",
       "      <td>0.056648</td>\n",
       "      <td>0.354104</td>\n",
       "      <td>1.000000</td>\n",
       "      <td>0.228299</td>\n",
       "    </tr>\n",
       "    <tr>\n",
       "      <th>sales</th>\n",
       "      <td>-0.051616</td>\n",
       "      <td>0.782224</td>\n",
       "      <td>0.576223</td>\n",
       "      <td>0.228299</td>\n",
       "      <td>1.000000</td>\n",
       "    </tr>\n",
       "  </tbody>\n",
       "</table>\n",
       "</div>"
      ],
      "text/plain": [
       "            Unnamed: 0        TV     radio  newspaper     sales\n",
       "Unnamed: 0    1.000000  0.017715 -0.110680  -0.154944 -0.051616\n",
       "TV            0.017715  1.000000  0.054809   0.056648  0.782224\n",
       "radio        -0.110680  0.054809  1.000000   0.354104  0.576223\n",
       "newspaper    -0.154944  0.056648  0.354104   1.000000  0.228299\n",
       "sales        -0.051616  0.782224  0.576223   0.228299  1.000000"
      ]
     },
     "execution_count": 103,
     "metadata": {},
     "output_type": "execute_result"
    }
   ],
   "source": [
    "#checking correlation\n",
    "df.corr()"
   ]
  },
  {
   "cell_type": "code",
   "execution_count": 104,
   "id": "1506406f",
   "metadata": {},
   "outputs": [
    {
     "data": {
      "text/plain": [
       "<AxesSubplot:>"
      ]
     },
     "execution_count": 104,
     "metadata": {},
     "output_type": "execute_result"
    },
    {
     "data": {
      "image/png": "[encoded data removed]",
      "text/plain": [
       "<Figure size 1080x504 with 2 Axes>"
      ]
     },
     "metadata": {
      "needs_background": "light"
     },
     "output_type": "display_data"
    }
   ],
   "source": [
    "#checking correlation using by heatmap\n",
    "plt.figure(figsize=(15,7))\n",
    "sns.heatmap(df.corr(),cmap='Blues',annot=True)"
   ]
  },
  {
   "cell_type": "markdown",
   "id": "86bd1438",
   "metadata": {},
   "source": [
    "From the above plot we show that\n",
    "1.\"Sales\" column and \"TV\" column are highly correlated.Correlation between two columns is 78%\n",
    "2.\"radio\" column is 58% positively corelated with \"Sales\" column.which consider as a good correlation.\n",
    "3.\"newspapere\" column is 23% positively correlated with \"Sales\" column which is not consider as a good correlation.\n",
    "4.\"TV\" column is 5% positively correlated with \"radio\" and \"newspaper\" column which is consider as a bad correlation.\n",
    "5.\"radio\" column is 35% positively correlated with \"newspaper\""
   ]
  },
  {
   "cell_type": "code",
   "execution_count": 105,
   "id": "1dca6aa8",
   "metadata": {},
   "outputs": [
    {
     "data": {
      "text/plain": [
       "Unnamed: 0    0.000000\n",
       "TV           -0.069853\n",
       "radio         0.094175\n",
       "newspaper     0.894720\n",
       "sales         0.407571\n",
       "dtype: float64"
      ]
     },
     "execution_count": 105,
     "metadata": {},
     "output_type": "execute_result"
    }
   ],
   "source": [
    "#checking skewness\n",
    "df.skew()"
   ]
  },
  {
   "cell_type": "markdown",
   "id": "9dc6e0ff",
   "metadata": {},
   "source": [
    "from the above code we see the skewness of the every column which is present in our dataset."
   ]
  },
  {
   "cell_type": "markdown",
   "id": "e7fa9196",
   "metadata": {},
   "source": [
    " Normal Distribution curve:"
   ]
  },
  {
   "cell_type": "code",
   "execution_count": 106,
   "id": "356400c7",
   "metadata": {},
   "outputs": [
    {
     "data": {
      "text/plain": [
       "<AxesSubplot:xlabel='TV', ylabel='Density'>"
      ]
     },
     "execution_count": 106,
     "metadata": {},
     "output_type": "execute_result"
    },
    {
     "data": {
      "image/png": "[encoded data removed]",
      "text/plain": [
       "<Figure size 432x288 with 1 Axes>"
      ]
     },
     "metadata": {
      "needs_background": "light"
     },
     "output_type": "display_data"
    }
   ],
   "source": [
    "#normal distribution curve of \"TV\" columns\n",
    "sns.distplot(df[\"TV\"])"
   ]
  },
  {
   "cell_type": "markdown",
   "id": "609628da",
   "metadata": {},
   "source": [
    "we see that the normal distribution curve of \"TV\" column is not normalised.The building blocks is out of the normalised curve.the normal distribution curve shows that the the data is skewed."
   ]
  },
  {
   "cell_type": "code",
   "execution_count": 107,
   "id": "d786c9d0",
   "metadata": {},
   "outputs": [
    {
     "data": {
      "text/plain": [
       "<AxesSubplot:xlabel='radio', ylabel='Density'>"
      ]
     },
     "execution_count": 107,
     "metadata": {},
     "output_type": "execute_result"
    },
    {
     "data": {
      "image/png": "[encoded data removed]",
      "text/plain": [
       "<Figure size 432x288 with 1 Axes>"
      ]
     },
     "metadata": {
      "needs_background": "light"
     },
     "output_type": "display_data"
    }
   ],
   "source": [
    "#normal distribution curve of \"radio\" columns\n",
    "sns.distplot(df[\"radio\"])"
   ]
  },
  {
   "cell_type": "markdown",
   "id": "eaeab9b7",
   "metadata": {},
   "source": [
    "we see that the normal distribution curve of \"radio\" column is not normalised.the building blocks is out of the normalised curve.so,skewness present in the \"radio\" column."
   ]
  },
  {
   "cell_type": "code",
   "execution_count": 108,
   "id": "c554edb6",
   "metadata": {},
   "outputs": [
    {
     "data": {
      "text/plain": [
       "<AxesSubplot:xlabel='newspaper', ylabel='Density'>"
      ]
     },
     "execution_count": 108,
     "metadata": {},
     "output_type": "execute_result"
    },
    {
     "data": {
      "image/png": "[encoded data removed]",
      "text/plain": [
       "<Figure size 432x288 with 1 Axes>"
      ]
     },
     "metadata": {
      "needs_background": "light"
     },
     "output_type": "display_data"
    }
   ],
   "source": [
    "#normal distribution curve of \"newspaper\" columns\n",
    "sns.distplot(df[\"newspaper\"])"
   ]
  },
  {
   "cell_type": "markdown",
   "id": "5c5bbb82",
   "metadata": {},
   "source": [
    "we see that the normal distribution curve of \"newspaper\" column is not normalised.the building blocks is out of the normalised curve.so,skewness present in the \"newspaper\" column."
   ]
  },
  {
   "cell_type": "code",
   "execution_count": 109,
   "id": "0e209456",
   "metadata": {},
   "outputs": [
    {
     "data": {
      "text/plain": [
       "<AxesSubplot:xlabel='sales', ylabel='Density'>"
      ]
     },
     "execution_count": 109,
     "metadata": {},
     "output_type": "execute_result"
    },
    {
     "data": {
      "image/png": "[encoded data removed]",
      "text/plain": [
       "<Figure size 432x288 with 1 Axes>"
      ]
     },
     "metadata": {
      "needs_background": "light"
     },
     "output_type": "display_data"
    }
   ],
   "source": [
    "#normal distribution curve of \"sales\" columns\n",
    "sns.distplot(df[\"sales\"])"
   ]
  },
  {
   "cell_type": "markdown",
   "id": "97fbb057",
   "metadata": {},
   "source": [
    "we see that the normal distribution curve of \"sales\" column is not normalised.the building blocks is out of the normalised curve.so,few skewness present in the \"sales\" column."
   ]
  },
  {
   "cell_type": "markdown",
   "id": "b133babb",
   "metadata": {},
   "source": [
    "# Checking Outliers"
   ]
  },
  {
   "cell_type": "code",
   "execution_count": 110,
   "id": "7c0933f3",
   "metadata": {},
   "outputs": [
    {
     "data": {
      "text/plain": [
       "<AxesSubplot:xlabel='TV'>"
      ]
     },
     "execution_count": 110,
     "metadata": {},
     "output_type": "execute_result"
    },
    {
     "data": {
      "image/png": "[encoded data removed]",
      "text/plain": [
       "<Figure size 432x288 with 1 Axes>"
      ]
     },
     "metadata": {
      "needs_background": "light"
     },
     "output_type": "display_data"
    }
   ],
   "source": [
    "#checking outliers in \"TV\" column\n",
    "sns.boxplot(df[\"TV\"])"
   ]
  },
  {
   "cell_type": "markdown",
   "id": "0ec40d1e",
   "metadata": {},
   "source": [
    "we see that there is no outliers present in the \"TV\" column of our dataset"
   ]
  },
  {
   "cell_type": "code",
   "execution_count": 111,
   "id": "4515f570",
   "metadata": {},
   "outputs": [
    {
     "data": {
      "text/plain": [
       "<AxesSubplot:xlabel='radio'>"
      ]
     },
     "execution_count": 111,
     "metadata": {},
     "output_type": "execute_result"
    },
    {
     "data": {
      "image/png": "[encoded data removed]",
      "text/plain": [
       "<Figure size 432x288 with 1 Axes>"
      ]
     },
     "metadata": {
      "needs_background": "light"
     },
     "output_type": "display_data"
    }
   ],
   "source": [
    "#checking outliers in \"radio\" column\n",
    "sns.boxplot(df[\"radio\"])"
   ]
  },
  {
   "cell_type": "markdown",
   "id": "605023b2",
   "metadata": {},
   "source": [
    "we see that there is no outliers present in the \"radio\" column"
   ]
  },
  {
   "cell_type": "code",
   "execution_count": 112,
   "id": "824d0c4c",
   "metadata": {},
   "outputs": [
    {
     "data": {
      "text/plain": [
       "<AxesSubplot:xlabel='newspaper'>"
      ]
     },
     "execution_count": 112,
     "metadata": {},
     "output_type": "execute_result"
    },
    {
     "data": {
      "image/png": "[encoded data removed]",
      "text/plain": [
       "<Figure size 432x288 with 1 Axes>"
      ]
     },
     "metadata": {
      "needs_background": "light"
     },
     "output_type": "display_data"
    }
   ],
   "source": [
    "#checking outliers in \"newspaper\" column\n",
    "sns.boxplot(df[\"newspaper\"])"
   ]
  },
  {
   "cell_type": "markdown",
   "id": "509bd730",
   "metadata": {},
   "source": [
    "we see that only two outliers present in \"newspaper\" column"
   ]
  },
  {
   "cell_type": "code",
   "execution_count": 113,
   "id": "c10af0e4",
   "metadata": {},
   "outputs": [
    {
     "data": {
      "text/plain": [
       "<AxesSubplot:xlabel='sales'>"
      ]
     },
     "execution_count": 113,
     "metadata": {},
     "output_type": "execute_result"
    },
    {
     "data": {
      "image/png": "[encoded data removed]",
      "text/plain": [
       "<Figure size 432x288 with 1 Axes>"
      ]
     },
     "metadata": {
      "needs_background": "light"
     },
     "output_type": "display_data"
    }
   ],
   "source": [
    "#checking outliers in \"sales\" column\n",
    "sns.boxplot(df[\"sales\"])"
   ]
  },
  {
   "cell_type": "markdown",
   "id": "0655bb3c",
   "metadata": {},
   "source": [
    "we see that there is no outliers present in the \"sales\" column of our dataframre"
   ]
  },
  {
   "cell_type": "markdown",
   "id": "d8e5786d",
   "metadata": {},
   "source": [
    "# Removing Outliers"
   ]
  },
  {
   "cell_type": "code",
   "execution_count": 114,
   "id": "9c3e8750",
   "metadata": {},
   "outputs": [
    {
     "data": {
      "text/plain": [
       "array([[1.72341210e+00, 9.69852266e-01, 9.81522472e-01, 1.77894547e+00,\n",
       "        1.55205313e+00],\n",
       "       [1.70609137e+00, 1.19737623e+00, 1.08280781e+00, 6.69578760e-01,\n",
       "        6.96046111e-01],\n",
       "       [1.68877065e+00, 1.51615499e+00, 1.52846331e+00, 1.78354865e+00,\n",
       "        9.07405869e-01],\n",
       "       [1.67144992e+00, 5.20496822e-02, 1.21785493e+00, 1.28640506e+00,\n",
       "        8.60330287e-01],\n",
       "       [1.65412920e+00, 3.94182198e-01, 8.41613655e-01, 1.28180188e+00,\n",
       "        2.15683025e-01],\n",
       "       [1.63680847e+00, 1.61540845e+00, 1.73103399e+00, 2.04592999e+00,\n",
       "        1.31091086e+00],\n",
       "       [1.61948775e+00, 1.04557682e+00, 6.43904671e-01, 3.24708413e-01,\n",
       "        4.27042783e-01],\n",
       "       [1.60216702e+00, 3.13436589e-01, 2.47406325e-01, 8.72486994e-01,\n",
       "        1.58039455e-01],\n",
       "       [1.58484630e+00, 1.61657614e+00, 1.42906863e+00, 1.36042422e+00,\n",
       "        1.77205942e+00],\n",
       "       [1.56752558e+00, 6.16042873e-01, 1.39530685e+00, 4.30581584e-01,\n",
       "        6.57617064e-01],\n",
       "       [1.55020485e+00, 9.45155670e-01, 1.17923146e+00, 2.92486143e-01,\n",
       "        1.04190753e+00],\n",
       "       [1.53288413e+00, 7.90028350e-01, 4.96973404e-02, 1.22232878e+00,\n",
       "        6.48970529e-01],\n",
       "       [1.51556340e+00, 1.43908760e+00, 7.99208859e-01, 1.62704048e+00,\n",
       "        9.26620392e-01],\n",
       "       [1.49824268e+00, 5.78501712e-01, 1.05768905e+00, 1.07502697e+00,\n",
       "        8.30547775e-01],\n",
       "       [1.48092195e+00, 6.66253447e-01, 6.50657027e-01, 7.11007392e-01,\n",
       "        9.56402904e-01],\n",
       "       [1.46360123e+00, 5.64664612e-01, 1.65000572e+00, 1.02862691e+00,\n",
       "        1.60969670e+00],\n",
       "       [1.44628050e+00, 9.25304978e-01, 9.00494200e-01, 3.84117072e+00,\n",
       "        2.92541119e-01],\n",
       "       [1.42895978e+00, 1.56887609e+00, 1.10306488e+00, 1.16211917e+00,\n",
       "        1.99398717e+00],\n",
       "       [1.41163905e+00, 9.08957349e-01, 1.86635121e-01, 5.64073843e-01,\n",
       "        5.23115400e-01],\n",
       "       [1.39431833e+00, 3.00679600e-03, 4.29449843e-02, 5.27248393e-01,\n",
       "        1.10963873e-01],\n",
       "       [1.37699760e+00, 8.33232798e-01, 2.99534513e-01, 1.05164281e+00,\n",
       "        7.64257669e-01],\n",
       "       [1.35967688e+00, 1.05509347e+00, 1.22649795e+00, 3.24708413e-01,\n",
       "        2.92541119e-01],\n",
       "       [1.34235616e+00, 1.56286250e+00, 4.97243498e-01, 8.76721921e-01,\n",
       "        1.61834324e+00],\n",
       "       [1.32503543e+00, 9.48833887e-01, 4.29719938e-01, 2.00422516e-01,\n",
       "        2.83894584e-01],\n",
       "       [1.30771471e+00, 9.89527805e-01, 7.20071247e-01, 5.64073843e-01,\n",
       "        8.30547775e-01],\n",
       "       [1.29039398e+00, 1.35285385e+00, 1.33453565e+00, 5.08835667e-01,\n",
       "        3.88613736e-01],\n",
       "       [1.27307326e+00, 4.83714657e-02, 4.07572210e-01, 8.26455181e-01,\n",
       "        1.87821967e-01],\n",
       "       [1.25575253e+00, 1.08662104e+00, 4.43224650e-01, 3.52327501e-01,\n",
       "        3.60752677e-01],\n",
       "       [1.23843181e+00, 1.18820988e+00, 2.59020377e-01, 3.52327501e-01,\n",
       "        9.37188380e-01],\n",
       "       [1.22111108e+00, 8.92609721e-01, 4.90491142e-01, 4.71641962e-01,\n",
       "        6.76831588e-01],\n",
       "       [1.20379036e+00, 1.70316018e+00, 3.40048650e-01, 5.82118314e-01,\n",
       "        1.41755147e+00],\n",
       "       [1.18646963e+00, 3.98677796e-01, 3.95958157e-01, 3.70371972e-01,\n",
       "        4.07828260e-01],\n",
       "       [1.16914891e+00, 5.82004775e-01, 1.46958277e+00, 2.55016247e-02,\n",
       "        8.49762299e-01],\n",
       "       [1.15182818e+00, 1.38438142e+00, 2.20396901e-01, 1.39264649e+00,\n",
       "        6.48970529e-01],\n",
       "       [1.13450746e+00, 5.99520091e-01, 1.47633512e+00, 1.06582061e+00,\n",
       "        8.68976822e-01],\n",
       "       [1.11718674e+00, 1.67747105e+00, 1.29402151e+00, 1.01518562e+00,\n",
       "        2.34897549e-01],\n",
       "       [1.09986601e+00, 1.39956136e+00, 1.38666383e+00, 1.17629696e+00,\n",
       "        2.18613240e+00],\n",
       "       [1.08254529e+00, 8.44734522e-01, 1.76479577e+00, 6.97197848e-01,\n",
       "        1.30178396e-01],\n",
       "       [1.06522456e+00, 1.21372386e+00, 2.32010953e-01, 2.09260624e-01,\n",
       "        7.53689682e-01],\n",
       "       [1.04790384e+00, 9.45330823e-01, 9.74770116e-01, 6.65620024e-02,\n",
       "        1.43676599e+00],\n",
       "       [1.03058311e+00, 6.47570443e-01, 6.50927121e-02, 4.81492770e-02,\n",
       "        4.95254341e-01],\n",
       "       [1.01326239e+00, 3.49810063e-01, 6.84418807e-01, 3.74975153e-01,\n",
       "        5.91326959e-01],\n",
       "       [9.95941664e-01, 1.71133400e+00, 2.99534513e-01, 1.32359877e+00,\n",
       "        1.28304980e+00],\n",
       "       [9.78620939e-01, 6.98948705e-01, 1.00367020e+00, 1.91216154e-01,\n",
       "        2.15683025e-01],\n",
       "       [9.61300215e-01, 1.42390765e+00, 1.64487393e-01, 5.86721496e-01,\n",
       "        1.06112206e+00],\n",
       "       [9.43979490e-01, 3.27623995e-01, 5.15880000e-02, 4.35460956e-02,\n",
       "        1.68607443e-01],\n",
       "       [9.26658765e-01, 6.69581357e-01, 9.02384859e-01, 2.36879713e-01,\n",
       "        6.57617064e-01],\n",
       "       [9.09338041e-01, 1.08428567e+00, 1.23135965e+00, 5.54867481e-01,\n",
       "        1.76341289e+00],\n",
       "       [8.92017316e-01, 9.35989321e-01, 5.03995854e-01, 8.90531465e-01,\n",
       "        1.49392920e-01],\n",
       "       [8.74696592e-01, 9.35814168e-01, 7.80842451e-01, 2.87514708e-01,\n",
       "        8.30547775e-01],\n",
       "       [8.57375867e-01, 6.16042873e-01, 1.36154507e+00, 1.86244718e-01,\n",
       "        5.03900877e-01],\n",
       "       [8.40055142e-01, 5.44638766e-01, 9.22641928e-01, 1.24074150e+00,\n",
       "        6.38402541e-01],\n",
       "       [8.22734418e-01, 8.09879042e-01, 1.24486436e+00, 4.16403786e-01,\n",
       "        1.64812575e+00],\n",
       "       [8.05413693e-01, 4.15200577e-01, 1.54872038e+00, 1.29561142e+00,\n",
       "        1.37912242e+00],\n",
       "       [7.88092969e-01, 1.35051848e+00, 3.73810430e-01, 6.74550196e-01,\n",
       "        1.18697718e+00],\n",
       "       [7.70772244e-01, 6.05533683e-01, 1.76479577e+00, 1.35545278e+00,\n",
       "        1.85948550e+00],\n",
       "       [7.53451519e-01, 1.63175608e+00, 3.26543937e-01, 4.99261050e-01,\n",
       "        1.63755776e+00],\n",
       "       [7.36130795e-01, 1.26606546e-01, 2.74415749e-01, 6.42327927e-01,\n",
       "        1.58039455e-01],\n",
       "       [7.18810070e-01, 7.44488528e-01, 1.77830048e+00, 3.28943340e-01,\n",
       "        1.87870003e+00],\n",
       "       [7.01489346e-01, 7.43320840e-01, 4.21076922e-01, 9.78360166e-01,\n",
       "        8.41115763e-01],\n",
       "       [6.84168621e-01, 1.09228433e+00, 1.43582099e+00, 4.21375221e-01,\n",
       "        1.13798015e+00],\n",
       "       [6.66847897e-01, 1.33417085e+00, 1.31238792e+00, 1.11148417e+00,\n",
       "        1.95555812e+00],\n",
       "       [6.49527172e-01, 1.07727954e+00, 5.24252922e-01, 1.49787521e-01,\n",
       "        3.22323631e-01],\n",
       "       [6.32206447e-01, 5.17781948e-01, 4.27829278e-01, 1.01978880e+00,\n",
       "        4.32326777e-03],\n",
       "       [6.14885723e-01, 1.86158622e-01, 1.31914027e+00, 7.61366196e-02,\n",
       "        7.64257669e-01],\n",
       "       [5.97564998e-01, 9.11292725e-01, 9.42898996e-01, 1.36502740e+00,\n",
       "        9.07405869e-01],\n",
       "       [5.80244274e-01, 1.34917564e+00, 9.02114765e-02, 1.30518604e+00,\n",
       "        8.68976822e-01],\n",
       "       [5.62923549e-01, 9.04082253e-02, 5.91776482e-01, 9.36931533e-01,\n",
       "        1.19610408e-01],\n",
       "       [5.45602824e-01, 1.05509347e+00, 2.86029801e-01, 9.00106083e-01,\n",
       "        9.37188380e-01],\n",
       "       [5.28282100e-01, 8.14549794e-01, 1.39341619e+00, 1.54390703e-01,\n",
       "        1.59048218e+00],\n",
       "       [5.10961375e-01, 6.07869059e-01, 4.95352838e-01, 3.74975153e-01,\n",
       "        8.21901240e-01],\n",
       "       [4.93640651e-01, 4.34876116e-01, 6.05281194e-01, 5.27524584e-02,\n",
       "        3.11755643e-01],\n",
       "       [4.76319926e-01, 1.40405696e+00, 6.57409383e-01, 5.18042030e-01,\n",
       "        1.00347849e+00],\n",
       "       [4.58999202e-01, 2.06009314e-01, 1.18598381e+00, 3.43397329e-02,\n",
       "        5.80758971e-01],\n",
       "       [4.41678477e-01, 7.74848409e-01, 9.02114765e-02, 8.03439274e-01,\n",
       "        5.72112435e-01],\n",
       "       [4.24357752e-01, 1.51965805e+00, 1.37991148e+00, 2.70878810e+00,\n",
       "        1.02269301e+00],\n",
       "       [4.07037028e-01, 1.39588315e+00, 1.46283041e+00, 4.53597491e-01,\n",
       "        1.36855443e+00],\n",
       "       [3.89716303e-01, 3.09933525e-01, 3.53553362e-01, 7.52804279e-01,\n",
       "        3.41057791e-02],\n",
       "       [3.72395579e-01, 1.65394214e+00, 4.48086346e-01, 9.73756984e-01,\n",
       "        1.67598681e+00],\n",
       "       [3.55074854e-01, 3.62479475e-01, 1.05093669e+00, 3.43121138e-01,\n",
       "        5.80758971e-01],\n",
       "       [3.37754129e-01, 8.24883830e-01, 2.32010953e-01, 3.79946589e-01,\n",
       "        4.27042783e-01],\n",
       "       [3.20433405e-01, 1.08311798e+00, 1.29402151e+00, 2.92117889e-01,\n",
       "        3.30970166e-01],\n",
       "       [3.03112680e-01, 8.37728396e-01, 2.00139833e-01, 8.95779092e-02,\n",
       "        5.23115400e-01],\n",
       "       [2.85791956e-01, 9.18298852e-01, 1.43393033e+00, 2.32276531e-01,\n",
       "        8.11813615e-02],\n",
       "       [2.68471231e-01, 7.76016097e-01, 1.33264499e+00, 1.49419267e-01,\n",
       "        1.47519504e+00],\n",
       "       [2.51150506e-01, 5.38975481e-01, 3.28434597e-01, 1.61783412e+00,\n",
       "        2.26251013e-01],\n",
       "       [2.33829782e-01, 8.26051518e-01, 2.86029801e-01, 6.69947015e-01,\n",
       "        3.88613736e-01],\n",
       "       [2.16509057e-01, 4.24366926e-01, 1.17058844e+00, 1.50275459e+00,\n",
       "        3.79967201e-01],\n",
       "       [1.99188333e-01, 6.85928986e-01, 1.50982681e-01, 1.97227908e+00,\n",
       "        2.15683025e-01],\n",
       "       [1.81867608e-01, 4.34876116e-01, 1.65675807e+00, 9.59579186e-01,\n",
       "        5.14468865e-01],\n",
       "       [1.64546884e-01, 1.48792614e-01, 1.24000266e+00, 9.78360166e-01,\n",
       "        5.42329924e-01],\n",
       "       [1.47226159e-01, 1.38303858e+00, 1.46958277e+00, 1.12593816e-01,\n",
       "        1.29169634e+00],\n",
       "       [1.29905434e-01, 8.25058983e-01, 6.91171163e-01, 1.30942097e+00,\n",
       "        1.03326100e+00],\n",
       "       [1.12584710e-01, 1.21273132e+00, 8.93741844e-01, 1.92164409e+00,\n",
       "        1.57126765e+00],\n",
       "       [9.52639852e-02, 4.62900623e-01, 6.25538262e-01, 9.04709264e-01,\n",
       "        4.84686354e-01],\n",
       "       [7.79432606e-02, 1.89836839e-01, 5.62876398e-01, 1.02862691e+00,\n",
       "        5.52897912e-01],\n",
       "       [6.06225361e-02, 5.90353742e-01, 1.33453565e+00, 1.13486833e+00,\n",
       "        4.46257307e-01],\n",
       "       [4.33018115e-02, 4.42057396e-01, 1.52873340e-01, 3.93756133e-01,\n",
       "        2.83894584e-01],\n",
       "       [2.59810869e-02, 1.66579418e+00, 1.28537849e+00, 9.50372823e-01,\n",
       "        2.18613240e+00],\n",
       "       [8.66036229e-03, 1.38283424e-01, 1.24486436e+00, 7.06404211e-01,\n",
       "        6.10541482e-01],\n",
       "       [8.66036229e-03, 8.79940308e-01, 1.28051680e+00, 8.85928284e-01,\n",
       "        4.46257307e-01],\n",
       "       [2.59810869e-02, 1.74402926e+00, 8.80237132e-01, 3.23815396e+00,\n",
       "        1.87870003e+00],\n",
       "       [4.33018115e-02, 1.55486384e+00, 8.88880147e-01, 4.21375221e-01,\n",
       "        1.49392920e-01],\n",
       "       [6.06225361e-02, 4.77088029e-01, 4.09462869e-01, 5.82486569e-01,\n",
       "        1.30178396e-01],\n",
       "       [7.79432606e-02, 1.06443498e+00, 7.45190011e-01, 1.16248742e+00,\n",
       "        1.28304980e+00],\n",
       "       [9.52639852e-02, 1.06755854e-01, 1.56222509e+00, 1.30942097e+00,\n",
       "        9.94831951e-01],\n",
       "       [1.12584710e-01, 1.42507534e+00, 8.28108943e-01, 3.93111688e-02,\n",
       "        1.31091086e+00],\n",
       "       [1.29905434e-01, 6.61407543e-01, 1.55061104e+00, 3.38517957e-01,\n",
       "        1.02269301e+00],\n",
       "       [1.47226159e-01, 1.56403019e+00, 1.54385868e+00, 2.28041604e-01,\n",
       "        1.67598681e+00],\n",
       "       [1.64546884e-01, 1.26527727e+00, 2.45515665e-01, 1.15328106e+00,\n",
       "        1.11011909e+00],\n",
       "       [1.81867608e-01, 9.19641692e-01, 1.01717491e+00, 1.19434143e+00,\n",
       "        1.19610408e-01],\n",
       "       [1.99188333e-01, 1.10530405e+00, 9.95027184e-01, 3.38517957e-01,\n",
       "        1.49440956e+00],\n",
       "       [2.16509057e-01, 3.34630122e-01, 5.31005278e-01, 1.29597968e+00,\n",
       "        1.48912557e-02],\n",
       "       [2.33829782e-01, 7.30476274e-01, 1.79882765e-01, 9.13915627e-01,\n",
       "        3.60752677e-01],\n",
       "       [2.51150506e-01, 8.03865450e-01, 1.58923451e+00, 1.81641536e-01,\n",
       "        1.10963873e-01],\n",
       "       [2.68471231e-01, 8.40063771e-01, 7.92456503e-01, 1.01942054e+00,\n",
       "        2.73326596e-01],\n",
       "       [2.85791956e-01, 9.15759131e-02, 6.05281194e-01, 2.28041604e-01,\n",
       "        3.50184689e-01],\n",
       "       [3.03112680e-01, 8.24883830e-01, 1.51684926e+00, 7.25185191e-01,\n",
       "        8.88191346e-01],\n",
       "       [3.20433405e-01, 2.49213762e-01, 9.20751268e-01, 2.23926360e+00,\n",
       "        3.60752677e-01],\n",
       "       [3.37754129e-01, 1.49046586e+00, 4.90491142e-01, 3.79946589e-01,\n",
       "        1.42619800e+00],\n",
       "       [3.55074854e-01, 6.70544700e-02, 2.38763309e-01, 7.20213755e-01,\n",
       "        2.83894584e-01],\n",
       "       [3.72395579e-01, 1.49747198e+00, 1.05606848e-01, 9.13547372e-01,\n",
       "        1.34933991e+00],\n",
       "       [3.89716303e-01, 8.98623313e-01, 1.40881156e+00, 6.88359740e-01,\n",
       "        4.65471830e-01],\n",
       "       [4.07037028e-01, 2.79573643e-01, 7.65447079e-01, 8.35661544e-01,\n",
       "        2.26251013e-01],\n",
       "       [4.24357752e-01, 9.62846140e-01, 6.10142891e-01, 2.00910454e+00,\n",
       "        1.09090457e+00],\n",
       "       [4.41678477e-01, 6.98773552e-01, 7.74090095e-01, 2.14232060e-01,\n",
       "        6.57617064e-01],\n",
       "       [4.58999202e-01, 1.62591764e+00, 1.05579839e+00, 9.22753735e-01,\n",
       "        1.42619800e+00],\n",
       "       [4.76319926e-01, 7.80511695e-01, 1.57086811e+00, 9.82963347e-01,\n",
       "        1.00347849e+00],\n",
       "       [4.93640651e-01, 8.55418865e-01, 1.73778635e+00, 1.25915423e+00,\n",
       "        2.05163074e+00],\n",
       "       [5.10961375e-01, 1.02105537e+00, 7.60585383e-01, 5.77515133e-01,\n",
       "        8.30547775e-01],\n",
       "       [5.28282100e-01, 1.70882347e+00, 1.10306488e+00, 1.00597925e+00,\n",
       "        2.38692417e+00],\n",
       "       [5.45602824e-01, 1.37971067e+00, 1.37504978e+00, 5.72911952e-01,\n",
       "        2.54112072e-01],\n",
       "       [5.62923549e-01, 1.61891151e+00, 2.65772733e-01, 1.30978922e+00,\n",
       "        1.59912871e+00],\n",
       "       [5.80244274e-01, 8.49580427e-01, 6.91171163e-01, 6.69578760e-01,\n",
       "        1.07169004e+00],\n",
       "       [5.97564998e-01, 1.28612050e+00, 1.03554132e+00, 1.61323094e+00,\n",
       "        6.19188018e-01],\n",
       "       [6.14885723e-01, 1.15300409e+00, 1.60273923e+00, 1.01518562e+00,\n",
       "        4.65471830e-01],\n",
       "       [6.32206447e-01, 1.41806922e+00, 1.06255074e+00, 9.78360166e-01,\n",
       "        8.68976822e-01],\n",
       "       [6.49527172e-01, 1.47896413e+00, 3.80562786e-01, 1.34164324e+00,\n",
       "        1.30226433e+00],\n",
       "       [6.66847897e-01, 1.21489154e+00, 1.77992105e-01, 4.62803854e-01,\n",
       "        8.49762299e-01],\n",
       "       [6.84168621e-01, 4.42057396e-01, 1.39341619e+00, 1.32820195e+00,\n",
       "        1.28304980e+00],\n",
       "       [7.01489346e-01, 8.59914463e-01, 4.22967582e-01, 8.12645637e-01,\n",
       "        5.99973494e-01],\n",
       "       [7.18810070e-01, 5.44813920e-01, 8.19465927e-01, 2.07354907e+00,\n",
       "        9.94831951e-01],\n",
       "       [7.36130795e-01, 8.57754241e-01, 6.70914095e-01, 3.38149702e-01,\n",
       "        1.16776266e+00],\n",
       "       [7.53451519e-01, 4.95595880e-01, 1.18598381e+00, 1.77038355e-01,\n",
       "        6.96046111e-01],\n",
       "       [7.70772244e-01, 5.93681653e-01, 5.71519414e-01, 3.84181516e-01,\n",
       "        5.03900877e-01],\n",
       "       [7.88092969e-01, 7.87313476e-02, 1.44257334e+00, 9.92169710e-01,\n",
       "        7.15260635e-01],\n",
       "       [8.05413693e-01, 1.08662104e+00, 1.07794612e+00, 1.00597925e+00,\n",
       "        1.58039455e-01],\n",
       "       [8.22734418e-01, 1.12281936e+00, 1.73778635e+00, 6.32753309e-01,\n",
       "        2.18613240e+00],\n",
       "       [8.40055142e-01, 1.27327593e+00, 1.15033137e+00, 8.58677450e-01,\n",
       "        5.99973494e-01],\n",
       "       [8.57375867e-01, 1.19504085e+00, 1.71239749e-01, 4.58200672e-01,\n",
       "        7.53689682e-01],\n",
       "       [8.74696592e-01, 1.56070228e+00, 6.32290618e-01, 2.96721070e-01,\n",
       "        3.99181724e-01],\n",
       "       [8.92017316e-01, 3.04095087e-01, 1.00367020e+00, 8.35293289e-01,\n",
       "        4.65471830e-01],\n",
       "       [9.09338041e-01, 5.90353742e-01, 2.43084817e-03, 7.52804279e-01,\n",
       "        4.95254341e-01],\n",
       "       [9.26658765e-01, 2.83251860e-01, 1.10981724e+00, 3.28943340e-01,\n",
       "        9.56402904e-01],\n",
       "       [9.43979490e-01, 4.75920341e-01, 1.46120984e-01, 9.69153803e-01,\n",
       "        3.03109107e-01],\n",
       "       [9.61300215e-01, 1.66912209e+00, 7.87594807e-01, 1.14407469e+00,\n",
       "        2.07949180e+00],\n",
       "       [9.78620939e-01, 6.20538471e-01, 1.36640677e+00, 9.18150553e-01,\n",
       "        2.45465537e-01],\n",
       "       [9.95941664e-01, 3.21989902e-02, 1.48308748e+00, 2.87882962e-01,\n",
       "        7.53689682e-01],\n",
       "       [1.01326239e+00, 1.58037782e+00, 9.20751268e-01, 6.74181942e-01,\n",
       "        1.29169634e+00],\n",
       "       [1.03058311e+00, 1.79152496e-01, 3.28434597e-01, 1.86244718e-01,\n",
       "        2.15683025e-01],\n",
       "       [1.04790384e+00, 2.97264113e-01, 3.48691665e-01, 6.72064478e-03,\n",
       "        7.25348259e-02],\n",
       "       [1.06522456e+00, 7.16288868e-01, 8.46475352e-01, 8.62912377e-01,\n",
       "        1.38824932e-01],\n",
       "       [1.08254529e+00, 4.82926468e-01, 3.48691665e-01, 2.28041604e-01,\n",
       "        1.68607443e-01],\n",
       "       [1.09986601e+00, 1.92172214e-01, 9.13998912e-01, 1.06582061e+00,\n",
       "        7.64257669e-01],\n",
       "       [1.11718674e+00, 3.48467222e-01, 5.78271770e-01, 1.15788424e+00,\n",
       "        4.07828260e-01],\n",
       "       [1.13450746e+00, 1.02123053e+00, 1.34128800e+00, 2.49704176e+00,\n",
       "        4.07828260e-01],\n",
       "       [1.15182818e+00, 1.50798117e+00, 9.68017760e-01, 4.12168859e-01,\n",
       "        1.15719467e+00],\n",
       "       [1.16914891e+00, 6.97781017e-01, 1.21974559e+00, 5.13438849e-01,\n",
       "        3.50184689e-01],\n",
       "       [1.18646963e+00, 7.98202165e-01, 2.26879163e-02, 1.24497643e+00,\n",
       "        5.91326959e-01],\n",
       "       [1.20379036e+00, 1.60273904e+00, 8.55118367e-01, 1.11185242e+00,\n",
       "        1.87821967e-01],\n",
       "       [1.22111108e+00, 1.13315340e+00, 7.87594807e-01, 5.59470662e-01,\n",
       "        1.08033658e+00],\n",
       "       [1.23843181e+00, 2.03849092e-01, 1.59625696e-01, 7.75451931e-01,\n",
       "        9.17493494e-02],\n",
       "       [1.25575253e+00, 1.48813048e+00, 2.13644545e-01, 6.23915201e-01,\n",
       "        1.23405277e+00],\n",
       "       [1.27307326e+00, 2.49388915e-01, 1.09145083e+00, 8.17248818e-01,\n",
       "        4.46257307e-01],\n",
       "       [1.29039398e+00, 8.79940308e-01, 1.34128800e+00, 8.03439274e-01,\n",
       "        4.84686354e-01],\n",
       "       [1.30771471e+00, 1.51633014e+00, 1.73103399e+00, 5.17673775e-01,\n",
       "        2.49356478e+00],\n",
       "       [1.32503543e+00, 1.18353913e+00, 4.68343414e-01, 4.72010216e-01,\n",
       "        1.18697718e+00],\n",
       "       [1.34235616e+00, 2.70407294e-01, 1.04418434e+00, 2.13863806e-01,\n",
       "        4.46257307e-01],\n",
       "       [1.35967688e+00, 1.51399477e+00, 1.41556392e+00, 3.15502050e-01,\n",
       "        4.27042783e-01],\n",
       "       [1.37699760e+00, 2.16693657e-01, 8.95632503e-01, 5.96296113e-01,\n",
       "        2.73326596e-01],\n",
       "       [1.39431833e+00, 1.11601758e-01, 1.39530685e+00, 1.02439198e+00,\n",
       "        6.76831588e-01],\n",
       "       [1.41163905e+00, 8.34400486e-01, 1.20624088e+00, 1.45184340e-01,\n",
       "        3.50184689e-01],\n",
       "       [1.42895978e+00, 1.06075676e+00, 1.18598381e+00, 3.93111688e-02,\n",
       "        1.02269301e+00],\n",
       "       [1.44628050e+00, 1.64127273e+00, 1.33264499e+00, 1.89862818e+00,\n",
       "        2.33984859e+00],\n",
       "       [1.46360123e+00, 1.24659427e+00, 1.32616272e-01, 2.55016247e-02,\n",
       "        6.87399576e-01],\n",
       "       [1.48092195e+00, 6.76762637e-01, 1.47444446e+00, 5.04232486e-01,\n",
       "        1.64812575e+00],\n",
       "       [1.49824268e+00, 8.80728498e-02, 1.42906863e+00, 1.82009791e-01,\n",
       "        7.15260635e-01],\n",
       "       [1.51556340e+00, 5.14454038e-01, 3.67058074e-01, 5.68677025e-01,\n",
       "        6.29756005e-01],\n",
       "       [1.53288413e+00, 1.62258973e+00, 6.32290618e-01, 1.23613832e+00,\n",
       "        3.60752677e-01],\n",
       "       [1.55020485e+00, 1.49863967e+00, 7.53833027e-01, 3.29311594e-01,\n",
       "        1.40698348e+00],\n",
       "       [1.56752558e+00, 1.25576062e+00, 1.20435022e+00, 1.13947151e+00,\n",
       "        6.19188018e-01],\n",
       "       [1.58484630e+00, 8.35393020e-01, 8.41613655e-01, 1.13026515e+00,\n",
       "        7.92118728e-01],\n",
       "       [1.60216702e+00, 1.51615499e+00, 1.29402151e+00, 4.81492770e-02,\n",
       "        1.56069967e+00],\n",
       "       [1.61948775e+00, 2.30705910e-01, 1.26512143e+00, 1.24074150e+00,\n",
       "        1.07169004e+00],\n",
       "       [1.63680847e+00, 3.10313024e-02, 8.32970639e-01, 1.13026515e+00,\n",
       "        6.29756005e-01],\n",
       "       [1.65412920e+00, 1.27094056e+00, 1.32103093e+00, 7.71217005e-01,\n",
       "        1.23405277e+00],\n",
       "       [1.67144992e+00, 6.17035408e-01, 1.24000266e+00, 1.03359834e+00,\n",
       "        8.30547775e-01],\n",
       "       [1.68877065e+00, 3.49810063e-01, 9.42898996e-01, 1.11185242e+00,\n",
       "        2.34897549e-01],\n",
       "       [1.70609137e+00, 1.59456522e+00, 1.26512143e+00, 1.64085003e+00,\n",
       "        2.20534693e+00],\n",
       "       [1.72341210e+00, 9.93206022e-01, 9.90165488e-01, 1.00597925e+00,\n",
       "        1.19610408e-01]])"
      ]
     },
     "execution_count": 114,
     "metadata": {},
     "output_type": "execute_result"
    }
   ],
   "source": [
    "from scipy.stats import zscore\n",
    "import numpy as np\n",
    "z=np.abs(zscore(df))\n",
    "z"
   ]
  },
  {
   "cell_type": "code",
   "execution_count": 115,
   "id": "e89c13c7",
   "metadata": {},
   "outputs": [
    {
     "name": "stdout",
     "output_type": "stream",
     "text": [
      "(array([ 16, 101], dtype=int64), array([3, 3], dtype=int64))\n"
     ]
    }
   ],
   "source": [
    "threshold=3\n",
    "print(np.where(z>3))"
   ]
  },
  {
   "cell_type": "markdown",
   "id": "b51eb57a",
   "metadata": {},
   "source": [
    "we see that there is only two outliers in our dataframe"
   ]
  },
  {
   "cell_type": "code",
   "execution_count": 116,
   "id": "408926e7",
   "metadata": {},
   "outputs": [
    {
     "data": {
      "text/html": [
       "<div>\n",
       "<style scoped>\n",
       "    .dataframe tbody tr th:only-of-type {\n",
       "        vertical-align: middle;\n",
       "    }\n",
       "\n",
       "    .dataframe tbody tr th {\n",
       "        vertical-align: top;\n",
       "    }\n",
       "\n",
       "    .dataframe thead th {\n",
       "        text-align: right;\n",
       "    }\n",
       "</style>\n",
       "<table border=\"1\" class=\"dataframe\">\n",
       "  <thead>\n",
       "    <tr style=\"text-align: right;\">\n",
       "      <th></th>\n",
       "      <th>Unnamed: 0</th>\n",
       "      <th>TV</th>\n",
       "      <th>radio</th>\n",
       "      <th>newspaper</th>\n",
       "      <th>sales</th>\n",
       "    </tr>\n",
       "  </thead>\n",
       "  <tbody>\n",
       "    <tr>\n",
       "      <th>0</th>\n",
       "      <td>1</td>\n",
       "      <td>230.1</td>\n",
       "      <td>37.8</td>\n",
       "      <td>69.2</td>\n",
       "      <td>22.1</td>\n",
       "    </tr>\n",
       "    <tr>\n",
       "      <th>1</th>\n",
       "      <td>2</td>\n",
       "      <td>44.5</td>\n",
       "      <td>39.3</td>\n",
       "      <td>45.1</td>\n",
       "      <td>10.4</td>\n",
       "    </tr>\n",
       "    <tr>\n",
       "      <th>2</th>\n",
       "      <td>3</td>\n",
       "      <td>17.2</td>\n",
       "      <td>45.9</td>\n",
       "      <td>69.3</td>\n",
       "      <td>9.3</td>\n",
       "    </tr>\n",
       "    <tr>\n",
       "      <th>3</th>\n",
       "      <td>4</td>\n",
       "      <td>151.5</td>\n",
       "      <td>41.3</td>\n",
       "      <td>58.5</td>\n",
       "      <td>18.5</td>\n",
       "    </tr>\n",
       "    <tr>\n",
       "      <th>4</th>\n",
       "      <td>5</td>\n",
       "      <td>180.8</td>\n",
       "      <td>10.8</td>\n",
       "      <td>58.4</td>\n",
       "      <td>12.9</td>\n",
       "    </tr>\n",
       "    <tr>\n",
       "      <th>...</th>\n",
       "      <td>...</td>\n",
       "      <td>...</td>\n",
       "      <td>...</td>\n",
       "      <td>...</td>\n",
       "      <td>...</td>\n",
       "    </tr>\n",
       "    <tr>\n",
       "      <th>195</th>\n",
       "      <td>196</td>\n",
       "      <td>38.2</td>\n",
       "      <td>3.7</td>\n",
       "      <td>13.8</td>\n",
       "      <td>7.6</td>\n",
       "    </tr>\n",
       "    <tr>\n",
       "      <th>196</th>\n",
       "      <td>197</td>\n",
       "      <td>94.2</td>\n",
       "      <td>4.9</td>\n",
       "      <td>8.1</td>\n",
       "      <td>9.7</td>\n",
       "    </tr>\n",
       "    <tr>\n",
       "      <th>197</th>\n",
       "      <td>198</td>\n",
       "      <td>177.0</td>\n",
       "      <td>9.3</td>\n",
       "      <td>6.4</td>\n",
       "      <td>12.8</td>\n",
       "    </tr>\n",
       "    <tr>\n",
       "      <th>198</th>\n",
       "      <td>199</td>\n",
       "      <td>283.6</td>\n",
       "      <td>42.0</td>\n",
       "      <td>66.2</td>\n",
       "      <td>25.5</td>\n",
       "    </tr>\n",
       "    <tr>\n",
       "      <th>199</th>\n",
       "      <td>200</td>\n",
       "      <td>232.1</td>\n",
       "      <td>8.6</td>\n",
       "      <td>8.7</td>\n",
       "      <td>13.4</td>\n",
       "    </tr>\n",
       "  </tbody>\n",
       "</table>\n",
       "<p>198 rows × 5 columns</p>\n",
       "</div>"
      ],
      "text/plain": [
       "     Unnamed: 0     TV  radio  newspaper  sales\n",
       "0             1  230.1   37.8       69.2   22.1\n",
       "1             2   44.5   39.3       45.1   10.4\n",
       "2             3   17.2   45.9       69.3    9.3\n",
       "3             4  151.5   41.3       58.5   18.5\n",
       "4             5  180.8   10.8       58.4   12.9\n",
       "..          ...    ...    ...        ...    ...\n",
       "195         196   38.2    3.7       13.8    7.6\n",
       "196         197   94.2    4.9        8.1    9.7\n",
       "197         198  177.0    9.3        6.4   12.8\n",
       "198         199  283.6   42.0       66.2   25.5\n",
       "199         200  232.1    8.6        8.7   13.4\n",
       "\n",
       "[198 rows x 5 columns]"
      ]
     },
     "execution_count": 116,
     "metadata": {},
     "output_type": "execute_result"
    }
   ],
   "source": [
    "df_new=df[(z<3).all(axis=1)]\n",
    "df_new"
   ]
  },
  {
   "cell_type": "code",
   "execution_count": 117,
   "id": "ad811acb",
   "metadata": {},
   "outputs": [
    {
     "name": "stdout",
     "output_type": "stream",
     "text": [
      "(array([], dtype=int64), array([], dtype=int64))\n"
     ]
    }
   ],
   "source": [
    "from scipy.stats import zscore\n",
    "import numpy as np\n",
    "z_new=np.abs(zscore(df_new))\n",
    "threshold=3\n",
    "print(np.where(z_new>3))"
   ]
  },
  {
   "cell_type": "markdown",
   "id": "14eb69aa",
   "metadata": {},
   "source": [
    "df_new is our new dataframe where no outliers present."
   ]
  },
  {
   "cell_type": "code",
   "execution_count": 118,
   "id": "33fbfdad",
   "metadata": {},
   "outputs": [
    {
     "name": "stdout",
     "output_type": "stream",
     "text": [
      "(200, 5)\n",
      "(198, 5)\n"
     ]
    }
   ],
   "source": [
    "#checking shape of old dataframe(df) and new dataframe(df_new)\n",
    "print(df.shape)\n",
    "print(df_new.shape)"
   ]
  },
  {
   "cell_type": "code",
   "execution_count": 119,
   "id": "5b94740b",
   "metadata": {},
   "outputs": [
    {
     "data": {
      "text/plain": [
       "1.0"
      ]
     },
     "execution_count": 119,
     "metadata": {},
     "output_type": "execute_result"
    }
   ],
   "source": [
    "#checking percentage of dataloss\n",
    "percentage_of_dataloss=((200-198)/200)*100\n",
    "percentage_of_dataloss"
   ]
  },
  {
   "cell_type": "markdown",
   "id": "222c128a",
   "metadata": {},
   "source": [
    "we are only 1% of our data loss for outliers"
   ]
  },
  {
   "cell_type": "code",
   "execution_count": 120,
   "id": "e5203d51",
   "metadata": {},
   "outputs": [],
   "source": [
    "#since \"Unnamed: 0\" columns is present in the dataframe for counting,we drop this column\n",
    "df_new=df_new.drop([\"Unnamed: 0\"],axis=1)"
   ]
  },
  {
   "cell_type": "code",
   "execution_count": 121,
   "id": "197e6ca0",
   "metadata": {},
   "outputs": [
    {
     "data": {
      "text/html": [
       "<div>\n",
       "<style scoped>\n",
       "    .dataframe tbody tr th:only-of-type {\n",
       "        vertical-align: middle;\n",
       "    }\n",
       "\n",
       "    .dataframe tbody tr th {\n",
       "        vertical-align: top;\n",
       "    }\n",
       "\n",
       "    .dataframe thead th {\n",
       "        text-align: right;\n",
       "    }\n",
       "</style>\n",
       "<table border=\"1\" class=\"dataframe\">\n",
       "  <thead>\n",
       "    <tr style=\"text-align: right;\">\n",
       "      <th></th>\n",
       "      <th>TV</th>\n",
       "      <th>radio</th>\n",
       "      <th>newspaper</th>\n",
       "      <th>sales</th>\n",
       "    </tr>\n",
       "  </thead>\n",
       "  <tbody>\n",
       "    <tr>\n",
       "      <th>0</th>\n",
       "      <td>230.1</td>\n",
       "      <td>37.8</td>\n",
       "      <td>69.2</td>\n",
       "      <td>22.1</td>\n",
       "    </tr>\n",
       "    <tr>\n",
       "      <th>1</th>\n",
       "      <td>44.5</td>\n",
       "      <td>39.3</td>\n",
       "      <td>45.1</td>\n",
       "      <td>10.4</td>\n",
       "    </tr>\n",
       "    <tr>\n",
       "      <th>2</th>\n",
       "      <td>17.2</td>\n",
       "      <td>45.9</td>\n",
       "      <td>69.3</td>\n",
       "      <td>9.3</td>\n",
       "    </tr>\n",
       "    <tr>\n",
       "      <th>3</th>\n",
       "      <td>151.5</td>\n",
       "      <td>41.3</td>\n",
       "      <td>58.5</td>\n",
       "      <td>18.5</td>\n",
       "    </tr>\n",
       "    <tr>\n",
       "      <th>4</th>\n",
       "      <td>180.8</td>\n",
       "      <td>10.8</td>\n",
       "      <td>58.4</td>\n",
       "      <td>12.9</td>\n",
       "    </tr>\n",
       "  </tbody>\n",
       "</table>\n",
       "</div>"
      ],
      "text/plain": [
       "      TV  radio  newspaper  sales\n",
       "0  230.1   37.8       69.2   22.1\n",
       "1   44.5   39.3       45.1   10.4\n",
       "2   17.2   45.9       69.3    9.3\n",
       "3  151.5   41.3       58.5   18.5\n",
       "4  180.8   10.8       58.4   12.9"
      ]
     },
     "execution_count": 121,
     "metadata": {},
     "output_type": "execute_result"
    }
   ],
   "source": [
    "df_new.head()"
   ]
  },
  {
   "cell_type": "code",
   "execution_count": null,
   "id": "174c6ef8",
   "metadata": {},
   "outputs": [],
   "source": []
  },
  {
   "cell_type": "markdown",
   "id": "45305565",
   "metadata": {},
   "source": [
    "Dividing data in features and vectors"
   ]
  },
  {
   "cell_type": "code",
   "execution_count": 122,
   "id": "064ae7fc",
   "metadata": {},
   "outputs": [],
   "source": [
    "x=df_new.iloc[:,0:-1]\n",
    "y=df_new.iloc[:,-1]"
   ]
  },
  {
   "cell_type": "code",
   "execution_count": 123,
   "id": "e0b2def9",
   "metadata": {},
   "outputs": [
    {
     "data": {
      "text/html": [
       "<div>\n",
       "<style scoped>\n",
       "    .dataframe tbody tr th:only-of-type {\n",
       "        vertical-align: middle;\n",
       "    }\n",
       "\n",
       "    .dataframe tbody tr th {\n",
       "        vertical-align: top;\n",
       "    }\n",
       "\n",
       "    .dataframe thead th {\n",
       "        text-align: right;\n",
       "    }\n",
       "</style>\n",
       "<table border=\"1\" class=\"dataframe\">\n",
       "  <thead>\n",
       "    <tr style=\"text-align: right;\">\n",
       "      <th></th>\n",
       "      <th>TV</th>\n",
       "      <th>radio</th>\n",
       "      <th>newspaper</th>\n",
       "    </tr>\n",
       "  </thead>\n",
       "  <tbody>\n",
       "    <tr>\n",
       "      <th>0</th>\n",
       "      <td>230.1</td>\n",
       "      <td>37.8</td>\n",
       "      <td>69.2</td>\n",
       "    </tr>\n",
       "    <tr>\n",
       "      <th>1</th>\n",
       "      <td>44.5</td>\n",
       "      <td>39.3</td>\n",
       "      <td>45.1</td>\n",
       "    </tr>\n",
       "    <tr>\n",
       "      <th>2</th>\n",
       "      <td>17.2</td>\n",
       "      <td>45.9</td>\n",
       "      <td>69.3</td>\n",
       "    </tr>\n",
       "    <tr>\n",
       "      <th>3</th>\n",
       "      <td>151.5</td>\n",
       "      <td>41.3</td>\n",
       "      <td>58.5</td>\n",
       "    </tr>\n",
       "    <tr>\n",
       "      <th>4</th>\n",
       "      <td>180.8</td>\n",
       "      <td>10.8</td>\n",
       "      <td>58.4</td>\n",
       "    </tr>\n",
       "    <tr>\n",
       "      <th>...</th>\n",
       "      <td>...</td>\n",
       "      <td>...</td>\n",
       "      <td>...</td>\n",
       "    </tr>\n",
       "    <tr>\n",
       "      <th>195</th>\n",
       "      <td>38.2</td>\n",
       "      <td>3.7</td>\n",
       "      <td>13.8</td>\n",
       "    </tr>\n",
       "    <tr>\n",
       "      <th>196</th>\n",
       "      <td>94.2</td>\n",
       "      <td>4.9</td>\n",
       "      <td>8.1</td>\n",
       "    </tr>\n",
       "    <tr>\n",
       "      <th>197</th>\n",
       "      <td>177.0</td>\n",
       "      <td>9.3</td>\n",
       "      <td>6.4</td>\n",
       "    </tr>\n",
       "    <tr>\n",
       "      <th>198</th>\n",
       "      <td>283.6</td>\n",
       "      <td>42.0</td>\n",
       "      <td>66.2</td>\n",
       "    </tr>\n",
       "    <tr>\n",
       "      <th>199</th>\n",
       "      <td>232.1</td>\n",
       "      <td>8.6</td>\n",
       "      <td>8.7</td>\n",
       "    </tr>\n",
       "  </tbody>\n",
       "</table>\n",
       "<p>198 rows × 3 columns</p>\n",
       "</div>"
      ],
      "text/plain": [
       "        TV  radio  newspaper\n",
       "0    230.1   37.8       69.2\n",
       "1     44.5   39.3       45.1\n",
       "2     17.2   45.9       69.3\n",
       "3    151.5   41.3       58.5\n",
       "4    180.8   10.8       58.4\n",
       "..     ...    ...        ...\n",
       "195   38.2    3.7       13.8\n",
       "196   94.2    4.9        8.1\n",
       "197  177.0    9.3        6.4\n",
       "198  283.6   42.0       66.2\n",
       "199  232.1    8.6        8.7\n",
       "\n",
       "[198 rows x 3 columns]"
      ]
     },
     "execution_count": 123,
     "metadata": {},
     "output_type": "execute_result"
    }
   ],
   "source": [
    "x"
   ]
  },
  {
   "cell_type": "code",
   "execution_count": 124,
   "id": "7de86ea0",
   "metadata": {},
   "outputs": [
    {
     "data": {
      "text/plain": [
       "0      22.1\n",
       "1      10.4\n",
       "2       9.3\n",
       "3      18.5\n",
       "4      12.9\n",
       "       ... \n",
       "195     7.6\n",
       "196     9.7\n",
       "197    12.8\n",
       "198    25.5\n",
       "199    13.4\n",
       "Name: sales, Length: 198, dtype: float64"
      ]
     },
     "execution_count": 124,
     "metadata": {},
     "output_type": "execute_result"
    }
   ],
   "source": [
    "y"
   ]
  },
  {
   "cell_type": "code",
   "execution_count": 125,
   "id": "af0159f8",
   "metadata": {},
   "outputs": [
    {
     "data": {
      "text/plain": [
       "(198, 3)"
      ]
     },
     "execution_count": 125,
     "metadata": {},
     "output_type": "execute_result"
    }
   ],
   "source": [
    "x.shape"
   ]
  },
  {
   "cell_type": "code",
   "execution_count": 126,
   "id": "1427dd17",
   "metadata": {},
   "outputs": [
    {
     "data": {
      "text/plain": [
       "(198,)"
      ]
     },
     "execution_count": 126,
     "metadata": {},
     "output_type": "execute_result"
    }
   ],
   "source": [
    "y.shape"
   ]
  },
  {
   "cell_type": "markdown",
   "id": "302852f1",
   "metadata": {},
   "source": [
    "Transforming data to remove skewness"
   ]
  },
  {
   "cell_type": "code",
   "execution_count": 127,
   "id": "0528aa6e",
   "metadata": {},
   "outputs": [
    {
     "data": {
      "text/plain": [
       "array([[ 0.95598306,  0.9691098 ,  1.6041965 ],\n",
       "       [-1.19200349,  1.04623436,  0.83104401],\n",
       "       [-1.6461253 ,  1.37296802,  1.60705249],\n",
       "       [ 0.14293428,  1.1473316 ,  1.28376774],\n",
       "       [ 0.45645241, -0.73502642,  1.28062154],\n",
       "       [-1.8204008 ,  1.51543955,  1.76610727],\n",
       "       [-1.00349358,  0.70309642, -0.10205346],\n",
       "       [-0.20996049, -0.0876566 , -0.84968895],\n",
       "       [-1.82264543, -1.62948287, -2.09866461],\n",
       "       [ 0.652694  , -1.56152179, -0.22649933],\n",
       "       [-0.88482761, -1.19258569, -0.06553382],\n",
       "       [ 0.80322028,  0.19357553, -1.59608414],\n",
       "       [-1.52567125,  0.82725998,  1.50859232],\n",
       "       [-0.48090308, -1.01613619, -1.23269654],\n",
       "       [ 0.69642374,  0.70856268,  0.86367455],\n",
       "       [ 0.60769456,  1.45886692,  1.1026083 ],\n",
       "       [ 1.44702338,  1.06152278,  1.19771741],\n",
       "       [-0.84304109, -0.02834315, -0.39458775],\n",
       "       [ 0.09676151,  0.18741189, -0.346834  ],\n",
       "       [ 0.84017479,  0.41523303,  1.11921444],\n",
       "       [ 1.02746612, -1.2660875 , -0.10205346],\n",
       "       [-1.72466475, -0.3430802 ,  0.99069777],\n",
       "       [ 0.93826742, -0.27204438,  0.0356758 ],\n",
       "       [-0.93674187, -0.59023588, -0.39458775],\n",
       "       [ 1.27285397, -1.44792482, -0.32336998],\n",
       "       [ 0.04802388,  0.50756488, -0.7740548 ],\n",
       "       [ 1.05376032, -0.28612399, -0.13384051],\n",
       "       [ 1.13797152,  0.38008881, -0.13384051],\n",
       "       [-0.82432769, -0.33590351,  0.66980347],\n",
       "       [ 1.55379249,  0.45008922,  0.76092313],\n",
       "       [-0.29552539, -0.23711359,  0.58357284],\n",
       "       [-0.48458608, -1.71704857,  0.21669702],\n",
       "       [ 1.29846636, -0.06117169, -2.2758464 ],\n",
       "       [-0.50304519, -1.7324148 , -1.21299201],\n",
       "       [ 1.53345233, -1.3771472 , -1.10919482],\n",
       "       [ 1.31077419,  1.27109462, -1.4708598 ],\n",
       "       [-0.77006157,  1.53885314,  0.85283827],\n",
       "       [-1.21308859,  0.35649509,  0.44045973],\n",
       "       [ 0.93531131,  0.96392681,  0.30682057],\n",
       "       [ 0.68018031,  0.08742886,  0.28905461],\n",
       "       [ 0.4165774 ,  0.73579933,  0.58755182],\n",
       "       [ 1.56025605,  0.41523303, -1.93614969],\n",
       "       [ 0.72477076, -0.94246393,  0.04555612],\n",
       "       [-1.50299171,  0.29691633,  0.76465678],\n",
       "       [ 0.39655706,  0.10007132,  0.2845934 ],\n",
       "       [-0.5776425 , -0.81067203,  0.46554742],\n",
       "       [ 1.05181524,  1.15733673, -0.38254334],\n",
       "       [ 0.92742341, -0.35027362,  1.00104316],\n",
       "       [-0.87399682, -0.66162053,  0.51093113],\n",
       "       [ 0.652694  , -1.49718987,  0.41936802],\n",
       "       [-0.44544938, -0.83642883, -1.65023317],\n",
       "       [ 0.82021967,  1.16732335,  0.62310406],\n",
       "       [ 0.47526481,  1.38737344,  1.29005095],\n",
       "       [ 1.27095405,  0.47892195, -0.54515187],\n",
       "       [ 0.6435106 ,  1.53885314,  1.33059751],\n",
       "       [-1.85241088,  0.43850198,  0.6928619 ],\n",
       "       [-0.02694246, -0.11434473, -0.50002298],\n",
       "       [ 0.7640894 ,  1.54819296,  0.54749686],\n",
       "       [ 0.76308359,  0.51896989, -1.03801781],\n",
       "       [-1.06021399, -1.64357954, -0.21538949],\n",
       "       [ 1.25764412,  1.21698291,  1.16198054],\n",
       "       [ 1.04597746, -0.37195568,  0.08950799],\n",
       "       [-0.41751811,  0.52466135, -1.11833294],\n",
       "       [-0.08464536,  1.22192414,  0.16568658],\n",
       "       [-0.84572231, -0.8624742 , -2.12148202],\n",
       "       [-1.39528628,  0.23035564, -1.86501   ],\n",
       "       [ 0.00785902, -0.44537697, -0.96167639],\n",
       "       [ 1.02746612,  0.40355071, -0.89675177],\n",
       "       [ 0.8242145 ,  1.27598779,  0.08466485],\n",
       "       [ 0.64555228,  0.58117899,  0.58755182],\n",
       "       [-0.33228945, -0.46028254,  0.29350789],\n",
       "       [-1.47377148,  0.71402259, -0.33506848],\n",
       "       [-0.10400761, -1.202897  ,  0.27564704],\n",
       "       [ 0.79019725,  0.23035564, -0.73744518],\n",
       "       [-1.65184774,  1.26619715,  2.13937255],\n",
       "       [-1.46187563, -1.70192244, -0.25453031],\n",
       "       [-0.20647326,  0.46164538, -0.65947105],\n",
       "       [-1.89822804,  0.54169198, -1.02934918],\n",
       "       [-0.25902053, -1.00678392, -0.12319395],\n",
       "       [-0.74778651,  0.35649509, -0.16609367],\n",
       "       [ 1.05084254, -1.3771472 ,  0.51501874],\n",
       "       [-0.76218508, -0.04143812,  0.32885333],\n",
       "       [-0.85377796,  1.30525722,  0.46138274],\n",
       "       [ 0.79119975,  1.23179329,  0.38526098],\n",
       "       [ 0.58509675, -0.16835339,  1.50271112],\n",
       "       [-0.74909326,  0.40355071, -0.53863938],\n",
       "       [-0.32158879,  1.11216604,  1.42831665],\n",
       "       [-0.59523084,  0.28489586,  1.72217946],\n",
       "       [-0.33228945,  1.4636021 ,  1.05224719],\n",
       "       [-0.04837336, -1.28768913, -1.03801781],\n",
       "       [-1.44333425, -1.71704857,  0.35069626],\n",
       "       [ 0.8331959 ,  0.74122791,  1.29945293],\n",
       "       [ 1.15818339,  0.90131402,  1.69166052],\n",
       "       [-0.36093577, -0.4827855 , -0.90472726],\n",
       "       [ 0.2709304 ,  0.63699688,  1.1026083 ],\n",
       "       [ 0.63022667, -1.44792482, -1.36815587],\n",
       "       [ 0.49923329,  0.00418624, -0.18240095],\n",
       "       [ 1.52419364,  1.19717332,  1.04546953],\n",
       "       [-0.0382122 ,  1.16732335,  0.86006693],\n",
       "       [ 0.87994389, -1.35429375,  0.99759864],\n",
       "       [ 1.43581778, -0.79365568, -0.21538949],\n",
       "       [ 0.53038105, -0.25104051, -0.41889554],\n",
       "       [ 1.03526502,  0.78443582, -1.43568966],\n",
       "       [-0.00783277,  1.39695704,  1.29945293],\n",
       "       [-1.50472569, -0.71852874,  0.20289058],\n",
       "       [-0.56887482, -1.92277996, -0.11788987],\n",
       "       [-1.72669682, -1.90334954,  0.00577961],\n",
       "       [ 1.20134779,  0.36830859, -1.41277956],\n",
       "       [ 0.91360226, -0.96064272,  1.22025052],\n",
       "       [ 1.06930594,  0.97946003, -0.11788987],\n",
       "       [ 0.40288531, -0.37921745, -1.83137048],\n",
       "       [ 0.75201155, -0.02181365, -0.9207956 ],\n",
       "       [-0.72433929,  1.41607663,  0.41512911],\n",
       "       [-0.76480878,  0.82192754,  1.09594084],\n",
       "       [ 0.00673953, -0.46028254,  0.00577961],\n",
       "       [-0.74778651, -1.83055994, -0.61831443],\n",
       "       [-0.14637764,  0.92227141,  1.87892616],\n",
       "       [-1.60487761, -0.33590351, -0.16609367],\n",
       "       [ 0.03020546,  0.36240602,  0.87087647],\n",
       "       [-1.61600701,  0.04924266,  1.01820721],\n",
       "       [ 0.89579959, -1.58822992, -0.56482448],\n",
       "       [-0.17634363,  0.8005392 , -0.78891695],\n",
       "       [ 0.95008184,  0.67566908,  1.7442111 ],\n",
       "       [-0.60910057, -0.65359273,  0.02077604],\n",
       "       [-1.84082856,  1.02577993,  1.02504572],\n",
       "       [-0.69844865, -1.98495808, -1.04673537],\n",
       "       [ 0.8590884 ,  1.52012963, -1.70718676],\n",
       "       [-0.97412104, -0.63761079,  0.75718457],\n",
       "       [-2.03323356,  1.06152278, -1.09108448],\n",
       "       [ 1.2946762 , -1.52253007,  0.7534411 ],\n",
       "       [-1.82715302,  0.38596655, -1.88228781],\n",
       "       [ 0.85411524,  0.74122791,  0.83104401],\n",
       "       [-1.30867028,  1.0103861 ,  1.49976669],\n",
       "       [-1.13560137,  1.42561279, -1.10919482],\n",
       "       [-1.49434751,  1.03090107, -1.03801781],\n",
       "       [ 1.37490294,  0.48466558,  1.32128542],\n",
       "       [-1.21460127,  0.30890141, -0.2658475 ],\n",
       "       [ 0.49923329,  1.27598779, -1.95484304],\n",
       "       [-0.78718324, -0.2650278 , -0.75199725],\n",
       "       [ 0.59023843,  0.84322253,  1.78244184],\n",
       "       [ 0.86107685,  0.72492349,  0.55555544],\n",
       "       [-0.39456576, -1.202897  ,  0.41088327],\n",
       "       [-0.49688394, -0.42315979,  0.59549238],\n",
       "       [ 0.01904252, -1.65786243, -1.06432036],\n",
       "       [ 1.05376032, -1.04445327, -1.09108448],\n",
       "       [ 1.08385578,  1.52012963,  0.80172759],\n",
       "       [-1.29143203,  1.09702388, -0.82664429],\n",
       "       [-1.1890052 ,  0.30291327, -0.26018131],\n",
       "       [ 1.44048829, -0.49032576,  0.51910011],\n",
       "       [-0.20066619, -0.94246393,  0.95944652],\n",
       "       [ 0.63022667,  0.15022331, -0.65947105],\n",
       "       [ 0.35634693,  1.06660903,  0.54749686],\n",
       "       [ 0.52934487,  0.01065705, -1.02072873],\n",
       "       [-1.93163495, -0.66967326, -1.39027462],\n",
       "       [-0.52529469,  1.25638925,  1.02162839],\n",
       "       [ 0.12428563, -1.74803521, -0.06036496],\n",
       "       [-1.75555556,  0.92227141,  0.83468776],\n",
       "       [-0.07782712, -0.16835339,  0.41936802],\n",
       "       [ 0.36906953, -0.18883181,  0.24861364],\n",
       "       [-0.62808655,  0.86442562,  0.98031676],\n",
       "       [ 0.5355598 , -0.18883181,  0.00577961],\n",
       "       [ 0.2730788 ,  0.91704026, -1.21299201],\n",
       "       [-0.24495734, -0.43054692, -1.42418272],\n",
       "       [ 0.99913782, -1.46007371,  2.02414625],\n",
       "       [-1.63286723,  0.95873855, -0.20433701],\n",
       "       [ 0.72376009, -1.25539136, -0.32921092],\n",
       "       [ 0.81022423,  0.16886223,  1.25534066],\n",
       "       [ 1.47405264, -0.75163452, -1.31443661],\n",
       "       [-1.11073781, -0.66967326, -0.38855655],\n",
       "       [ 0.28381064, -0.00229617,  0.91372099],\n",
       "       [-1.60118681, -0.05458158, -0.47470116],\n",
       "       [ 0.32550506, -1.06355551, -0.75931882],\n",
       "       [ 0.87994389, -1.46007371, -0.73744518],\n",
       "       [ 1.40493806,  1.51543955,  0.70812926],\n",
       "       [ 1.13411664,  0.55865764, -0.27722588],\n",
       "       [ 0.34466429, -0.99747386,  0.44465771],\n",
       "       [ 1.40306351, -1.60181548, -0.09155822],\n",
       "       [ 0.29559622, -0.80214864, -0.43732278],\n",
       "       [ 0.19855946, -1.56152179, -1.12752759],\n",
       "       [ 0.8411713 , -1.23420066,  0.09434122],\n",
       "       [-1.02181379, -1.202897  ,  0.20289058],\n",
       "       [ 1.50472337,  1.23179329,  1.67770049],\n",
       "       [ 1.18602318,  0.02356422,  0.21669702],\n",
       "       [ 0.70554619,  1.33437513, -0.31754553],\n",
       "       [ 0.01009737, -1.62948287,  0.05539471],\n",
       "       [ 0.56346396,  0.47317073, -0.40063711],\n",
       "       [ 1.48986416, -0.49032576, -1.63644784],\n",
       "       [-1.61787038, -0.62965614, -0.1073197 ],\n",
       "       [-1.26812741,  1.13730782, -1.3791681 ],\n",
       "       [-0.75956316, -0.73502642, -1.3572358 ],\n",
       "       [-1.6461253 , -1.3771472 ,  0.28905461],\n",
       "       [ 0.30843016,  1.18226883, -1.65023317],\n",
       "       [ 0.12318696,  0.85383548, -1.3572358 ],\n",
       "       [-1.28831146, -1.42394128, -0.68743455],\n",
       "       [-0.52157887, -1.28768913, -1.14609038],\n",
       "       [ 0.4165774 , -0.8624742 , -1.31443661],\n",
       "       [ 1.4675349 ,  1.18226883,  1.51739504],\n",
       "       [ 0.97562509, -0.92443675, -1.09108448]])"
      ]
     },
     "execution_count": 127,
     "metadata": {},
     "output_type": "execute_result"
    }
   ],
   "source": [
    "from sklearn.preprocessing import power_transform\n",
    "x=power_transform(x,method='yeo-johnson')\n",
    "x"
   ]
  },
  {
   "cell_type": "markdown",
   "id": "ef9024fc",
   "metadata": {},
   "source": [
    "Checking skewness after removing skewness"
   ]
  },
  {
   "cell_type": "code",
   "execution_count": 128,
   "id": "a551afe7",
   "metadata": {},
   "outputs": [
    {
     "data": {
      "text/plain": [
       "0   -0.320682\n",
       "1   -0.236668\n",
       "2   -0.101288\n",
       "dtype: float64"
      ]
     },
     "execution_count": 128,
     "metadata": {},
     "output_type": "execute_result"
    }
   ],
   "source": [
    "df_new=pd.DataFrame(x)\n",
    "df_new.skew()"
   ]
  },
  {
   "cell_type": "markdown",
   "id": "03afb23e",
   "metadata": {},
   "source": [
    "we see that there is no skewness present in the x after power transform"
   ]
  },
  {
   "cell_type": "code",
   "execution_count": 129,
   "id": "dbe60b1a",
   "metadata": {},
   "outputs": [],
   "source": [
    "from sklearn.linear_model import LinearRegression\n",
    "from sklearn.metrics import accuracy_score,classification_report, confusion_matrix\n",
    "from sklearn.model_selection import train_test_split, GridSearchCV, cross_val_score\n",
    "import warnings\n",
    "warnings.filterwarnings('ignore')"
   ]
  },
  {
   "cell_type": "code",
   "execution_count": 130,
   "id": "1ecb9bf9",
   "metadata": {},
   "outputs": [
    {
     "name": "stdout",
     "output_type": "stream",
     "text": [
      "lm.score= 0.9286416840749852 at random state= 183\n"
     ]
    }
   ],
   "source": [
    "lm=LinearRegression()\n",
    "m=0\n",
    "for i in range (0,200):\n",
    "    train_x,test_x,train_y,test_y=train_test_split(x,y,test_size=.35,random_state=i)\n",
    "    lm.fit(train_x,train_y)\n",
    "    p=lm.score(train_x,train_y)\n",
    "    if p>m:\n",
    "        m=p\n",
    "        n=i\n",
    "print('lm.score=',m,'at random state=',n)"
   ]
  },
  {
   "cell_type": "markdown",
   "id": "d9d9fea3",
   "metadata": {},
   "source": [
    "we get the best random_state value 183 for LinearRegression model.now we will creat our train_test_split using this random state"
   ]
  },
  {
   "cell_type": "code",
   "execution_count": 131,
   "id": "dada2d81",
   "metadata": {},
   "outputs": [],
   "source": [
    "train_x,test_x,train_y,test_y=train_test_split(x,y,test_size=.35,random_state=183)"
   ]
  },
  {
   "cell_type": "code",
   "execution_count": 132,
   "id": "4355bb84",
   "metadata": {},
   "outputs": [
    {
     "data": {
      "text/plain": [
       "array([[-0.52529469,  1.25638925,  1.02162839],\n",
       "       [ 1.13797152,  0.38008881, -0.13384051],\n",
       "       [ 0.60769456,  1.45886692,  1.1026083 ],\n",
       "       [-0.74778651,  0.35649509, -0.16609367],\n",
       "       [-0.49688394, -0.42315979,  0.59549238],\n",
       "       [ 0.34466429, -0.99747386,  0.44465771],\n",
       "       [ 0.80322028,  0.19357553, -1.59608414],\n",
       "       [ 0.72376009, -1.25539136, -0.32921092],\n",
       "       [ 0.2730788 ,  0.91704026, -1.21299201],\n",
       "       [ 1.13411664,  0.55865764, -0.27722588],\n",
       "       [-0.0382122 ,  1.16732335,  0.86006693],\n",
       "       [ 0.01904252, -1.65786243, -1.06432036],\n",
       "       [ 0.12318696,  0.85383548, -1.3572358 ],\n",
       "       [ 0.32550506, -1.06355551, -0.75931882],\n",
       "       [-1.61600701,  0.04924266,  1.01820721],\n",
       "       [ 0.30843016,  1.18226883, -1.65023317],\n",
       "       [ 0.49923329,  0.00418624, -0.18240095],\n",
       "       [-0.33228945, -0.46028254,  0.29350789],\n",
       "       [-0.59523084,  0.28489586,  1.72217946],\n",
       "       [ 0.14293428,  1.1473316 ,  1.28376774],\n",
       "       [-1.50472569, -0.71852874,  0.20289058],\n",
       "       [ 0.19855946, -1.56152179, -1.12752759],\n",
       "       [ 1.20134779,  0.36830859, -1.41277956],\n",
       "       [-1.49434751,  1.03090107, -1.03801781],\n",
       "       [ 0.7640894 ,  1.54819296,  0.54749686],\n",
       "       [-0.62808655,  0.86442562,  0.98031676],\n",
       "       [-1.82715302,  0.38596655, -1.88228781],\n",
       "       [-0.07782712, -0.16835339,  0.41936802],\n",
       "       [ 0.85411524,  0.74122791,  0.83104401],\n",
       "       [ 0.63022667, -1.44792482, -1.36815587],\n",
       "       [-1.72466475, -0.3430802 ,  0.99069777],\n",
       "       [ 0.652694  , -1.56152179, -0.22649933],\n",
       "       [ 0.93826742, -0.27204438,  0.0356758 ],\n",
       "       [-0.10400761, -1.202897  ,  0.27564704],\n",
       "       [ 0.8590884 ,  1.52012963, -1.70718676],\n",
       "       [-1.61787038, -0.62965614, -0.1073197 ],\n",
       "       [ 1.52419364,  1.19717332,  1.04546953],\n",
       "       [ 1.18602318,  0.02356422,  0.21669702],\n",
       "       [ 0.04802388,  0.50756488, -0.7740548 ],\n",
       "       [ 0.4165774 ,  0.73579933,  0.58755182],\n",
       "       [ 0.81022423,  0.16886223,  1.25534066],\n",
       "       [ 0.82021967,  1.16732335,  0.62310406],\n",
       "       [ 1.25764412,  1.21698291,  1.16198054],\n",
       "       [-1.52567125,  0.82725998,  1.50859232],\n",
       "       [-1.93163495, -0.66967326, -1.39027462],\n",
       "       [ 1.08385578,  1.52012963,  0.80172759],\n",
       "       [-1.00349358,  0.70309642, -0.10205346],\n",
       "       [ 0.09676151,  0.18741189, -0.346834  ],\n",
       "       [ 0.59023843,  0.84322253,  1.78244184],\n",
       "       [-0.72433929,  1.41607663,  0.41512911],\n",
       "       [-1.60118681, -0.05458158, -0.47470116],\n",
       "       [-0.52157887, -1.28768913, -1.14609038],\n",
       "       [ 1.40306351, -1.60181548, -0.09155822],\n",
       "       [ 0.72477076, -0.94246393,  0.04555612],\n",
       "       [ 1.44048829, -0.49032576,  0.51910011],\n",
       "       [-1.46187563, -1.70192244, -0.25453031],\n",
       "       [ 1.05376032, -1.04445327, -1.09108448],\n",
       "       [ 0.95598306,  0.9691098 ,  1.6041965 ],\n",
       "       [-0.76218508, -0.04143812,  0.32885333],\n",
       "       [ 0.5355598 , -0.18883181,  0.00577961],\n",
       "       [ 1.37490294,  0.48466558,  1.32128542],\n",
       "       [ 0.56346396,  0.47317073, -0.40063711],\n",
       "       [ 0.63022667,  0.15022331, -0.65947105],\n",
       "       [-1.6461253 ,  1.37296802,  1.60705249],\n",
       "       [ 1.06930594,  0.97946003, -0.11788987],\n",
       "       [-0.17634363,  0.8005392 , -0.78891695],\n",
       "       [-0.78718324, -0.2650278 , -0.75199725],\n",
       "       [ 0.8411713 , -1.23420066,  0.09434122],\n",
       "       [-0.87399682, -0.66162053,  0.51093113],\n",
       "       [-1.39528628,  0.23035564, -1.86501   ],\n",
       "       [ 1.04597746, -0.37195568,  0.08950799],\n",
       "       [-1.63286723,  0.95873855, -0.20433701],\n",
       "       [-1.21460127,  0.30890141, -0.2658475 ],\n",
       "       [ 0.8242145 ,  1.27598779,  0.08466485],\n",
       "       [-1.30867028,  1.0103861 ,  1.49976669],\n",
       "       [ 0.12428563, -1.74803521, -0.06036496],\n",
       "       [-1.26812741,  1.13730782, -1.3791681 ],\n",
       "       [ 1.05181524,  1.15733673, -0.38254334],\n",
       "       [ 1.05084254, -1.3771472 ,  0.51501874],\n",
       "       [ 0.4165774 , -0.8624742 , -1.31443661],\n",
       "       [ 0.35634693,  1.06660903,  0.54749686],\n",
       "       [ 0.00785902, -0.44537697, -0.96167639],\n",
       "       [-0.48090308, -1.01613619, -1.23269654],\n",
       "       [ 0.36906953, -0.18883181,  0.24861364],\n",
       "       [ 1.50472337,  1.23179329,  1.67770049],\n",
       "       [-0.02694246, -0.11434473, -0.50002298],\n",
       "       [-0.41751811,  0.52466135, -1.11833294],\n",
       "       [-0.84304109, -0.02834315, -0.39458775],\n",
       "       [-0.74778651, -1.83055994, -0.61831443],\n",
       "       [ 0.79019725,  0.23035564, -0.73744518],\n",
       "       [ 1.29846636, -0.06117169, -2.2758464 ],\n",
       "       [-1.19200349,  1.04623436,  0.83104401],\n",
       "       [-0.84572231, -0.8624742 , -2.12148202],\n",
       "       [-0.50304519, -1.7324148 , -1.21299201],\n",
       "       [ 0.8331959 ,  0.74122791,  1.29945293],\n",
       "       [-1.89822804,  0.54169198, -1.02934918],\n",
       "       [ 1.15818339,  0.90131402,  1.69166052],\n",
       "       [-0.32158879,  1.11216604,  1.42831665],\n",
       "       [ 1.02746612,  0.40355071, -0.89675177],\n",
       "       [-0.69844865, -1.98495808, -1.04673537],\n",
       "       [-0.20066619, -0.94246393,  0.95944652],\n",
       "       [ 0.29559622, -0.80214864, -0.43732278],\n",
       "       [ 0.95008184,  0.67566908,  1.7442111 ],\n",
       "       [ 0.89579959, -1.58822992, -0.56482448],\n",
       "       [ 1.27095405,  0.47892195, -0.54515187],\n",
       "       [-0.75956316, -0.73502642, -1.3572358 ],\n",
       "       [ 0.69642374,  0.70856268,  0.86367455],\n",
       "       [ 0.01009737, -1.62948287,  0.05539471],\n",
       "       [-0.20996049, -0.0876566 , -0.84968895],\n",
       "       [ 0.93531131,  0.96392681,  0.30682057],\n",
       "       [-1.75555556,  0.92227141,  0.83468776],\n",
       "       [-1.47377148,  0.71402259, -0.33506848],\n",
       "       [ 1.27285397, -1.44792482, -0.32336998],\n",
       "       [ 0.87994389, -1.35429375,  0.99759864],\n",
       "       [-1.1890052 ,  0.30291327, -0.26018131],\n",
       "       [-0.48458608, -1.71704857,  0.21669702],\n",
       "       [ 1.31077419,  1.27109462, -1.4708598 ],\n",
       "       [-0.08464536,  1.22192414,  0.16568658],\n",
       "       [-1.60487761, -0.33590351, -0.16609367],\n",
       "       [-0.44544938, -0.83642883, -1.65023317],\n",
       "       [ 0.86107685,  0.72492349,  0.55555544],\n",
       "       [-0.93674187, -0.59023588, -0.39458775],\n",
       "       [ 0.00673953, -0.46028254,  0.00577961],\n",
       "       [ 0.39655706,  0.10007132,  0.2845934 ],\n",
       "       [-0.14637764,  0.92227141,  1.87892616],\n",
       "       [-1.13560137,  1.42561279, -1.10919482],\n",
       "       [ 1.2946762 , -1.52253007,  0.7534411 ],\n",
       "       [-1.21308859,  0.35649509,  0.44045973]])"
      ]
     },
     "execution_count": 132,
     "metadata": {},
     "output_type": "execute_result"
    }
   ],
   "source": [
    "train_x"
   ]
  },
  {
   "cell_type": "code",
   "execution_count": 133,
   "id": "a65ddedf",
   "metadata": {},
   "outputs": [
    {
     "data": {
      "text/plain": [
       "156    15.3\n",
       "28     18.9\n",
       "15     22.4\n",
       "80     11.8\n",
       "144    11.4\n",
       "       ... \n",
       "45     14.9\n",
       "118    15.9\n",
       "135    11.6\n",
       "131    12.7\n",
       "38     10.1\n",
       "Name: sales, Length: 128, dtype: float64"
      ]
     },
     "execution_count": 133,
     "metadata": {},
     "output_type": "execute_result"
    }
   ],
   "source": [
    "train_y"
   ]
  },
  {
   "cell_type": "code",
   "execution_count": 134,
   "id": "6e853537",
   "metadata": {},
   "outputs": [
    {
     "data": {
      "text/plain": [
       "array([[-1.02181379, -1.202897  ,  0.20289058],\n",
       "       [-1.44333425, -1.71704857,  0.35069626],\n",
       "       [-1.6461253 , -1.3771472 ,  0.28905461],\n",
       "       [ 0.6435106 ,  1.53885314,  1.33059751],\n",
       "       [-1.65184774,  1.26619715,  2.13937255],\n",
       "       [ 1.48986416, -0.49032576, -1.63644784],\n",
       "       [ 0.52934487,  0.01065705, -1.02072873],\n",
       "       [ 0.47526481,  1.38737344,  1.29005095],\n",
       "       [ 1.40493806,  1.51543955,  0.70812926],\n",
       "       [ 0.75201155, -0.02181365, -0.9207956 ],\n",
       "       [-0.29552539, -0.23711359,  0.58357284],\n",
       "       [-0.25902053, -1.00678392, -0.12319395],\n",
       "       [ 0.87994389, -1.46007371, -0.73744518],\n",
       "       [-0.97412104, -0.63761079,  0.75718457],\n",
       "       [-0.39456576, -1.202897  ,  0.41088327],\n",
       "       [ 0.03020546,  0.36240602,  0.87087647],\n",
       "       [-1.72669682, -1.90334954,  0.00577961],\n",
       "       [ 1.02746612, -1.2660875 , -0.10205346],\n",
       "       [-1.82264543, -1.62948287, -2.09866461],\n",
       "       [-0.85377796,  1.30525722,  0.46138274],\n",
       "       [-1.8204008 ,  1.51543955,  1.76610727],\n",
       "       [ 0.49923329,  1.27598779, -1.95484304],\n",
       "       [-1.85241088,  0.43850198,  0.6928619 ],\n",
       "       [ 1.47405264, -0.75163452, -1.31443661],\n",
       "       [-0.76480878,  0.82192754,  1.09594084],\n",
       "       [ 0.76308359,  0.51896989, -1.03801781],\n",
       "       [ 1.44702338,  1.06152278,  1.19771741],\n",
       "       [-1.11073781, -0.66967326, -0.38855655],\n",
       "       [ 0.99913782, -1.46007371,  2.02414625],\n",
       "       [-0.77006157,  1.53885314,  0.85283827],\n",
       "       [ 0.97562509, -0.92443675, -1.09108448],\n",
       "       [ 0.652694  , -1.49718987,  0.41936802],\n",
       "       [ 0.2709304 ,  0.63699688,  1.1026083 ],\n",
       "       [-0.74909326,  0.40355071, -0.53863938],\n",
       "       [ 1.03526502,  0.78443582, -1.43568966],\n",
       "       [ 0.91360226, -0.96064272,  1.22025052],\n",
       "       [ 0.84017479,  0.41523303,  1.11921444],\n",
       "       [ 1.53345233, -1.3771472 , -1.10919482],\n",
       "       [ 0.64555228,  0.58117899,  0.58755182],\n",
       "       [-0.56887482, -1.92277996, -0.11788987],\n",
       "       [ 1.4675349 ,  1.18226883,  1.51739504],\n",
       "       [ 0.92742341, -0.35027362,  1.00104316],\n",
       "       [ 0.70554619,  1.33437513, -0.31754553],\n",
       "       [ 1.55379249,  0.45008922,  0.76092313],\n",
       "       [-1.84082856,  1.02577993,  1.02504572],\n",
       "       [-0.60910057, -0.65359273,  0.02077604],\n",
       "       [-1.29143203,  1.09702388, -0.82664429],\n",
       "       [-0.24495734, -0.43054692, -1.42418272],\n",
       "       [ 1.43581778, -0.79365568, -0.21538949],\n",
       "       [ 0.53038105, -0.25104051, -0.41889554],\n",
       "       [-0.00783277,  1.39695704,  1.29945293],\n",
       "       [-1.06021399, -1.64357954, -0.21538949],\n",
       "       [-1.50299171,  0.29691633,  0.76465678],\n",
       "       [ 0.79119975,  1.23179329,  0.38526098],\n",
       "       [-0.20647326,  0.46164538, -0.65947105],\n",
       "       [-0.36093577, -0.4827855 , -0.90472726],\n",
       "       [-1.28831146, -1.42394128, -0.68743455],\n",
       "       [ 0.68018031,  0.08742886,  0.28905461],\n",
       "       [-0.88482761, -1.19258569, -0.06553382],\n",
       "       [-0.33228945,  1.4636021 ,  1.05224719],\n",
       "       [ 1.56025605,  0.41523303, -1.93614969],\n",
       "       [-0.82432769, -0.33590351,  0.66980347],\n",
       "       [ 0.28381064, -0.00229617,  0.91372099],\n",
       "       [ 0.40288531, -0.37921745, -1.83137048],\n",
       "       [-2.03323356,  1.06152278, -1.09108448],\n",
       "       [ 1.05376032, -0.28612399, -0.13384051],\n",
       "       [ 0.45645241, -0.73502642,  1.28062154],\n",
       "       [-0.5776425 , -0.81067203,  0.46554742],\n",
       "       [ 0.58509675, -0.16835339,  1.50271112],\n",
       "       [-0.04837336, -1.28768913, -1.03801781]])"
      ]
     },
     "execution_count": 134,
     "metadata": {},
     "output_type": "execute_result"
    }
   ],
   "source": [
    "test_x"
   ]
  },
  {
   "cell_type": "code",
   "execution_count": 135,
   "id": "5436f29a",
   "metadata": {},
   "outputs": [
    {
     "data": {
      "text/plain": [
       "182     8.7\n",
       "91      7.3\n",
       "192     5.9\n",
       "55     23.7\n",
       "75      8.7\n",
       "       ... \n",
       "27     15.9\n",
       "4      12.9\n",
       "46     10.6\n",
       "85     15.2\n",
       "90     11.2\n",
       "Name: sales, Length: 70, dtype: float64"
      ]
     },
     "execution_count": 135,
     "metadata": {},
     "output_type": "execute_result"
    }
   ],
   "source": [
    "test_y"
   ]
  },
  {
   "cell_type": "code",
   "execution_count": 136,
   "id": "de1a788a",
   "metadata": {},
   "outputs": [
    {
     "data": {
      "text/plain": [
       "(128, 3)"
      ]
     },
     "execution_count": 136,
     "metadata": {},
     "output_type": "execute_result"
    }
   ],
   "source": [
    "train_x.shape"
   ]
  },
  {
   "cell_type": "code",
   "execution_count": 137,
   "id": "72a0e38e",
   "metadata": {},
   "outputs": [
    {
     "data": {
      "text/plain": [
       "(70, 3)"
      ]
     },
     "execution_count": 137,
     "metadata": {},
     "output_type": "execute_result"
    }
   ],
   "source": [
    "test_x.shape"
   ]
  },
  {
   "cell_type": "code",
   "execution_count": 138,
   "id": "539eeb80",
   "metadata": {},
   "outputs": [
    {
     "data": {
      "text/plain": [
       "(128,)"
      ]
     },
     "execution_count": 138,
     "metadata": {},
     "output_type": "execute_result"
    }
   ],
   "source": [
    "train_y.shape"
   ]
  },
  {
   "cell_type": "code",
   "execution_count": 139,
   "id": "d45fe277",
   "metadata": {},
   "outputs": [
    {
     "data": {
      "text/plain": [
       "(70,)"
      ]
     },
     "execution_count": 139,
     "metadata": {},
     "output_type": "execute_result"
    }
   ],
   "source": [
    "test_y.shape"
   ]
  },
  {
   "cell_type": "code",
   "execution_count": 140,
   "id": "c236027e",
   "metadata": {},
   "outputs": [
    {
     "data": {
      "text/plain": [
       "0.9286416840749852"
      ]
     },
     "execution_count": 140,
     "metadata": {},
     "output_type": "execute_result"
    }
   ],
   "source": [
    "lm=LinearRegression()\n",
    "lm.fit(train_x,train_y)\n",
    "lm.score(train_x,train_y)"
   ]
  },
  {
   "cell_type": "code",
   "execution_count": 141,
   "id": "cfd9deb8",
   "metadata": {},
   "outputs": [
    {
     "data": {
      "text/plain": [
       "array([ 4.05741191,  2.94246704, -0.02336676])"
      ]
     },
     "execution_count": 141,
     "metadata": {},
     "output_type": "execute_result"
    }
   ],
   "source": [
    "lm.coef_"
   ]
  },
  {
   "cell_type": "code",
   "execution_count": 142,
   "id": "d8199c76",
   "metadata": {},
   "outputs": [
    {
     "data": {
      "text/plain": [
       "13.995680529449656"
      ]
     },
     "execution_count": 142,
     "metadata": {},
     "output_type": "execute_result"
    }
   ],
   "source": [
    "lm.intercept_"
   ]
  },
  {
   "cell_type": "markdown",
   "id": "74cf14df",
   "metadata": {},
   "source": [
    "Error of Llinear regression Model"
   ]
  },
  {
   "cell_type": "code",
   "execution_count": 143,
   "id": "0e90a5dd",
   "metadata": {},
   "outputs": [
    {
     "name": "stdout",
     "output_type": "stream",
     "text": [
      "ERROR: \n",
      "\n",
      "Mean Absolute Error:  1.5284871170574899 \n",
      "\n",
      "Mean Squared Error:  3.9445318508089975 \n",
      "\n",
      "Root Mean Squared Error:  1.236319989750829 \n",
      "\n"
     ]
    }
   ],
   "source": [
    "print('ERROR:','\\n')\n",
    "from sklearn.metrics import mean_absolute_error,mean_squared_error\n",
    "predlm=lm.predict(test_x)\n",
    "print('Mean Absolute Error: ',mean_absolute_error(test_y,predlm),'\\n')\n",
    "print('Mean Squared Error: ',mean_squared_error(test_y,predlm),'\\n')\n",
    "print('Root Mean Squared Error: ',np.sqrt(mean_absolute_error(test_y,predlm)),'\\n')"
   ]
  },
  {
   "cell_type": "code",
   "execution_count": 144,
   "id": "a2580fe0",
   "metadata": {},
   "outputs": [
    {
     "name": "stdout",
     "output_type": "stream",
     "text": [
      "0.8604517676477097\n"
     ]
    }
   ],
   "source": [
    "#checking r2 score\n",
    "from sklearn.metrics import r2_score\n",
    "print(r2_score(test_y,predlm))"
   ]
  },
  {
   "cell_type": "code",
   "execution_count": 145,
   "id": "8902dadc",
   "metadata": {},
   "outputs": [
    {
     "name": "stdout",
     "output_type": "stream",
     "text": [
      "cross validation score of Linear Regression is = 0.8938982316418994\n"
     ]
    }
   ],
   "source": [
    "#checking cross val score of the LinearRegression model\n",
    "from sklearn.model_selection import cross_val_score\n",
    "scr=cross_val_score(lm,x,y,cv=9)\n",
    "print(\"cross validation score of Linear Regression is =\",scr.mean())"
   ]
  },
  {
   "cell_type": "markdown",
   "id": "93ebd48d",
   "metadata": {},
   "source": [
    "since cross validation score and r2 score are almost same ,we are heading with a good approach"
   ]
  },
  {
   "cell_type": "code",
   "execution_count": 146,
   "id": "a4dddb8b",
   "metadata": {},
   "outputs": [
    {
     "data": {
      "text/plain": [
       "{'fit_intercept': 'True', 'n_jobs': 2, 'positive': 'True'}"
      ]
     },
     "execution_count": 146,
     "metadata": {},
     "output_type": "execute_result"
    }
   ],
   "source": [
    "#creating parameter list to pass in GreadSearchCV\n",
    "parameters={'fit_intercept':['True','False'],'n_jobs':[2,3,4,5,6,7,8,9],'positive':['True','False']}\n",
    "gcv=GridSearchCV(LinearRegression(),parameters,cv=5,scoring='accuracy')\n",
    "gcv.fit(train_x,train_y)\n",
    "gcv.best_params_"
   ]
  },
  {
   "cell_type": "code",
   "execution_count": 147,
   "id": "af2b5af5",
   "metadata": {},
   "outputs": [
    {
     "data": {
      "text/plain": [
       "LinearRegression(fit_intercept='True', n_jobs=2, positive='True')"
      ]
     },
     "execution_count": 147,
     "metadata": {},
     "output_type": "execute_result"
    }
   ],
   "source": [
    "gcv.best_estimator_"
   ]
  },
  {
   "cell_type": "code",
   "execution_count": 148,
   "id": "654dc241",
   "metadata": {},
   "outputs": [
    {
     "data": {
      "text/plain": [
       "0.8608588994639526"
      ]
     },
     "execution_count": 148,
     "metadata": {},
     "output_type": "execute_result"
    }
   ],
   "source": [
    "lm_new=LinearRegression(fit_intercept='True', n_jobs=2, positive='True')\n",
    "lm_new.fit(train_x,train_y)\n",
    "pred=lm_new.predict(test_x)\n",
    "r2_score(test_y,pred)"
   ]
  },
  {
   "cell_type": "code",
   "execution_count": 149,
   "id": "a3193ac7",
   "metadata": {},
   "outputs": [
    {
     "name": "stdout",
     "output_type": "stream",
     "text": [
      "cross validation score of Linear Regression is = 0.8938982316418994\n"
     ]
    }
   ],
   "source": [
    "scr=cross_val_score(lm_new,x,y,cv=9)\n",
    "print(\"cross validation score of Linear Regression is =\",scr.mean())"
   ]
  },
  {
   "cell_type": "code",
   "execution_count": null,
   "id": "4f37b5e6",
   "metadata": {},
   "outputs": [],
   "source": [
    "#saving the model\n",
    "import joblib\n",
    "joblib.dump(lm,\"Advertising Sales Channel Prediction Model.pkl\")"
   ]
  },
  {
   "cell_type": "code",
   "execution_count": null,
   "id": "1caabc6f",
   "metadata": {},
   "outputs": [],
   "source": []
  }
 ],
 "metadata": {
  "kernelspec": {
   "display_name": "Python 3",
   "language": "python",
   "name": "python3"
  },
  "language_info": {
   "codemirror_mode": {
    "name": "ipython",
    "version": 3
   },
   "file_extension": ".py",
   "mimetype": "text/x-python",
   "name": "python",
   "nbconvert_exporter": "python",
   "pygments_lexer": "ipython3",
   "version": "3.8.8"
  }
 },
 "nbformat": 4,
 "nbformat_minor": 5
}
